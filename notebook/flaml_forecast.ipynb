{
 "cells": [
  {
   "cell_type": "markdown",
   "source": [
    "# Time Series Forecasting with FLAML Library"
   ],
   "metadata": {}
  },
  {
   "cell_type": "markdown",
   "source": [
    "## 1. Introduction\n",
    "\n",
    "FLAML is a Python library (https://github.com/microsoft/FLAML) designed to automatically produce accurate machine learning models with low computational cost. It is fast and cheap. The simple and lightweight design makes it easy to use and extend, such as adding new learners. FLAML can\n",
    "\n",
    " - serve as an economical AutoML engine,\n",
    " - be used as a fast hyperparameter tuning tool, or\n",
    " - be embedded in self-tuning software that requires low latency & resource in repetitive tuning tasks.\n",
    " - In this notebook, we demonstrate how to use FLAML library to tune hyperparameters of XGBoost with a regression example.\n",
    "\n",
    "FLAML requires Python>=3.6. To run this notebook example, please install flaml with the notebook and forecast option:\n"
   ],
   "metadata": {}
  },
  {
   "cell_type": "code",
   "execution_count": null,
   "source": [
    "!pip install flaml[notebook,forecast]"
   ],
   "outputs": [],
   "metadata": {}
  },
  {
   "cell_type": "markdown",
   "source": [
    "## 2. Forecast Problem\r\n",
    "\r\n",
    "### Load data and preprocess\r\n",
    "\r\n",
    "Import co2 data from statsmodel. The dataset is from “Atmospheric CO2 from Continuous Air Samples at Mauna Loa Observatory, Hawaii, U.S.A.,” which collected CO2 samples from March 1958 to December 2001. The task is to predict monthly CO2 samples."
   ],
   "metadata": {}
  },
  {
   "cell_type": "code",
   "execution_count": null,
   "source": [
    "import statsmodels.api as sm\r\n",
    "data = sm.datasets.co2.load_pandas()\r\n",
    "data = data.data\r\n",
    "# data is given in weeks, but the task is to predict monthly, so use monthly averages instead\r\n",
    "data = data['co2'].resample('MS').mean()\r\n",
    "data = data.fillna(data.bfill())  # makes sure there are no missing values\r\n",
    "data = data.to_frame().reset_index()\r\n",
    "# data = data.rename(columns={'index': 'ds', 'co2': 'y'})"
   ],
   "outputs": [],
   "metadata": {}
  },
  {
   "cell_type": "code",
   "execution_count": null,
   "source": [
    "# split the data into a train dataframe and X_test and y_test dataframes, where the number of samples for test is equal to\r\n",
    "# the number of periods the user wants to predict\r\n",
    "num_samples = data.shape[0]\r\n",
    "time_horizon = 12\r\n",
    "split_idx = num_samples - time_horizon\r\n",
    "X_train = data[:split_idx]  # X_train is a dataframe with two columns: time and value\r\n",
    "X_test = data[split_idx:]['index'].to_frame('ds')  # X_test is a dataframe with dates for prediction\r\n",
    "y_test = data[split_idx:]['co2']  # y_test is a series of the values corresponding to the dates for prediction"
   ],
   "outputs": [],
   "metadata": {}
  },
  {
   "cell_type": "markdown",
   "source": [
    "### Run FLAML\r\n",
    "\r\n",
    "In the FLAML automl run configuration, users can specify the task type, time budget, error metric, learner list, whether to subsample, resampling strategy type, and so on. All these arguments have default values which will be used if users do not provide them."
   ],
   "metadata": {}
  },
  {
   "cell_type": "code",
   "execution_count": null,
   "source": [
    "''' import AutoML class from flaml package '''\r\n",
    "from flaml import AutoML\r\n",
    "automl = AutoML()"
   ],
   "outputs": [],
   "metadata": {}
  },
  {
   "cell_type": "code",
   "execution_count": null,
   "source": [
    "settings = {\r\n",
    "    \"time_budget\": 180,  # total running time in seconds\r\n",
    "    \"metric\": 'mape',  # primary metric for validation: 'mape' is generally used for forecast tasks\r\n",
    "    \"task\": 'ts_forecast',  # task type\r\n",
    "    \"log_file_name\": 'CO2_forecast.log',  # flaml log file\r\n",
    "    \"eval_method\": \"holdout\",  # validation method can be chosen from ['auto', 'holdout', 'cv']\r\n",
    "    \"seed\": 7654321,  # random seed\r\n",
    "}"
   ],
   "outputs": [],
   "metadata": {}
  },
  {
   "cell_type": "code",
   "execution_count": null,
   "source": [
    "'''The main flaml automl API'''\r\n",
    "automl.fit(dataframe=X_train,  # training data\r\n",
    "           label='co2',  # For 'forecast' task, label should be a tuple of strings for timestamp and value columns\r\n",
    "           **settings, \r\n",
    "           period=time_horizon)  # key word argument 'period' must be included for forecast task)"
   ],
   "outputs": [],
   "metadata": {}
  },
  {
   "cell_type": "markdown",
   "source": [
    "### Best model and metric"
   ],
   "metadata": {}
  },
  {
   "cell_type": "code",
   "execution_count": null,
   "source": [
    "''' retrieve best config and best learner'''\r\n",
    "print('Best ML leaner:', automl.best_estimator)\r\n",
    "print('Best hyperparmeter config:', automl.best_config)\r\n",
    "print(f'Best mape on validation data: {automl.best_loss}')\r\n",
    "print(f'Training duration of best run: {automl.best_config_train_time}s')"
   ],
   "outputs": [],
   "metadata": {}
  },
  {
   "cell_type": "code",
   "execution_count": null,
   "source": [
    "print(automl.model.estimator)"
   ],
   "outputs": [],
   "metadata": {}
  },
  {
   "cell_type": "code",
   "execution_count": null,
   "source": [
    "''' pickle and save the automl object '''\r\n",
    "import pickle\r\n",
    "with open('automl.pkl', 'wb') as f:\r\n",
    "    pickle.dump(automl, f, pickle.HIGHEST_PROTOCOL)"
   ],
   "outputs": [],
   "metadata": {}
  },
  {
   "cell_type": "code",
   "execution_count": null,
   "source": [
    "''' compute predictions of testing dataset '''\r\n",
    "flaml_y_pred = automl.predict(X_test)\r\n",
    "print('Predicted labels', flaml_y_pred)\r\n",
    "print('True labels', y_test)"
   ],
   "outputs": [],
   "metadata": {}
  },
  {
   "cell_type": "code",
   "execution_count": null,
   "source": [
    "''' compute different metric values on testing dataset'''\r\n",
    "from flaml.ml import sklearn_metric_loss_score\r\n",
    "print('mape', '=', sklearn_metric_loss_score('mape', flaml_y_pred, y_test))"
   ],
   "outputs": [],
   "metadata": {}
  },
  {
   "cell_type": "markdown",
   "source": [
    "### Log history"
   ],
   "metadata": {}
  },
  {
   "cell_type": "code",
   "execution_count": null,
   "source": [
    "from flaml.data import get_output_from_log\r\n",
    "time_history, best_valid_loss_history, valid_loss_history, config_history, train_loss_history = \\\r\n",
    "    get_output_from_log(filename=settings['log_file_name'], time_budget=180)\r\n",
    "\r\n",
    "for config in config_history:\r\n",
    "    print(config)"
   ],
   "outputs": [],
   "metadata": {}
  },
  {
   "cell_type": "code",
   "execution_count": null,
   "source": [
    "import matplotlib.pyplot as plt\r\n",
    "import numpy as np\r\n",
    "\r\n",
    "plt.title('Learning Curve')\r\n",
    "plt.xlabel('Wall Clock Time (s)')\r\n",
    "plt.ylabel('Validation Accuracy')\r\n",
    "plt.scatter(time_history, 1 - np.array(valid_loss_history))\r\n",
    "plt.step(time_history, 1 - np.array(best_valid_loss_history), where='post')\r\n",
    "plt.show()"
   ],
   "outputs": [],
   "metadata": {}
  },
  {
   "cell_type": "code",
   "execution_count": null,
   "source": [
    "import matplotlib.pyplot as plt\r\n",
    "plt.plot(X_test, y_test, label='Actual level')\r\n",
    "plt.plot(X_test, flaml_y_pred, label='FLAML forecast')\r\n",
    "plt.xlabel('Date')\r\n",
    "plt.ylabel('CO2 Levels')\r\n",
    "plt.legend()"
   ],
   "outputs": [],
   "metadata": {}
  }
 ],
 "metadata": {
  "kernelspec": {
   "name": "python3",
   "display_name": "Python 3.8.10 64-bit ('python38': conda)"
  },
  "language_info": {
   "name": "python",
   "version": "3.8.10",
   "mimetype": "text/x-python",
   "codemirror_mode": {
    "name": "ipython",
    "version": 3
   },
   "pygments_lexer": "ipython3",
   "nbconvert_exporter": "python",
   "file_extension": ".py"
  },
  "interpreter": {
   "hash": "8b6c8c3ba4bafbc4530f534c605c8412f25bf61ef13254e4f377ccd42b838aa4"
  }
 },
 "nbformat": 4,
 "nbformat_minor": 2
}