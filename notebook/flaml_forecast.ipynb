{
 "cells": [
  {
   "cell_type": "markdown",
   "source": [
    "# Time Series Forecasting with FLAML Library"
   ],
   "metadata": {}
  },
  {
   "cell_type": "markdown",
   "source": [
    "## 1. Introduction\r\n",
    "\r\n",
    "FLAML is a Python library (https://github.com/microsoft/FLAML) designed to automatically produce accurate machine learning models with low computational cost. It is fast and cheap. The simple and lightweight design makes it easy to use and extend, such as adding new learners. FLAML can\r\n",
    "\r\n",
    " - serve as an economical AutoML engine,\r\n",
    " - be used as a fast hyperparameter tuning tool, or\r\n",
    " - be embedded in self-tuning software that requires low latency & resource in repetitive tuning tasks.\r\n",
    " - In this notebook, we demonstrate how to use FLAML library to tune hyperparameters of XGBoost with a regression example.\r\n",
    "\r\n",
    "FLAML requires Python>=3.6. To run this notebook example, please install flaml with the notebook option:\r\n",
    "\r\n",
    "> pip install flaml[notebook]"
   ],
   "metadata": {}
  },
  {
   "cell_type": "code",
   "execution_count": null,
   "source": [
    "!pip install flaml[notebook, forecast]"
   ],
   "outputs": [],
   "metadata": {}
  },
  {
   "cell_type": "markdown",
   "source": [
    "## 2. Forecast Problem\r\n",
    "\r\n",
    "### Load data and preprocess\r\n",
    "\r\n",
    "Import co2 data from statsmodel. The dataset is from “Atmospheric CO2 from Continuous Air Samples at Mauna Loa Observatory, Hawaii, U.S.A.,” which collected CO2 samples from March 1958 to December 2001. The task is to predict monthly CO2 samples."
   ],
   "metadata": {}
  },
  {
   "cell_type": "code",
   "execution_count": 1,
   "source": [
    "import statsmodels.api as sm\r\n",
    "data = sm.datasets.co2.load_pandas()\r\n",
    "data = data.data\r\n",
    "# data is given in weeks, but the task is to predict monthly, so use monthly averages instead\r\n",
    "data = data['co2'].resample('MS').mean()\r\n",
    "data = data.fillna(data.bfill())  # makes sure there are no missing values\r\n",
    "data = data.to_frame().reset_index()\r\n",
    "# data = data.rename(columns={'index': 'ds', 'co2': 'y'})"
   ],
   "outputs": [],
   "metadata": {}
  },
  {
   "cell_type": "code",
   "execution_count": 2,
   "source": [
    "# split the data into a train dataframe and X_test and y_test dataframes, where the number of samples for test is equal to\r\n",
    "# the number of periods the user wants to predict\r\n",
    "num_samples = data.shape[0]\r\n",
    "time_horizon = 12\r\n",
    "split_idx = num_samples - time_horizon\r\n",
    "X_train = data[:split_idx]  # X_train is a dataframe with two columns: time and value\r\n",
    "X_test = data[split_idx:]['index'].to_frame()  # X_test is a dataframe with dates for prediction\r\n",
    "y_test = data[split_idx:]['co2']  # y_test is a series of the values corresponding to the dates for prediction"
   ],
   "outputs": [],
   "metadata": {}
  },
  {
   "cell_type": "markdown",
   "source": [
    "### Run FLAML\r\n",
    "\r\n",
    "In the FLAML automl run configuration, users can specify the task type, time budget, error metric, learner list, whether to subsample, resampling strategy type, and so on. All these arguments have default values which will be used if users do not provide them."
   ],
   "metadata": {}
  },
  {
   "cell_type": "code",
   "execution_count": 3,
   "source": [
    "''' import AutoML class from flaml package '''\r\n",
    "from flaml import AutoML\r\n",
    "automl = AutoML()"
   ],
   "outputs": [],
   "metadata": {}
  },
  {
   "cell_type": "code",
   "execution_count": 4,
   "source": [
    "settings = {\r\n",
    "    \"time_budget\": 180,  # total running time in seconds\r\n",
    "    \"metric\": 'mape',  # primary metric for validation: 'mape' is generally used for forecast tasks\r\n",
    "    \"task\": 'forecast',  # task type\r\n",
    "    \"log_file_name\": 'CO2_forecast.log',  # flaml log file\r\n",
    "    \"eval_method\": \"holdout\", # validation method can be chosen from ['auto', 'holdout', 'cv']\r\n",
    "    \"split_type\": 'time' # for foretask task, 'split_type' has to be 'time'\r\n",
    "}"
   ],
   "outputs": [],
   "metadata": {}
  },
  {
   "cell_type": "code",
   "execution_count": 5,
   "source": [
    "'''The main flaml automl API'''\r\n",
    "automl.fit(dataframe=X_train,  # training data\r\n",
    "           label=('index', 'co2'),  # For 'forecast' task, label should be a tuple of strings for timestamp and value columns\r\n",
    "           **settings, \r\n",
    "           period=time_horizon,  # key word argument 'period' must be included for forecast task\r\n",
    "           freq='M')"
   ],
   "outputs": [
    {
     "output_type": "stream",
     "name": "stderr",
     "text": [
      "[flaml.automl: 08-30 13:35:18] {1209} INFO - Evaluation method: holdout\n",
      "[flaml.automl: 08-30 13:35:18] {686} INFO - Using TimeSeriesSplit\n",
      "[flaml.automl: 08-30 13:35:18] {1237} INFO - Minimizing error metric: mape\n",
      "[flaml.automl: 08-30 13:35:18] {1259} INFO - List of ML learners in AutoML Run: ['fbprophet', 'arima', 'sarimax']\n",
      "[flaml.automl: 08-30 13:35:18] {1349} INFO - iteration 0, current learner fbprophet\n",
      "INFO:prophet:Disabling weekly seasonality. Run prophet with weekly_seasonality=True to override this.\n",
      "INFO:prophet:Disabling daily seasonality. Run prophet with daily_seasonality=True to override this.\n",
      "[flaml.automl: 08-30 13:35:24] {1502} INFO -  at 6.2s,\tbest fbprophet's error=0.0007,\tbest fbprophet's error=0.0007\n",
      "INFO:flaml.automl: at 6.2s,\tbest fbprophet's error=0.0007,\tbest fbprophet's error=0.0007\n",
      "[flaml.automl: 08-30 13:35:24] {1349} INFO - iteration 1, current learner fbprophet\n",
      "INFO:flaml.automl:iteration 1, current learner fbprophet\n",
      "INFO:prophet:Disabling weekly seasonality. Run prophet with weekly_seasonality=True to override this.\n",
      "INFO:prophet:Disabling daily seasonality. Run prophet with daily_seasonality=True to override this.\n",
      "[flaml.automl: 08-30 13:35:28] {1502} INFO -  at 9.9s,\tbest fbprophet's error=0.0006,\tbest fbprophet's error=0.0006\n",
      "INFO:flaml.automl: at 9.9s,\tbest fbprophet's error=0.0006,\tbest fbprophet's error=0.0006\n",
      "[flaml.automl: 08-30 13:35:28] {1349} INFO - iteration 2, current learner fbprophet\n",
      "INFO:flaml.automl:iteration 2, current learner fbprophet\n",
      "INFO:prophet:Disabling weekly seasonality. Run prophet with weekly_seasonality=True to override this.\n",
      "INFO:prophet:Disabling daily seasonality. Run prophet with daily_seasonality=True to override this.\n",
      "[flaml.automl: 08-30 13:35:31] {1502} INFO -  at 12.9s,\tbest fbprophet's error=0.0006,\tbest fbprophet's error=0.0006\n",
      "INFO:flaml.automl: at 12.9s,\tbest fbprophet's error=0.0006,\tbest fbprophet's error=0.0006\n",
      "[flaml.automl: 08-30 13:35:31] {1349} INFO - iteration 3, current learner fbprophet\n",
      "INFO:flaml.automl:iteration 3, current learner fbprophet\n",
      "INFO:prophet:Disabling weekly seasonality. Run prophet with weekly_seasonality=True to override this.\n",
      "INFO:prophet:Disabling daily seasonality. Run prophet with daily_seasonality=True to override this.\n",
      "[flaml.automl: 08-30 13:35:35] {1502} INFO -  at 16.9s,\tbest fbprophet's error=0.0006,\tbest fbprophet's error=0.0006\n",
      "INFO:flaml.automl: at 16.9s,\tbest fbprophet's error=0.0006,\tbest fbprophet's error=0.0006\n",
      "[flaml.automl: 08-30 13:35:35] {1349} INFO - iteration 4, current learner fbprophet\n",
      "INFO:flaml.automl:iteration 4, current learner fbprophet\n",
      "INFO:prophet:Disabling weekly seasonality. Run prophet with weekly_seasonality=True to override this.\n",
      "INFO:prophet:Disabling daily seasonality. Run prophet with daily_seasonality=True to override this.\n",
      "[flaml.automl: 08-30 13:35:37] {1502} INFO -  at 19.1s,\tbest fbprophet's error=0.0006,\tbest fbprophet's error=0.0006\n",
      "INFO:flaml.automl: at 19.1s,\tbest fbprophet's error=0.0006,\tbest fbprophet's error=0.0006\n",
      "[flaml.automl: 08-30 13:35:37] {1349} INFO - iteration 5, current learner arima\n",
      "INFO:flaml.automl:iteration 5, current learner arima\n",
      "[flaml.automl: 08-30 13:35:38] {1502} INFO -  at 19.9s,\tbest arima's error=0.0120,\tbest fbprophet's error=0.0006\n",
      "INFO:flaml.automl: at 19.9s,\tbest arima's error=0.0120,\tbest fbprophet's error=0.0006\n",
      "[flaml.automl: 08-30 13:35:38] {1349} INFO - iteration 6, current learner fbprophet\n",
      "INFO:flaml.automl:iteration 6, current learner fbprophet\n",
      "INFO:prophet:Disabling weekly seasonality. Run prophet with weekly_seasonality=True to override this.\n",
      "INFO:prophet:Disabling daily seasonality. Run prophet with daily_seasonality=True to override this.\n",
      "[flaml.automl: 08-30 13:35:41] {1502} INFO -  at 23.4s,\tbest fbprophet's error=0.0005,\tbest fbprophet's error=0.0005\n",
      "INFO:flaml.automl: at 23.4s,\tbest fbprophet's error=0.0005,\tbest fbprophet's error=0.0005\n",
      "[flaml.automl: 08-30 13:35:41] {1349} INFO - iteration 7, current learner fbprophet\n",
      "INFO:flaml.automl:iteration 7, current learner fbprophet\n",
      "INFO:prophet:Disabling weekly seasonality. Run prophet with weekly_seasonality=True to override this.\n",
      "INFO:prophet:Disabling daily seasonality. Run prophet with daily_seasonality=True to override this.\n",
      "[flaml.automl: 08-30 13:35:45] {1502} INFO -  at 26.9s,\tbest fbprophet's error=0.0005,\tbest fbprophet's error=0.0005\n",
      "INFO:flaml.automl: at 26.9s,\tbest fbprophet's error=0.0005,\tbest fbprophet's error=0.0005\n",
      "[flaml.automl: 08-30 13:35:45] {1349} INFO - iteration 8, current learner arima\n",
      "INFO:flaml.automl:iteration 8, current learner arima\n",
      "[flaml.automl: 08-30 13:35:47] {1502} INFO -  at 28.9s,\tbest arima's error=0.0046,\tbest fbprophet's error=0.0005\n",
      "INFO:flaml.automl: at 28.9s,\tbest arima's error=0.0046,\tbest fbprophet's error=0.0005\n",
      "[flaml.automl: 08-30 13:35:47] {1349} INFO - iteration 9, current learner arima\n",
      "INFO:flaml.automl:iteration 9, current learner arima\n",
      "[flaml.automl: 08-30 13:35:48] {1502} INFO -  at 29.5s,\tbest arima's error=0.0046,\tbest fbprophet's error=0.0005\n",
      "INFO:flaml.automl: at 29.5s,\tbest arima's error=0.0046,\tbest fbprophet's error=0.0005\n",
      "[flaml.automl: 08-30 13:35:48] {1349} INFO - iteration 10, current learner arima\n",
      "INFO:flaml.automl:iteration 10, current learner arima\n",
      "[flaml.automl: 08-30 13:35:50] {1502} INFO -  at 31.7s,\tbest arima's error=0.0022,\tbest fbprophet's error=0.0005\n",
      "INFO:flaml.automl: at 31.7s,\tbest arima's error=0.0022,\tbest fbprophet's error=0.0005\n",
      "[flaml.automl: 08-30 13:35:50] {1349} INFO - iteration 11, current learner arima\n",
      "INFO:flaml.automl:iteration 11, current learner arima\n",
      "[flaml.automl: 08-30 13:35:52] {1502} INFO -  at 33.5s,\tbest arima's error=0.0022,\tbest fbprophet's error=0.0005\n",
      "INFO:flaml.automl: at 33.5s,\tbest arima's error=0.0022,\tbest fbprophet's error=0.0005\n",
      "[flaml.automl: 08-30 13:35:52] {1349} INFO - iteration 12, current learner sarimax\n",
      "INFO:flaml.automl:iteration 12, current learner sarimax\n",
      "[flaml.automl: 08-30 13:35:52] {1502} INFO -  at 34.2s,\tbest sarimax's error=0.0120,\tbest fbprophet's error=0.0005\n",
      "INFO:flaml.automl: at 34.2s,\tbest sarimax's error=0.0120,\tbest fbprophet's error=0.0005\n",
      "[flaml.automl: 08-30 13:35:52] {1349} INFO - iteration 13, current learner sarimax\n",
      "INFO:flaml.automl:iteration 13, current learner sarimax\n",
      "[flaml.automl: 08-30 13:35:53] {1502} INFO -  at 34.9s,\tbest sarimax's error=0.0055,\tbest fbprophet's error=0.0005\n",
      "INFO:flaml.automl: at 34.9s,\tbest sarimax's error=0.0055,\tbest fbprophet's error=0.0005\n",
      "[flaml.automl: 08-30 13:35:53] {1349} INFO - iteration 14, current learner sarimax\n",
      "INFO:flaml.automl:iteration 14, current learner sarimax\n",
      "[flaml.automl: 08-30 13:35:54] {1502} INFO -  at 35.7s,\tbest sarimax's error=0.0055,\tbest fbprophet's error=0.0005\n",
      "INFO:flaml.automl: at 35.7s,\tbest sarimax's error=0.0055,\tbest fbprophet's error=0.0005\n",
      "[flaml.automl: 08-30 13:35:54] {1349} INFO - iteration 15, current learner arima\n",
      "INFO:flaml.automl:iteration 15, current learner arima\n",
      "[flaml.automl: 08-30 13:35:55] {1502} INFO -  at 36.6s,\tbest arima's error=0.0022,\tbest fbprophet's error=0.0005\n",
      "INFO:flaml.automl: at 36.6s,\tbest arima's error=0.0022,\tbest fbprophet's error=0.0005\n",
      "[flaml.automl: 08-30 13:35:55] {1349} INFO - iteration 16, current learner sarimax\n",
      "INFO:flaml.automl:iteration 16, current learner sarimax\n",
      "[flaml.automl: 08-30 13:35:56] {1502} INFO -  at 38.3s,\tbest sarimax's error=0.0055,\tbest fbprophet's error=0.0005\n",
      "INFO:flaml.automl: at 38.3s,\tbest sarimax's error=0.0055,\tbest fbprophet's error=0.0005\n",
      "[flaml.automl: 08-30 13:35:56] {1349} INFO - iteration 17, current learner fbprophet\n",
      "INFO:flaml.automl:iteration 17, current learner fbprophet\n",
      "INFO:prophet:Disabling weekly seasonality. Run prophet with weekly_seasonality=True to override this.\n",
      "INFO:prophet:Disabling daily seasonality. Run prophet with daily_seasonality=True to override this.\n",
      "[flaml.automl: 08-30 13:36:02] {1502} INFO -  at 43.9s,\tbest fbprophet's error=0.0005,\tbest fbprophet's error=0.0005\n",
      "INFO:flaml.automl: at 43.9s,\tbest fbprophet's error=0.0005,\tbest fbprophet's error=0.0005\n",
      "[flaml.automl: 08-30 13:36:02] {1349} INFO - iteration 18, current learner sarimax\n",
      "INFO:flaml.automl:iteration 18, current learner sarimax\n",
      "[flaml.automl: 08-30 13:36:03] {1502} INFO -  at 44.6s,\tbest sarimax's error=0.0031,\tbest fbprophet's error=0.0005\n",
      "INFO:flaml.automl: at 44.6s,\tbest sarimax's error=0.0031,\tbest fbprophet's error=0.0005\n",
      "[flaml.automl: 08-30 13:36:03] {1349} INFO - iteration 19, current learner arima\n",
      "INFO:flaml.automl:iteration 19, current learner arima\n",
      "[flaml.automl: 08-30 13:36:05] {1502} INFO -  at 46.9s,\tbest arima's error=0.0022,\tbest fbprophet's error=0.0005\n",
      "INFO:flaml.automl: at 46.9s,\tbest arima's error=0.0022,\tbest fbprophet's error=0.0005\n",
      "[flaml.automl: 08-30 13:36:05] {1349} INFO - iteration 20, current learner arima\n",
      "INFO:flaml.automl:iteration 20, current learner arima\n",
      "[flaml.automl: 08-30 13:36:06] {1502} INFO -  at 47.8s,\tbest arima's error=0.0022,\tbest fbprophet's error=0.0005\n",
      "INFO:flaml.automl: at 47.8s,\tbest arima's error=0.0022,\tbest fbprophet's error=0.0005\n",
      "[flaml.automl: 08-30 13:36:06] {1349} INFO - iteration 21, current learner fbprophet\n",
      "INFO:flaml.automl:iteration 21, current learner fbprophet\n",
      "INFO:prophet:Disabling weekly seasonality. Run prophet with weekly_seasonality=True to override this.\n",
      "INFO:prophet:Disabling daily seasonality. Run prophet with daily_seasonality=True to override this.\n",
      "[flaml.automl: 08-30 13:36:09] {1502} INFO -  at 50.8s,\tbest fbprophet's error=0.0005,\tbest fbprophet's error=0.0005\n",
      "INFO:flaml.automl: at 50.8s,\tbest fbprophet's error=0.0005,\tbest fbprophet's error=0.0005\n",
      "[flaml.automl: 08-30 13:36:09] {1349} INFO - iteration 22, current learner fbprophet\n",
      "INFO:flaml.automl:iteration 22, current learner fbprophet\n",
      "INFO:prophet:Disabling weekly seasonality. Run prophet with weekly_seasonality=True to override this.\n",
      "INFO:prophet:Disabling daily seasonality. Run prophet with daily_seasonality=True to override this.\n",
      "[flaml.automl: 08-30 13:36:13] {1502} INFO -  at 54.6s,\tbest fbprophet's error=0.0005,\tbest fbprophet's error=0.0005\n",
      "INFO:flaml.automl: at 54.6s,\tbest fbprophet's error=0.0005,\tbest fbprophet's error=0.0005\n",
      "[flaml.automl: 08-30 13:36:13] {1349} INFO - iteration 23, current learner sarimax\n",
      "INFO:flaml.automl:iteration 23, current learner sarimax\n",
      "[flaml.automl: 08-30 13:36:14] {1502} INFO -  at 55.7s,\tbest sarimax's error=0.0031,\tbest fbprophet's error=0.0005\n",
      "INFO:flaml.automl: at 55.7s,\tbest sarimax's error=0.0031,\tbest fbprophet's error=0.0005\n",
      "[flaml.automl: 08-30 13:36:14] {1349} INFO - iteration 24, current learner sarimax\n",
      "INFO:flaml.automl:iteration 24, current learner sarimax\n",
      "[flaml.automl: 08-30 13:36:14] {1502} INFO -  at 56.1s,\tbest sarimax's error=0.0031,\tbest fbprophet's error=0.0005\n",
      "INFO:flaml.automl: at 56.1s,\tbest sarimax's error=0.0031,\tbest fbprophet's error=0.0005\n",
      "[flaml.automl: 08-30 13:36:14] {1349} INFO - iteration 25, current learner arima\n",
      "INFO:flaml.automl:iteration 25, current learner arima\n",
      "[flaml.automl: 08-30 13:36:17] {1502} INFO -  at 58.6s,\tbest arima's error=0.0021,\tbest fbprophet's error=0.0005\n",
      "INFO:flaml.automl: at 58.6s,\tbest arima's error=0.0021,\tbest fbprophet's error=0.0005\n",
      "[flaml.automl: 08-30 13:36:17] {1349} INFO - iteration 26, current learner sarimax\n",
      "INFO:flaml.automl:iteration 26, current learner sarimax\n",
      "[flaml.automl: 08-30 13:36:17] {1502} INFO -  at 58.8s,\tbest sarimax's error=0.0031,\tbest fbprophet's error=0.0005\n",
      "INFO:flaml.automl: at 58.8s,\tbest sarimax's error=0.0031,\tbest fbprophet's error=0.0005\n",
      "[flaml.automl: 08-30 13:36:17] {1349} INFO - iteration 27, current learner sarimax\n",
      "INFO:flaml.automl:iteration 27, current learner sarimax\n",
      "[flaml.automl: 08-30 13:36:19] {1502} INFO -  at 61.1s,\tbest sarimax's error=0.0022,\tbest fbprophet's error=0.0005\n",
      "INFO:flaml.automl: at 61.1s,\tbest sarimax's error=0.0022,\tbest fbprophet's error=0.0005\n",
      "[flaml.automl: 08-30 13:36:19] {1349} INFO - iteration 28, current learner sarimax\n",
      "INFO:flaml.automl:iteration 28, current learner sarimax\n",
      "[flaml.automl: 08-30 13:36:22] {1502} INFO -  at 64.0s,\tbest sarimax's error=0.0022,\tbest fbprophet's error=0.0005\n",
      "INFO:flaml.automl: at 64.0s,\tbest sarimax's error=0.0022,\tbest fbprophet's error=0.0005\n",
      "[flaml.automl: 08-30 13:36:22] {1349} INFO - iteration 29, current learner fbprophet\n",
      "INFO:flaml.automl:iteration 29, current learner fbprophet\n",
      "INFO:prophet:Disabling weekly seasonality. Run prophet with weekly_seasonality=True to override this.\n",
      "INFO:prophet:Disabling daily seasonality. Run prophet with daily_seasonality=True to override this.\n",
      "[flaml.automl: 08-30 13:36:27] {1502} INFO -  at 69.4s,\tbest fbprophet's error=0.0005,\tbest fbprophet's error=0.0005\n",
      "INFO:flaml.automl: at 69.4s,\tbest fbprophet's error=0.0005,\tbest fbprophet's error=0.0005\n",
      "[flaml.automl: 08-30 13:36:27] {1349} INFO - iteration 30, current learner fbprophet\n",
      "INFO:flaml.automl:iteration 30, current learner fbprophet\n",
      "INFO:prophet:Disabling weekly seasonality. Run prophet with weekly_seasonality=True to override this.\n",
      "INFO:prophet:Disabling daily seasonality. Run prophet with daily_seasonality=True to override this.\n",
      "[flaml.automl: 08-30 13:36:33] {1502} INFO -  at 74.6s,\tbest fbprophet's error=0.0005,\tbest fbprophet's error=0.0005\n",
      "INFO:flaml.automl: at 74.6s,\tbest fbprophet's error=0.0005,\tbest fbprophet's error=0.0005\n",
      "[flaml.automl: 08-30 13:36:33] {1349} INFO - iteration 31, current learner fbprophet\n",
      "INFO:flaml.automl:iteration 31, current learner fbprophet\n",
      "INFO:prophet:Disabling weekly seasonality. Run prophet with weekly_seasonality=True to override this.\n",
      "INFO:prophet:Disabling daily seasonality. Run prophet with daily_seasonality=True to override this.\n",
      "[flaml.automl: 08-30 13:36:39] {1502} INFO -  at 80.7s,\tbest fbprophet's error=0.0005,\tbest fbprophet's error=0.0005\n",
      "INFO:flaml.automl: at 80.7s,\tbest fbprophet's error=0.0005,\tbest fbprophet's error=0.0005\n",
      "[flaml.automl: 08-30 13:36:39] {1349} INFO - iteration 32, current learner sarimax\n",
      "INFO:flaml.automl:iteration 32, current learner sarimax\n",
      "[flaml.automl: 08-30 13:36:40] {1502} INFO -  at 81.6s,\tbest sarimax's error=0.0022,\tbest fbprophet's error=0.0005\n",
      "INFO:flaml.automl: at 81.6s,\tbest sarimax's error=0.0022,\tbest fbprophet's error=0.0005\n",
      "[flaml.automl: 08-30 13:36:40] {1349} INFO - iteration 33, current learner fbprophet\n",
      "INFO:flaml.automl:iteration 33, current learner fbprophet\n",
      "INFO:prophet:Disabling weekly seasonality. Run prophet with weekly_seasonality=True to override this.\n",
      "INFO:prophet:Disabling daily seasonality. Run prophet with daily_seasonality=True to override this.\n",
      "[flaml.automl: 08-30 13:36:44] {1502} INFO -  at 85.6s,\tbest fbprophet's error=0.0005,\tbest fbprophet's error=0.0005\n",
      "INFO:flaml.automl: at 85.6s,\tbest fbprophet's error=0.0005,\tbest fbprophet's error=0.0005\n",
      "[flaml.automl: 08-30 13:36:44] {1349} INFO - iteration 34, current learner fbprophet\n",
      "INFO:flaml.automl:iteration 34, current learner fbprophet\n",
      "INFO:prophet:Disabling weekly seasonality. Run prophet with weekly_seasonality=True to override this.\n",
      "INFO:prophet:Disabling daily seasonality. Run prophet with daily_seasonality=True to override this.\n",
      "[flaml.automl: 08-30 13:36:49] {1502} INFO -  at 91.3s,\tbest fbprophet's error=0.0005,\tbest fbprophet's error=0.0005\n",
      "INFO:flaml.automl: at 91.3s,\tbest fbprophet's error=0.0005,\tbest fbprophet's error=0.0005\n",
      "[flaml.automl: 08-30 13:36:49] {1349} INFO - iteration 35, current learner sarimax\n",
      "INFO:flaml.automl:iteration 35, current learner sarimax\n",
      "[flaml.automl: 08-30 13:36:52] {1502} INFO -  at 93.7s,\tbest sarimax's error=0.0019,\tbest fbprophet's error=0.0005\n",
      "INFO:flaml.automl: at 93.7s,\tbest sarimax's error=0.0019,\tbest fbprophet's error=0.0005\n",
      "[flaml.automl: 08-30 13:36:52] {1349} INFO - iteration 36, current learner fbprophet\n",
      "INFO:flaml.automl:iteration 36, current learner fbprophet\n",
      "INFO:prophet:Disabling weekly seasonality. Run prophet with weekly_seasonality=True to override this.\n",
      "INFO:prophet:Disabling daily seasonality. Run prophet with daily_seasonality=True to override this.\n",
      "[flaml.automl: 08-30 13:36:56] {1502} INFO -  at 98.2s,\tbest fbprophet's error=0.0005,\tbest fbprophet's error=0.0005\n",
      "INFO:flaml.automl: at 98.2s,\tbest fbprophet's error=0.0005,\tbest fbprophet's error=0.0005\n",
      "[flaml.automl: 08-30 13:36:56] {1349} INFO - iteration 37, current learner sarimax\n",
      "INFO:flaml.automl:iteration 37, current learner sarimax\n",
      "[flaml.automl: 08-30 13:37:00] {1502} INFO -  at 101.6s,\tbest sarimax's error=0.0019,\tbest fbprophet's error=0.0005\n",
      "INFO:flaml.automl: at 101.6s,\tbest sarimax's error=0.0019,\tbest fbprophet's error=0.0005\n",
      "[flaml.automl: 08-30 13:37:00] {1349} INFO - iteration 38, current learner fbprophet\n",
      "INFO:flaml.automl:iteration 38, current learner fbprophet\n",
      "INFO:prophet:Disabling weekly seasonality. Run prophet with weekly_seasonality=True to override this.\n",
      "INFO:prophet:Disabling daily seasonality. Run prophet with daily_seasonality=True to override this.\n",
      "[flaml.automl: 08-30 13:37:04] {1502} INFO -  at 106.0s,\tbest fbprophet's error=0.0005,\tbest fbprophet's error=0.0005\n",
      "INFO:flaml.automl: at 106.0s,\tbest fbprophet's error=0.0005,\tbest fbprophet's error=0.0005\n",
      "[flaml.automl: 08-30 13:37:04] {1349} INFO - iteration 39, current learner sarimax\n",
      "INFO:flaml.automl:iteration 39, current learner sarimax\n",
      "[flaml.automl: 08-30 13:37:04] {1502} INFO -  at 106.4s,\tbest sarimax's error=0.0019,\tbest fbprophet's error=0.0005\n",
      "INFO:flaml.automl: at 106.4s,\tbest sarimax's error=0.0019,\tbest fbprophet's error=0.0005\n",
      "[flaml.automl: 08-30 13:37:04] {1349} INFO - iteration 40, current learner sarimax\n",
      "INFO:flaml.automl:iteration 40, current learner sarimax\n",
      "[flaml.automl: 08-30 13:37:06] {1502} INFO -  at 108.0s,\tbest sarimax's error=0.0019,\tbest fbprophet's error=0.0005\n",
      "INFO:flaml.automl: at 108.0s,\tbest sarimax's error=0.0019,\tbest fbprophet's error=0.0005\n",
      "[flaml.automl: 08-30 13:37:06] {1349} INFO - iteration 41, current learner fbprophet\n",
      "INFO:flaml.automl:iteration 41, current learner fbprophet\n",
      "INFO:prophet:Disabling weekly seasonality. Run prophet with weekly_seasonality=True to override this.\n",
      "INFO:prophet:Disabling daily seasonality. Run prophet with daily_seasonality=True to override this.\n",
      "[flaml.automl: 08-30 13:37:11] {1502} INFO -  at 113.0s,\tbest fbprophet's error=0.0005,\tbest fbprophet's error=0.0005\n",
      "INFO:flaml.automl: at 113.0s,\tbest fbprophet's error=0.0005,\tbest fbprophet's error=0.0005\n",
      "[flaml.automl: 08-30 13:37:11] {1349} INFO - iteration 42, current learner sarimax\n",
      "INFO:flaml.automl:iteration 42, current learner sarimax\n",
      "[flaml.automl: 08-30 13:37:14] {1502} INFO -  at 115.9s,\tbest sarimax's error=0.0019,\tbest fbprophet's error=0.0005\n",
      "INFO:flaml.automl: at 115.9s,\tbest sarimax's error=0.0019,\tbest fbprophet's error=0.0005\n",
      "[flaml.automl: 08-30 13:37:14] {1349} INFO - iteration 43, current learner sarimax\n",
      "INFO:flaml.automl:iteration 43, current learner sarimax\n",
      "[flaml.automl: 08-30 13:37:16] {1502} INFO -  at 118.3s,\tbest sarimax's error=0.0019,\tbest fbprophet's error=0.0005\n",
      "INFO:flaml.automl: at 118.3s,\tbest sarimax's error=0.0019,\tbest fbprophet's error=0.0005\n",
      "[flaml.automl: 08-30 13:37:16] {1349} INFO - iteration 44, current learner arima\n",
      "INFO:flaml.automl:iteration 44, current learner arima\n",
      "[flaml.automl: 08-30 13:37:19] {1502} INFO -  at 121.1s,\tbest arima's error=0.0018,\tbest fbprophet's error=0.0005\n",
      "INFO:flaml.automl: at 121.1s,\tbest arima's error=0.0018,\tbest fbprophet's error=0.0005\n",
      "[flaml.automl: 08-30 13:37:19] {1349} INFO - iteration 45, current learner fbprophet\n",
      "INFO:flaml.automl:iteration 45, current learner fbprophet\n",
      "INFO:prophet:Disabling weekly seasonality. Run prophet with weekly_seasonality=True to override this.\n",
      "INFO:prophet:Disabling daily seasonality. Run prophet with daily_seasonality=True to override this.\n",
      "[flaml.automl: 08-30 13:37:24] {1502} INFO -  at 126.2s,\tbest fbprophet's error=0.0005,\tbest fbprophet's error=0.0005\n",
      "INFO:flaml.automl: at 126.2s,\tbest fbprophet's error=0.0005,\tbest fbprophet's error=0.0005\n",
      "[flaml.automl: 08-30 13:37:24] {1349} INFO - iteration 46, current learner arima\n",
      "INFO:flaml.automl:iteration 46, current learner arima\n",
      "[flaml.automl: 08-30 13:37:26] {1502} INFO -  at 128.1s,\tbest arima's error=0.0018,\tbest fbprophet's error=0.0005\n",
      "INFO:flaml.automl: at 128.1s,\tbest arima's error=0.0018,\tbest fbprophet's error=0.0005\n",
      "[flaml.automl: 08-30 13:37:26] {1349} INFO - iteration 47, current learner fbprophet\n",
      "INFO:flaml.automl:iteration 47, current learner fbprophet\n",
      "INFO:prophet:Disabling weekly seasonality. Run prophet with weekly_seasonality=True to override this.\n",
      "INFO:prophet:Disabling daily seasonality. Run prophet with daily_seasonality=True to override this.\n",
      "[flaml.automl: 08-30 13:37:30] {1502} INFO -  at 132.3s,\tbest fbprophet's error=0.0005,\tbest fbprophet's error=0.0005\n",
      "INFO:flaml.automl: at 132.3s,\tbest fbprophet's error=0.0005,\tbest fbprophet's error=0.0005\n",
      "[flaml.automl: 08-30 13:37:30] {1349} INFO - iteration 48, current learner arima\n",
      "INFO:flaml.automl:iteration 48, current learner arima\n",
      "[flaml.automl: 08-30 13:37:33] {1502} INFO -  at 134.8s,\tbest arima's error=0.0018,\tbest fbprophet's error=0.0005\n",
      "INFO:flaml.automl: at 134.8s,\tbest arima's error=0.0018,\tbest fbprophet's error=0.0005\n",
      "[flaml.automl: 08-30 13:37:33] {1349} INFO - iteration 49, current learner sarimax\n",
      "INFO:flaml.automl:iteration 49, current learner sarimax\n",
      "[flaml.automl: 08-30 13:37:35] {1502} INFO -  at 136.6s,\tbest sarimax's error=0.0019,\tbest fbprophet's error=0.0005\n",
      "INFO:flaml.automl: at 136.6s,\tbest sarimax's error=0.0019,\tbest fbprophet's error=0.0005\n",
      "[flaml.automl: 08-30 13:37:35] {1349} INFO - iteration 50, current learner fbprophet\n",
      "INFO:flaml.automl:iteration 50, current learner fbprophet\n",
      "INFO:prophet:Disabling weekly seasonality. Run prophet with weekly_seasonality=True to override this.\n",
      "INFO:prophet:Disabling daily seasonality. Run prophet with daily_seasonality=True to override this.\n",
      "[flaml.automl: 08-30 13:37:39] {1502} INFO -  at 140.8s,\tbest fbprophet's error=0.0005,\tbest fbprophet's error=0.0005\n",
      "INFO:flaml.automl: at 140.8s,\tbest fbprophet's error=0.0005,\tbest fbprophet's error=0.0005\n",
      "[flaml.automl: 08-30 13:37:39] {1349} INFO - iteration 51, current learner fbprophet\n",
      "INFO:flaml.automl:iteration 51, current learner fbprophet\n",
      "INFO:prophet:Disabling weekly seasonality. Run prophet with weekly_seasonality=True to override this.\n",
      "INFO:prophet:Disabling daily seasonality. Run prophet with daily_seasonality=True to override this.\n",
      "[flaml.automl: 08-30 13:37:43] {1502} INFO -  at 144.8s,\tbest fbprophet's error=0.0005,\tbest fbprophet's error=0.0005\n",
      "INFO:flaml.automl: at 144.8s,\tbest fbprophet's error=0.0005,\tbest fbprophet's error=0.0005\n",
      "[flaml.automl: 08-30 13:37:43] {1349} INFO - iteration 52, current learner fbprophet\n",
      "INFO:flaml.automl:iteration 52, current learner fbprophet\n",
      "INFO:prophet:Disabling weekly seasonality. Run prophet with weekly_seasonality=True to override this.\n",
      "INFO:prophet:Disabling daily seasonality. Run prophet with daily_seasonality=True to override this.\n",
      "[flaml.automl: 08-30 13:37:47] {1502} INFO -  at 149.1s,\tbest fbprophet's error=0.0005,\tbest fbprophet's error=0.0005\n",
      "INFO:flaml.automl: at 149.1s,\tbest fbprophet's error=0.0005,\tbest fbprophet's error=0.0005\n",
      "[flaml.automl: 08-30 13:37:47] {1349} INFO - iteration 53, current learner fbprophet\n",
      "INFO:flaml.automl:iteration 53, current learner fbprophet\n",
      "INFO:prophet:Disabling weekly seasonality. Run prophet with weekly_seasonality=True to override this.\n",
      "INFO:prophet:Disabling daily seasonality. Run prophet with daily_seasonality=True to override this.\n",
      "[flaml.automl: 08-30 13:37:51] {1502} INFO -  at 153.0s,\tbest fbprophet's error=0.0005,\tbest fbprophet's error=0.0005\n",
      "INFO:flaml.automl: at 153.0s,\tbest fbprophet's error=0.0005,\tbest fbprophet's error=0.0005\n",
      "[flaml.automl: 08-30 13:37:51] {1349} INFO - iteration 54, current learner arima\n",
      "INFO:flaml.automl:iteration 54, current learner arima\n",
      "[flaml.automl: 08-30 13:37:52] {1502} INFO -  at 154.2s,\tbest arima's error=0.0018,\tbest fbprophet's error=0.0005\n",
      "INFO:flaml.automl: at 154.2s,\tbest arima's error=0.0018,\tbest fbprophet's error=0.0005\n",
      "[flaml.automl: 08-30 13:37:52] {1349} INFO - iteration 55, current learner fbprophet\n",
      "INFO:flaml.automl:iteration 55, current learner fbprophet\n",
      "INFO:prophet:Disabling weekly seasonality. Run prophet with weekly_seasonality=True to override this.\n",
      "INFO:prophet:Disabling daily seasonality. Run prophet with daily_seasonality=True to override this.\n",
      "[flaml.automl: 08-30 13:37:55] {1502} INFO -  at 156.8s,\tbest fbprophet's error=0.0005,\tbest fbprophet's error=0.0005\n",
      "INFO:flaml.automl: at 156.8s,\tbest fbprophet's error=0.0005,\tbest fbprophet's error=0.0005\n",
      "[flaml.automl: 08-30 13:37:55] {1349} INFO - iteration 56, current learner fbprophet\n",
      "INFO:flaml.automl:iteration 56, current learner fbprophet\n",
      "INFO:prophet:Disabling weekly seasonality. Run prophet with weekly_seasonality=True to override this.\n",
      "INFO:prophet:Disabling daily seasonality. Run prophet with daily_seasonality=True to override this.\n",
      "[flaml.automl: 08-30 13:37:59] {1502} INFO -  at 160.6s,\tbest fbprophet's error=0.0005,\tbest fbprophet's error=0.0005\n",
      "INFO:flaml.automl: at 160.6s,\tbest fbprophet's error=0.0005,\tbest fbprophet's error=0.0005\n",
      "[flaml.automl: 08-30 13:37:59] {1349} INFO - iteration 57, current learner fbprophet\n",
      "INFO:flaml.automl:iteration 57, current learner fbprophet\n",
      "INFO:prophet:Disabling weekly seasonality. Run prophet with weekly_seasonality=True to override this.\n",
      "INFO:prophet:Disabling daily seasonality. Run prophet with daily_seasonality=True to override this.\n",
      "[flaml.automl: 08-30 13:38:02] {1502} INFO -  at 163.8s,\tbest fbprophet's error=0.0005,\tbest fbprophet's error=0.0005\n",
      "INFO:flaml.automl: at 163.8s,\tbest fbprophet's error=0.0005,\tbest fbprophet's error=0.0005\n",
      "[flaml.automl: 08-30 13:38:02] {1349} INFO - iteration 58, current learner fbprophet\n",
      "INFO:flaml.automl:iteration 58, current learner fbprophet\n",
      "INFO:prophet:Disabling weekly seasonality. Run prophet with weekly_seasonality=True to override this.\n",
      "INFO:prophet:Disabling daily seasonality. Run prophet with daily_seasonality=True to override this.\n",
      "[flaml.automl: 08-30 13:38:06] {1502} INFO -  at 167.5s,\tbest fbprophet's error=0.0005,\tbest fbprophet's error=0.0005\n",
      "INFO:flaml.automl: at 167.5s,\tbest fbprophet's error=0.0005,\tbest fbprophet's error=0.0005\n",
      "[flaml.automl: 08-30 13:38:06] {1349} INFO - iteration 59, current learner arima\n",
      "INFO:flaml.automl:iteration 59, current learner arima\n",
      "[flaml.automl: 08-30 13:38:08] {1502} INFO -  at 169.8s,\tbest arima's error=0.0016,\tbest fbprophet's error=0.0005\n",
      "INFO:flaml.automl: at 169.8s,\tbest arima's error=0.0016,\tbest fbprophet's error=0.0005\n",
      "[flaml.automl: 08-30 13:38:08] {1349} INFO - iteration 60, current learner fbprophet\n",
      "INFO:flaml.automl:iteration 60, current learner fbprophet\n",
      "INFO:prophet:Disabling weekly seasonality. Run prophet with weekly_seasonality=True to override this.\n",
      "INFO:prophet:Disabling daily seasonality. Run prophet with daily_seasonality=True to override this.\n",
      "[flaml.automl: 08-30 13:38:12] {1502} INFO -  at 173.8s,\tbest fbprophet's error=0.0005,\tbest fbprophet's error=0.0005\n",
      "INFO:flaml.automl: at 173.8s,\tbest fbprophet's error=0.0005,\tbest fbprophet's error=0.0005\n",
      "INFO:prophet:Disabling weekly seasonality. Run prophet with weekly_seasonality=True to override this.\n",
      "INFO:prophet:Disabling daily seasonality. Run prophet with daily_seasonality=True to override this.\n",
      "[flaml.automl: 08-30 13:38:15] {1534} INFO - retrain fbprophet for 2.9s\n",
      "INFO:flaml.automl:retrain fbprophet for 2.9s\n",
      "[flaml.automl: 08-30 13:38:15] {1349} INFO - iteration 61, current learner arima\n",
      "INFO:flaml.automl:iteration 61, current learner arima\n",
      "[flaml.automl: 08-30 13:38:17] {1502} INFO -  at 178.7s,\tbest arima's error=0.0016,\tbest fbprophet's error=0.0005\n",
      "INFO:flaml.automl: at 178.7s,\tbest arima's error=0.0016,\tbest fbprophet's error=0.0005\n",
      "INFO:prophet:Disabling weekly seasonality. Run prophet with weekly_seasonality=True to override this.\n",
      "INFO:prophet:Disabling daily seasonality. Run prophet with daily_seasonality=True to override this.\n",
      "[flaml.automl: 08-30 13:38:20] {1534} INFO - retrain arima for 2.9s\n",
      "INFO:flaml.automl:retrain arima for 2.9s\n",
      "[flaml.automl: 08-30 13:38:20] {1558} INFO - selected model: <prophet.forecaster.Prophet object at 0x0000024051B925B0>\n",
      "INFO:flaml.automl:selected model: <prophet.forecaster.Prophet object at 0x0000024051B925B0>\n",
      "[flaml.automl: 08-30 13:38:20] {1281} INFO - fit succeeded\n",
      "INFO:flaml.automl:fit succeeded\n",
      "[flaml.automl: 08-30 13:38:20] {1282} INFO - Time taken to find the best model: 98.1662232875824\n",
      "INFO:flaml.automl:Time taken to find the best model: 98.1662232875824\n"
     ]
    }
   ],
   "metadata": {}
  },
  {
   "cell_type": "markdown",
   "source": [
    "### Best model and metric"
   ],
   "metadata": {}
  },
  {
   "cell_type": "code",
   "execution_count": 6,
   "source": [
    "''' retrieve best config and best learner'''\r\n",
    "print('Best ML leaner:', automl.best_estimator)\r\n",
    "print('Best hyperparmeter config:', automl.best_config)\r\n",
    "print(f'Best mape on validation data: {automl.best_loss}')\r\n",
    "print(f'Training duration of best run: {automl.best_config_train_time}s')"
   ],
   "outputs": [
    {
     "output_type": "stream",
     "name": "stdout",
     "text": [
      "Best ML leaner: fbprophet\n",
      "Best hyperparmeter config: {'changepoint_prior_scale': 0.02876449933617924, 'seasonality_prior_scale': 1.80360430903146, 'holidays_prior_scale': 2.1243991057068654, 'seasonality_mode': 'additive'}\n",
      "Best mape on validation data: 0.0004765336783587436\n",
      "Training duration of best run: 4.4560887813568115s\n"
     ]
    }
   ],
   "metadata": {}
  },
  {
   "cell_type": "code",
   "execution_count": 7,
   "source": [
    "print(automl.model.estimator)"
   ],
   "outputs": [
    {
     "output_type": "stream",
     "name": "stdout",
     "text": [
      "<prophet.forecaster.Prophet object at 0x0000024051B925B0>\n"
     ]
    }
   ],
   "metadata": {}
  },
  {
   "cell_type": "code",
   "execution_count": 8,
   "source": [
    "''' pickle and save the automl object '''\r\n",
    "import pickle\r\n",
    "with open('automl.pkl', 'wb') as f:\r\n",
    "    pickle.dump(automl, f, pickle.HIGHEST_PROTOCOL)"
   ],
   "outputs": [],
   "metadata": {}
  },
  {
   "cell_type": "code",
   "execution_count": 9,
   "source": [
    "''' compute predictions of testing dataset '''\r\n",
    "y_pred = automl.predict(X_test)\r\n",
    "print('Predicted labels', y_pred)\r\n",
    "print('True labels', y_test)"
   ],
   "outputs": [
    {
     "output_type": "stream",
     "name": "stdout",
     "text": [
      "Predicted labels 0     370.179589\n",
      "1     370.897300\n",
      "2     371.950006\n",
      "3     373.135219\n",
      "4     373.634979\n",
      "5     373.104820\n",
      "6     371.760649\n",
      "7     369.848551\n",
      "8     368.250457\n",
      "9     368.318975\n",
      "10    369.517605\n",
      "11    370.783469\n",
      "Name: yhat, dtype: float64\n",
      "True labels          co2\n",
      "514  370.175\n",
      "515  371.325\n",
      "516  372.060\n",
      "517  372.775\n",
      "518  373.800\n",
      "519  373.060\n",
      "520  371.300\n",
      "521  369.425\n",
      "522  367.880\n",
      "523  368.050\n",
      "524  369.375\n",
      "525  371.020\n"
     ]
    }
   ],
   "metadata": {}
  },
  {
   "cell_type": "code",
   "execution_count": 10,
   "source": [
    "''' compute different metric values on testing dataset'''\r\n",
    "from flaml.ml import sklearn_metric_loss_score\r\n",
    "print('mape', '=', sklearn_metric_loss_score('mape', y_pred, y_test))"
   ],
   "outputs": [
    {
     "output_type": "stream",
     "name": "stdout",
     "text": [
      "mape = 0.0006780276756290267\n"
     ]
    }
   ],
   "metadata": {}
  },
  {
   "cell_type": "markdown",
   "source": [
    "### Log history"
   ],
   "metadata": {}
  },
  {
   "cell_type": "code",
   "execution_count": 11,
   "source": [
    "from flaml.data import get_output_from_log\r\n",
    "time_history, best_valid_loss_history, valid_loss_history, config_history, train_loss_history = \\\r\n",
    "    get_output_from_log(filename=settings['log_file_name'], time_budget=300)\r\n",
    "\r\n",
    "for config in config_history:\r\n",
    "    print(config)"
   ],
   "outputs": [
    {
     "output_type": "stream",
     "name": "stdout",
     "text": [
      "{'Current Learner': 'fbprophet', 'Current Sample': 502, 'Current Hyper-parameters': {'changepoint_prior_scale': 0.010000000000000002, 'seasonality_prior_scale': 1.0, 'holidays_prior_scale': 1.0, 'seasonality_mode': 'multiplicative'}, 'Best Learner': 'fbprophet', 'Best Hyper-parameters': {'changepoint_prior_scale': 0.010000000000000002, 'seasonality_prior_scale': 1.0, 'holidays_prior_scale': 1.0, 'seasonality_mode': 'multiplicative'}}\n",
      "{'Current Learner': 'fbprophet', 'Current Sample': 502, 'Current Hyper-parameters': {'changepoint_prior_scale': 0.0091602623296037, 'seasonality_prior_scale': 0.8823866403788657, 'holidays_prior_scale': 3.2294014074557995, 'seasonality_mode': 'additive'}, 'Best Learner': 'fbprophet', 'Best Hyper-parameters': {'changepoint_prior_scale': 0.0091602623296037, 'seasonality_prior_scale': 0.8823866403788657, 'holidays_prior_scale': 3.2294014074557995, 'seasonality_mode': 'additive'}}\n",
      "{'Current Learner': 'fbprophet', 'Current Sample': 502, 'Current Hyper-parameters': {'changepoint_prior_scale': 0.010000000000000002, 'seasonality_prior_scale': 1.0, 'holidays_prior_scale': 0.999999999999999, 'seasonality_mode': 'additive'}, 'Best Learner': 'fbprophet', 'Best Hyper-parameters': {'changepoint_prior_scale': 0.010000000000000002, 'seasonality_prior_scale': 1.0, 'holidays_prior_scale': 0.999999999999999, 'seasonality_mode': 'additive'}}\n",
      "{'Current Learner': 'fbprophet', 'Current Sample': 502, 'Current Hyper-parameters': {'changepoint_prior_scale': 0.05247335998097256, 'seasonality_prior_scale': 0.987707602743762, 'holidays_prior_scale': 0.5484274380225445, 'seasonality_mode': 'additive'}, 'Best Learner': 'fbprophet', 'Best Hyper-parameters': {'changepoint_prior_scale': 0.05247335998097256, 'seasonality_prior_scale': 0.987707602743762, 'holidays_prior_scale': 0.5484274380225445, 'seasonality_mode': 'additive'}}\n",
      "{'Current Learner': 'fbprophet', 'Current Sample': 502, 'Current Hyper-parameters': {'changepoint_prior_scale': 0.02876449933617924, 'seasonality_prior_scale': 1.80360430903146, 'holidays_prior_scale': 2.1243991057068654, 'seasonality_mode': 'additive'}, 'Best Learner': 'fbprophet', 'Best Hyper-parameters': {'changepoint_prior_scale': 0.02876449933617924, 'seasonality_prior_scale': 1.80360430903146, 'holidays_prior_scale': 2.1243991057068654, 'seasonality_mode': 'additive'}}\n"
     ]
    }
   ],
   "metadata": {}
  },
  {
   "cell_type": "code",
   "execution_count": 12,
   "source": [
    "import matplotlib.pyplot as plt\r\n",
    "import numpy as np\r\n",
    "\r\n",
    "plt.title('Learning Curve')\r\n",
    "plt.xlabel('Wall Clock Time (s)')\r\n",
    "plt.ylabel('Validation Accuracy')\r\n",
    "plt.scatter(time_history, 1 - np.array(valid_loss_history))\r\n",
    "plt.step(time_history, 1 - np.array(best_valid_loss_history), where='post')\r\n",
    "plt.show()"
   ],
   "outputs": [
    {
     "output_type": "display_data",
     "data": {
      "text/plain": [
       "<Figure size 432x288 with 1 Axes>"
      ],
      "image/svg+xml": "<?xml version=\"1.0\" encoding=\"utf-8\" standalone=\"no\"?>\r\n<!DOCTYPE svg PUBLIC \"-//W3C//DTD SVG 1.1//EN\"\r\n  \"http://www.w3.org/Graphics/SVG/1.1/DTD/svg11.dtd\">\r\n<svg height=\"277.314375pt\" version=\"1.1\" viewBox=\"0 0 411.627997 277.314375\" width=\"411.627997pt\" xmlns=\"http://www.w3.org/2000/svg\" xmlns:xlink=\"http://www.w3.org/1999/xlink\">\r\n <metadata>\r\n  <rdf:RDF xmlns:cc=\"http://creativecommons.org/ns#\" xmlns:dc=\"http://purl.org/dc/elements/1.1/\" xmlns:rdf=\"http://www.w3.org/1999/02/22-rdf-syntax-ns#\">\r\n   <cc:Work>\r\n    <dc:type rdf:resource=\"http://purl.org/dc/dcmitype/StillImage\"/>\r\n    <dc:date>2021-08-30T13:38:23.003595</dc:date>\r\n    <dc:format>image/svg+xml</dc:format>\r\n    <dc:creator>\r\n     <cc:Agent>\r\n      <dc:title>Matplotlib v3.4.2, https://matplotlib.org/</dc:title>\r\n     </cc:Agent>\r\n    </dc:creator>\r\n   </cc:Work>\r\n  </rdf:RDF>\r\n </metadata>\r\n <defs>\r\n  <style type=\"text/css\">*{stroke-linecap:butt;stroke-linejoin:round;}</style>\r\n </defs>\r\n <g id=\"figure_1\">\r\n  <g id=\"patch_1\">\r\n   <path d=\"M 0 277.314375 \r\nL 411.627997 277.314375 \r\nL 411.627997 0 \r\nL 0 0 \r\nz\r\n\" style=\"fill:none;\"/>\r\n  </g>\r\n  <g id=\"axes_1\">\r\n   <g id=\"patch_2\">\r\n    <path d=\"M 69.23125 239.758125 \r\nL 404.03125 239.758125 \r\nL 404.03125 22.318125 \r\nL 69.23125 22.318125 \r\nz\r\n\" style=\"fill:#ffffff;\"/>\r\n   </g>\r\n   <g id=\"PathCollection_1\">\r\n    <defs>\r\n     <path d=\"M 0 3 \r\nC 0.795609 3 1.55874 2.683901 2.12132 2.12132 \r\nC 2.683901 1.55874 3 0.795609 3 0 \r\nC 3 -0.795609 2.683901 -1.55874 2.12132 -2.12132 \r\nC 1.55874 -2.683901 0.795609 -3 0 -3 \r\nC -0.795609 -3 -1.55874 -2.683901 -2.12132 -2.12132 \r\nC -2.683901 -1.55874 -3 -0.795609 -3 0 \r\nC -3 0.795609 -2.683901 1.55874 -2.12132 2.12132 \r\nC -1.55874 2.683901 -0.795609 3 0 3 \r\nz\r\n\" id=\"m108f8d4fa1\" style=\"stroke:#1f77b4;\"/>\r\n    </defs>\r\n    <g clip-path=\"url(#p9ac98f269c)\">\r\n     <use style=\"fill:#1f77b4;stroke:#1f77b4;\" x=\"84.449432\" xlink:href=\"#m108f8d4fa1\" y=\"229.874489\"/>\r\n     <use style=\"fill:#1f77b4;stroke:#1f77b4;\" x=\"96.617022\" xlink:href=\"#m108f8d4fa1\" y=\"111.307384\"/>\r\n     <use style=\"fill:#1f77b4;stroke:#1f77b4;\" x=\"106.38742\" xlink:href=\"#m108f8d4fa1\" y=\"98.627902\"/>\r\n     <use style=\"fill:#1f77b4;stroke:#1f77b4;\" x=\"141.151902\" xlink:href=\"#m108f8d4fa1\" y=\"35.784604\"/>\r\n     <use style=\"fill:#1f77b4;stroke:#1f77b4;\" x=\"388.813068\" xlink:href=\"#m108f8d4fa1\" y=\"32.201761\"/>\r\n    </g>\r\n   </g>\r\n   <g id=\"matplotlib.axis_1\">\r\n    <g id=\"xtick_1\">\r\n     <g id=\"line2d_1\">\r\n      <defs>\r\n       <path d=\"M 0 0 \r\nL 0 3.5 \r\n\" id=\"md1b812c8ff\" style=\"stroke:#000000;stroke-width:0.8;\"/>\r\n      </defs>\r\n      <g>\r\n       <use style=\"stroke:#000000;stroke-width:0.8;\" x=\"130.024131\" xlink:href=\"#md1b812c8ff\" y=\"239.758125\"/>\r\n      </g>\r\n     </g>\r\n     <g id=\"text_1\">\r\n      <!-- 20 -->\r\n      <g transform=\"translate(123.661631 254.356562)scale(0.1 -0.1)\">\r\n       <defs>\r\n        <path d=\"M 1228 531 \r\nL 3431 531 \r\nL 3431 0 \r\nL 469 0 \r\nL 469 531 \r\nQ 828 903 1448 1529 \r\nQ 2069 2156 2228 2338 \r\nQ 2531 2678 2651 2914 \r\nQ 2772 3150 2772 3378 \r\nQ 2772 3750 2511 3984 \r\nQ 2250 4219 1831 4219 \r\nQ 1534 4219 1204 4116 \r\nQ 875 4013 500 3803 \r\nL 500 4441 \r\nQ 881 4594 1212 4672 \r\nQ 1544 4750 1819 4750 \r\nQ 2544 4750 2975 4387 \r\nQ 3406 4025 3406 3419 \r\nQ 3406 3131 3298 2873 \r\nQ 3191 2616 2906 2266 \r\nQ 2828 2175 2409 1742 \r\nQ 1991 1309 1228 531 \r\nz\r\n\" id=\"DejaVuSans-32\" transform=\"scale(0.015625)\"/>\r\n        <path d=\"M 2034 4250 \r\nQ 1547 4250 1301 3770 \r\nQ 1056 3291 1056 2328 \r\nQ 1056 1369 1301 889 \r\nQ 1547 409 2034 409 \r\nQ 2525 409 2770 889 \r\nQ 3016 1369 3016 2328 \r\nQ 3016 3291 2770 3770 \r\nQ 2525 4250 2034 4250 \r\nz\r\nM 2034 4750 \r\nQ 2819 4750 3233 4129 \r\nQ 3647 3509 3647 2328 \r\nQ 3647 1150 3233 529 \r\nQ 2819 -91 2034 -91 \r\nQ 1250 -91 836 529 \r\nQ 422 1150 422 2328 \r\nQ 422 3509 836 4129 \r\nQ 1250 4750 2034 4750 \r\nz\r\n\" id=\"DejaVuSans-30\" transform=\"scale(0.015625)\"/>\r\n       </defs>\r\n       <use xlink:href=\"#DejaVuSans-32\"/>\r\n       <use x=\"63.623047\" xlink:href=\"#DejaVuSans-30\"/>\r\n      </g>\r\n     </g>\r\n    </g>\r\n    <g id=\"xtick_2\">\r\n     <g id=\"line2d_2\">\r\n      <g>\r\n       <use style=\"stroke:#000000;stroke-width:0.8;\" x=\"196.23916\" xlink:href=\"#md1b812c8ff\" y=\"239.758125\"/>\r\n      </g>\r\n     </g>\r\n     <g id=\"text_2\">\r\n      <!-- 40 -->\r\n      <g transform=\"translate(189.87666 254.356562)scale(0.1 -0.1)\">\r\n       <defs>\r\n        <path d=\"M 2419 4116 \r\nL 825 1625 \r\nL 2419 1625 \r\nL 2419 4116 \r\nz\r\nM 2253 4666 \r\nL 3047 4666 \r\nL 3047 1625 \r\nL 3713 1625 \r\nL 3713 1100 \r\nL 3047 1100 \r\nL 3047 0 \r\nL 2419 0 \r\nL 2419 1100 \r\nL 313 1100 \r\nL 313 1709 \r\nL 2253 4666 \r\nz\r\n\" id=\"DejaVuSans-34\" transform=\"scale(0.015625)\"/>\r\n       </defs>\r\n       <use xlink:href=\"#DejaVuSans-34\"/>\r\n       <use x=\"63.623047\" xlink:href=\"#DejaVuSans-30\"/>\r\n      </g>\r\n     </g>\r\n    </g>\r\n    <g id=\"xtick_3\">\r\n     <g id=\"line2d_3\">\r\n      <g>\r\n       <use style=\"stroke:#000000;stroke-width:0.8;\" x=\"262.454189\" xlink:href=\"#md1b812c8ff\" y=\"239.758125\"/>\r\n      </g>\r\n     </g>\r\n     <g id=\"text_3\">\r\n      <!-- 60 -->\r\n      <g transform=\"translate(256.091689 254.356562)scale(0.1 -0.1)\">\r\n       <defs>\r\n        <path d=\"M 2113 2584 \r\nQ 1688 2584 1439 2293 \r\nQ 1191 2003 1191 1497 \r\nQ 1191 994 1439 701 \r\nQ 1688 409 2113 409 \r\nQ 2538 409 2786 701 \r\nQ 3034 994 3034 1497 \r\nQ 3034 2003 2786 2293 \r\nQ 2538 2584 2113 2584 \r\nz\r\nM 3366 4563 \r\nL 3366 3988 \r\nQ 3128 4100 2886 4159 \r\nQ 2644 4219 2406 4219 \r\nQ 1781 4219 1451 3797 \r\nQ 1122 3375 1075 2522 \r\nQ 1259 2794 1537 2939 \r\nQ 1816 3084 2150 3084 \r\nQ 2853 3084 3261 2657 \r\nQ 3669 2231 3669 1497 \r\nQ 3669 778 3244 343 \r\nQ 2819 -91 2113 -91 \r\nQ 1303 -91 875 529 \r\nQ 447 1150 447 2328 \r\nQ 447 3434 972 4092 \r\nQ 1497 4750 2381 4750 \r\nQ 2619 4750 2861 4703 \r\nQ 3103 4656 3366 4563 \r\nz\r\n\" id=\"DejaVuSans-36\" transform=\"scale(0.015625)\"/>\r\n       </defs>\r\n       <use xlink:href=\"#DejaVuSans-36\"/>\r\n       <use x=\"63.623047\" xlink:href=\"#DejaVuSans-30\"/>\r\n      </g>\r\n     </g>\r\n    </g>\r\n    <g id=\"xtick_4\">\r\n     <g id=\"line2d_4\">\r\n      <g>\r\n       <use style=\"stroke:#000000;stroke-width:0.8;\" x=\"328.669218\" xlink:href=\"#md1b812c8ff\" y=\"239.758125\"/>\r\n      </g>\r\n     </g>\r\n     <g id=\"text_4\">\r\n      <!-- 80 -->\r\n      <g transform=\"translate(322.306718 254.356562)scale(0.1 -0.1)\">\r\n       <defs>\r\n        <path d=\"M 2034 2216 \r\nQ 1584 2216 1326 1975 \r\nQ 1069 1734 1069 1313 \r\nQ 1069 891 1326 650 \r\nQ 1584 409 2034 409 \r\nQ 2484 409 2743 651 \r\nQ 3003 894 3003 1313 \r\nQ 3003 1734 2745 1975 \r\nQ 2488 2216 2034 2216 \r\nz\r\nM 1403 2484 \r\nQ 997 2584 770 2862 \r\nQ 544 3141 544 3541 \r\nQ 544 4100 942 4425 \r\nQ 1341 4750 2034 4750 \r\nQ 2731 4750 3128 4425 \r\nQ 3525 4100 3525 3541 \r\nQ 3525 3141 3298 2862 \r\nQ 3072 2584 2669 2484 \r\nQ 3125 2378 3379 2068 \r\nQ 3634 1759 3634 1313 \r\nQ 3634 634 3220 271 \r\nQ 2806 -91 2034 -91 \r\nQ 1263 -91 848 271 \r\nQ 434 634 434 1313 \r\nQ 434 1759 690 2068 \r\nQ 947 2378 1403 2484 \r\nz\r\nM 1172 3481 \r\nQ 1172 3119 1398 2916 \r\nQ 1625 2713 2034 2713 \r\nQ 2441 2713 2670 2916 \r\nQ 2900 3119 2900 3481 \r\nQ 2900 3844 2670 4047 \r\nQ 2441 4250 2034 4250 \r\nQ 1625 4250 1398 4047 \r\nQ 1172 3844 1172 3481 \r\nz\r\n\" id=\"DejaVuSans-38\" transform=\"scale(0.015625)\"/>\r\n       </defs>\r\n       <use xlink:href=\"#DejaVuSans-38\"/>\r\n       <use x=\"63.623047\" xlink:href=\"#DejaVuSans-30\"/>\r\n      </g>\r\n     </g>\r\n    </g>\r\n    <g id=\"xtick_5\">\r\n     <g id=\"line2d_5\">\r\n      <g>\r\n       <use style=\"stroke:#000000;stroke-width:0.8;\" x=\"394.884247\" xlink:href=\"#md1b812c8ff\" y=\"239.758125\"/>\r\n      </g>\r\n     </g>\r\n     <g id=\"text_5\">\r\n      <!-- 100 -->\r\n      <g transform=\"translate(385.340497 254.356562)scale(0.1 -0.1)\">\r\n       <defs>\r\n        <path d=\"M 794 531 \r\nL 1825 531 \r\nL 1825 4091 \r\nL 703 3866 \r\nL 703 4441 \r\nL 1819 4666 \r\nL 2450 4666 \r\nL 2450 531 \r\nL 3481 531 \r\nL 3481 0 \r\nL 794 0 \r\nL 794 531 \r\nz\r\n\" id=\"DejaVuSans-31\" transform=\"scale(0.015625)\"/>\r\n       </defs>\r\n       <use xlink:href=\"#DejaVuSans-31\"/>\r\n       <use x=\"63.623047\" xlink:href=\"#DejaVuSans-30\"/>\r\n       <use x=\"127.246094\" xlink:href=\"#DejaVuSans-30\"/>\r\n      </g>\r\n     </g>\r\n    </g>\r\n    <g id=\"text_6\">\r\n     <!-- Wall Clock Time (s) -->\r\n     <g transform=\"translate(189.072656 268.034687)scale(0.1 -0.1)\">\r\n      <defs>\r\n       <path d=\"M 213 4666 \r\nL 850 4666 \r\nL 1831 722 \r\nL 2809 4666 \r\nL 3519 4666 \r\nL 4500 722 \r\nL 5478 4666 \r\nL 6119 4666 \r\nL 4947 0 \r\nL 4153 0 \r\nL 3169 4050 \r\nL 2175 0 \r\nL 1381 0 \r\nL 213 4666 \r\nz\r\n\" id=\"DejaVuSans-57\" transform=\"scale(0.015625)\"/>\r\n       <path d=\"M 2194 1759 \r\nQ 1497 1759 1228 1600 \r\nQ 959 1441 959 1056 \r\nQ 959 750 1161 570 \r\nQ 1363 391 1709 391 \r\nQ 2188 391 2477 730 \r\nQ 2766 1069 2766 1631 \r\nL 2766 1759 \r\nL 2194 1759 \r\nz\r\nM 3341 1997 \r\nL 3341 0 \r\nL 2766 0 \r\nL 2766 531 \r\nQ 2569 213 2275 61 \r\nQ 1981 -91 1556 -91 \r\nQ 1019 -91 701 211 \r\nQ 384 513 384 1019 \r\nQ 384 1609 779 1909 \r\nQ 1175 2209 1959 2209 \r\nL 2766 2209 \r\nL 2766 2266 \r\nQ 2766 2663 2505 2880 \r\nQ 2244 3097 1772 3097 \r\nQ 1472 3097 1187 3025 \r\nQ 903 2953 641 2809 \r\nL 641 3341 \r\nQ 956 3463 1253 3523 \r\nQ 1550 3584 1831 3584 \r\nQ 2591 3584 2966 3190 \r\nQ 3341 2797 3341 1997 \r\nz\r\n\" id=\"DejaVuSans-61\" transform=\"scale(0.015625)\"/>\r\n       <path d=\"M 603 4863 \r\nL 1178 4863 \r\nL 1178 0 \r\nL 603 0 \r\nL 603 4863 \r\nz\r\n\" id=\"DejaVuSans-6c\" transform=\"scale(0.015625)\"/>\r\n       <path id=\"DejaVuSans-20\" transform=\"scale(0.015625)\"/>\r\n       <path d=\"M 4122 4306 \r\nL 4122 3641 \r\nQ 3803 3938 3442 4084 \r\nQ 3081 4231 2675 4231 \r\nQ 1875 4231 1450 3742 \r\nQ 1025 3253 1025 2328 \r\nQ 1025 1406 1450 917 \r\nQ 1875 428 2675 428 \r\nQ 3081 428 3442 575 \r\nQ 3803 722 4122 1019 \r\nL 4122 359 \r\nQ 3791 134 3420 21 \r\nQ 3050 -91 2638 -91 \r\nQ 1578 -91 968 557 \r\nQ 359 1206 359 2328 \r\nQ 359 3453 968 4101 \r\nQ 1578 4750 2638 4750 \r\nQ 3056 4750 3426 4639 \r\nQ 3797 4528 4122 4306 \r\nz\r\n\" id=\"DejaVuSans-43\" transform=\"scale(0.015625)\"/>\r\n       <path d=\"M 1959 3097 \r\nQ 1497 3097 1228 2736 \r\nQ 959 2375 959 1747 \r\nQ 959 1119 1226 758 \r\nQ 1494 397 1959 397 \r\nQ 2419 397 2687 759 \r\nQ 2956 1122 2956 1747 \r\nQ 2956 2369 2687 2733 \r\nQ 2419 3097 1959 3097 \r\nz\r\nM 1959 3584 \r\nQ 2709 3584 3137 3096 \r\nQ 3566 2609 3566 1747 \r\nQ 3566 888 3137 398 \r\nQ 2709 -91 1959 -91 \r\nQ 1206 -91 779 398 \r\nQ 353 888 353 1747 \r\nQ 353 2609 779 3096 \r\nQ 1206 3584 1959 3584 \r\nz\r\n\" id=\"DejaVuSans-6f\" transform=\"scale(0.015625)\"/>\r\n       <path d=\"M 3122 3366 \r\nL 3122 2828 \r\nQ 2878 2963 2633 3030 \r\nQ 2388 3097 2138 3097 \r\nQ 1578 3097 1268 2742 \r\nQ 959 2388 959 1747 \r\nQ 959 1106 1268 751 \r\nQ 1578 397 2138 397 \r\nQ 2388 397 2633 464 \r\nQ 2878 531 3122 666 \r\nL 3122 134 \r\nQ 2881 22 2623 -34 \r\nQ 2366 -91 2075 -91 \r\nQ 1284 -91 818 406 \r\nQ 353 903 353 1747 \r\nQ 353 2603 823 3093 \r\nQ 1294 3584 2113 3584 \r\nQ 2378 3584 2631 3529 \r\nQ 2884 3475 3122 3366 \r\nz\r\n\" id=\"DejaVuSans-63\" transform=\"scale(0.015625)\"/>\r\n       <path d=\"M 581 4863 \r\nL 1159 4863 \r\nL 1159 1991 \r\nL 2875 3500 \r\nL 3609 3500 \r\nL 1753 1863 \r\nL 3688 0 \r\nL 2938 0 \r\nL 1159 1709 \r\nL 1159 0 \r\nL 581 0 \r\nL 581 4863 \r\nz\r\n\" id=\"DejaVuSans-6b\" transform=\"scale(0.015625)\"/>\r\n       <path d=\"M -19 4666 \r\nL 3928 4666 \r\nL 3928 4134 \r\nL 2272 4134 \r\nL 2272 0 \r\nL 1638 0 \r\nL 1638 4134 \r\nL -19 4134 \r\nL -19 4666 \r\nz\r\n\" id=\"DejaVuSans-54\" transform=\"scale(0.015625)\"/>\r\n       <path d=\"M 603 3500 \r\nL 1178 3500 \r\nL 1178 0 \r\nL 603 0 \r\nL 603 3500 \r\nz\r\nM 603 4863 \r\nL 1178 4863 \r\nL 1178 4134 \r\nL 603 4134 \r\nL 603 4863 \r\nz\r\n\" id=\"DejaVuSans-69\" transform=\"scale(0.015625)\"/>\r\n       <path d=\"M 3328 2828 \r\nQ 3544 3216 3844 3400 \r\nQ 4144 3584 4550 3584 \r\nQ 5097 3584 5394 3201 \r\nQ 5691 2819 5691 2113 \r\nL 5691 0 \r\nL 5113 0 \r\nL 5113 2094 \r\nQ 5113 2597 4934 2840 \r\nQ 4756 3084 4391 3084 \r\nQ 3944 3084 3684 2787 \r\nQ 3425 2491 3425 1978 \r\nL 3425 0 \r\nL 2847 0 \r\nL 2847 2094 \r\nQ 2847 2600 2669 2842 \r\nQ 2491 3084 2119 3084 \r\nQ 1678 3084 1418 2786 \r\nQ 1159 2488 1159 1978 \r\nL 1159 0 \r\nL 581 0 \r\nL 581 3500 \r\nL 1159 3500 \r\nL 1159 2956 \r\nQ 1356 3278 1631 3431 \r\nQ 1906 3584 2284 3584 \r\nQ 2666 3584 2933 3390 \r\nQ 3200 3197 3328 2828 \r\nz\r\n\" id=\"DejaVuSans-6d\" transform=\"scale(0.015625)\"/>\r\n       <path d=\"M 3597 1894 \r\nL 3597 1613 \r\nL 953 1613 \r\nQ 991 1019 1311 708 \r\nQ 1631 397 2203 397 \r\nQ 2534 397 2845 478 \r\nQ 3156 559 3463 722 \r\nL 3463 178 \r\nQ 3153 47 2828 -22 \r\nQ 2503 -91 2169 -91 \r\nQ 1331 -91 842 396 \r\nQ 353 884 353 1716 \r\nQ 353 2575 817 3079 \r\nQ 1281 3584 2069 3584 \r\nQ 2775 3584 3186 3129 \r\nQ 3597 2675 3597 1894 \r\nz\r\nM 3022 2063 \r\nQ 3016 2534 2758 2815 \r\nQ 2500 3097 2075 3097 \r\nQ 1594 3097 1305 2825 \r\nQ 1016 2553 972 2059 \r\nL 3022 2063 \r\nz\r\n\" id=\"DejaVuSans-65\" transform=\"scale(0.015625)\"/>\r\n       <path d=\"M 1984 4856 \r\nQ 1566 4138 1362 3434 \r\nQ 1159 2731 1159 2009 \r\nQ 1159 1288 1364 580 \r\nQ 1569 -128 1984 -844 \r\nL 1484 -844 \r\nQ 1016 -109 783 600 \r\nQ 550 1309 550 2009 \r\nQ 550 2706 781 3412 \r\nQ 1013 4119 1484 4856 \r\nL 1984 4856 \r\nz\r\n\" id=\"DejaVuSans-28\" transform=\"scale(0.015625)\"/>\r\n       <path d=\"M 2834 3397 \r\nL 2834 2853 \r\nQ 2591 2978 2328 3040 \r\nQ 2066 3103 1784 3103 \r\nQ 1356 3103 1142 2972 \r\nQ 928 2841 928 2578 \r\nQ 928 2378 1081 2264 \r\nQ 1234 2150 1697 2047 \r\nL 1894 2003 \r\nQ 2506 1872 2764 1633 \r\nQ 3022 1394 3022 966 \r\nQ 3022 478 2636 193 \r\nQ 2250 -91 1575 -91 \r\nQ 1294 -91 989 -36 \r\nQ 684 19 347 128 \r\nL 347 722 \r\nQ 666 556 975 473 \r\nQ 1284 391 1588 391 \r\nQ 1994 391 2212 530 \r\nQ 2431 669 2431 922 \r\nQ 2431 1156 2273 1281 \r\nQ 2116 1406 1581 1522 \r\nL 1381 1569 \r\nQ 847 1681 609 1914 \r\nQ 372 2147 372 2553 \r\nQ 372 3047 722 3315 \r\nQ 1072 3584 1716 3584 \r\nQ 2034 3584 2315 3537 \r\nQ 2597 3491 2834 3397 \r\nz\r\n\" id=\"DejaVuSans-73\" transform=\"scale(0.015625)\"/>\r\n       <path d=\"M 513 4856 \r\nL 1013 4856 \r\nQ 1481 4119 1714 3412 \r\nQ 1947 2706 1947 2009 \r\nQ 1947 1309 1714 600 \r\nQ 1481 -109 1013 -844 \r\nL 513 -844 \r\nQ 928 -128 1133 580 \r\nQ 1338 1288 1338 2009 \r\nQ 1338 2731 1133 3434 \r\nQ 928 4138 513 4856 \r\nz\r\n\" id=\"DejaVuSans-29\" transform=\"scale(0.015625)\"/>\r\n      </defs>\r\n      <use xlink:href=\"#DejaVuSans-57\"/>\r\n      <use x=\"92.501953\" xlink:href=\"#DejaVuSans-61\"/>\r\n      <use x=\"153.78125\" xlink:href=\"#DejaVuSans-6c\"/>\r\n      <use x=\"181.564453\" xlink:href=\"#DejaVuSans-6c\"/>\r\n      <use x=\"209.347656\" xlink:href=\"#DejaVuSans-20\"/>\r\n      <use x=\"241.134766\" xlink:href=\"#DejaVuSans-43\"/>\r\n      <use x=\"310.958984\" xlink:href=\"#DejaVuSans-6c\"/>\r\n      <use x=\"338.742188\" xlink:href=\"#DejaVuSans-6f\"/>\r\n      <use x=\"399.923828\" xlink:href=\"#DejaVuSans-63\"/>\r\n      <use x=\"454.904297\" xlink:href=\"#DejaVuSans-6b\"/>\r\n      <use x=\"512.814453\" xlink:href=\"#DejaVuSans-20\"/>\r\n      <use x=\"544.601562\" xlink:href=\"#DejaVuSans-54\"/>\r\n      <use x=\"602.560547\" xlink:href=\"#DejaVuSans-69\"/>\r\n      <use x=\"630.34375\" xlink:href=\"#DejaVuSans-6d\"/>\r\n      <use x=\"727.755859\" xlink:href=\"#DejaVuSans-65\"/>\r\n      <use x=\"789.279297\" xlink:href=\"#DejaVuSans-20\"/>\r\n      <use x=\"821.066406\" xlink:href=\"#DejaVuSans-28\"/>\r\n      <use x=\"860.080078\" xlink:href=\"#DejaVuSans-73\"/>\r\n      <use x=\"912.179688\" xlink:href=\"#DejaVuSans-29\"/>\r\n     </g>\r\n    </g>\r\n   </g>\r\n   <g id=\"matplotlib.axis_2\">\r\n    <g id=\"ytick_1\">\r\n     <g id=\"line2d_6\">\r\n      <defs>\r\n       <path d=\"M 0 0 \r\nL -3.5 0 \r\n\" id=\"ma815aea8f8\" style=\"stroke:#000000;stroke-width:0.8;\"/>\r\n      </defs>\r\n      <g>\r\n       <use style=\"stroke:#000000;stroke-width:0.8;\" x=\"69.23125\" xlink:href=\"#ma815aea8f8\" y=\"239.4818\"/>\r\n      </g>\r\n     </g>\r\n     <g id=\"text_7\">\r\n      <!-- 0.99925 -->\r\n      <g transform=\"translate(20.878125 243.281019)scale(0.1 -0.1)\">\r\n       <defs>\r\n        <path d=\"M 684 794 \r\nL 1344 794 \r\nL 1344 0 \r\nL 684 0 \r\nL 684 794 \r\nz\r\n\" id=\"DejaVuSans-2e\" transform=\"scale(0.015625)\"/>\r\n        <path d=\"M 703 97 \r\nL 703 672 \r\nQ 941 559 1184 500 \r\nQ 1428 441 1663 441 \r\nQ 2288 441 2617 861 \r\nQ 2947 1281 2994 2138 \r\nQ 2813 1869 2534 1725 \r\nQ 2256 1581 1919 1581 \r\nQ 1219 1581 811 2004 \r\nQ 403 2428 403 3163 \r\nQ 403 3881 828 4315 \r\nQ 1253 4750 1959 4750 \r\nQ 2769 4750 3195 4129 \r\nQ 3622 3509 3622 2328 \r\nQ 3622 1225 3098 567 \r\nQ 2575 -91 1691 -91 \r\nQ 1453 -91 1209 -44 \r\nQ 966 3 703 97 \r\nz\r\nM 1959 2075 \r\nQ 2384 2075 2632 2365 \r\nQ 2881 2656 2881 3163 \r\nQ 2881 3666 2632 3958 \r\nQ 2384 4250 1959 4250 \r\nQ 1534 4250 1286 3958 \r\nQ 1038 3666 1038 3163 \r\nQ 1038 2656 1286 2365 \r\nQ 1534 2075 1959 2075 \r\nz\r\n\" id=\"DejaVuSans-39\" transform=\"scale(0.015625)\"/>\r\n        <path d=\"M 691 4666 \r\nL 3169 4666 \r\nL 3169 4134 \r\nL 1269 4134 \r\nL 1269 2991 \r\nQ 1406 3038 1543 3061 \r\nQ 1681 3084 1819 3084 \r\nQ 2600 3084 3056 2656 \r\nQ 3513 2228 3513 1497 \r\nQ 3513 744 3044 326 \r\nQ 2575 -91 1722 -91 \r\nQ 1428 -91 1123 -41 \r\nQ 819 9 494 109 \r\nL 494 744 \r\nQ 775 591 1075 516 \r\nQ 1375 441 1709 441 \r\nQ 2250 441 2565 725 \r\nQ 2881 1009 2881 1497 \r\nQ 2881 1984 2565 2268 \r\nQ 2250 2553 1709 2553 \r\nQ 1456 2553 1204 2497 \r\nQ 953 2441 691 2322 \r\nL 691 4666 \r\nz\r\n\" id=\"DejaVuSans-35\" transform=\"scale(0.015625)\"/>\r\n       </defs>\r\n       <use xlink:href=\"#DejaVuSans-30\"/>\r\n       <use x=\"63.623047\" xlink:href=\"#DejaVuSans-2e\"/>\r\n       <use x=\"95.410156\" xlink:href=\"#DejaVuSans-39\"/>\r\n       <use x=\"159.033203\" xlink:href=\"#DejaVuSans-39\"/>\r\n       <use x=\"222.65625\" xlink:href=\"#DejaVuSans-39\"/>\r\n       <use x=\"286.279297\" xlink:href=\"#DejaVuSans-32\"/>\r\n       <use x=\"349.902344\" xlink:href=\"#DejaVuSans-35\"/>\r\n      </g>\r\n     </g>\r\n    </g>\r\n    <g id=\"ytick_2\">\r\n     <g id=\"line2d_7\">\r\n      <g>\r\n       <use style=\"stroke:#000000;stroke-width:0.8;\" x=\"69.23125\" xlink:href=\"#ma815aea8f8\" y=\"201.583159\"/>\r\n      </g>\r\n     </g>\r\n     <g id=\"text_8\">\r\n      <!-- 0.99930 -->\r\n      <g transform=\"translate(20.878125 205.382378)scale(0.1 -0.1)\">\r\n       <defs>\r\n        <path d=\"M 2597 2516 \r\nQ 3050 2419 3304 2112 \r\nQ 3559 1806 3559 1356 \r\nQ 3559 666 3084 287 \r\nQ 2609 -91 1734 -91 \r\nQ 1441 -91 1130 -33 \r\nQ 819 25 488 141 \r\nL 488 750 \r\nQ 750 597 1062 519 \r\nQ 1375 441 1716 441 \r\nQ 2309 441 2620 675 \r\nQ 2931 909 2931 1356 \r\nQ 2931 1769 2642 2001 \r\nQ 2353 2234 1838 2234 \r\nL 1294 2234 \r\nL 1294 2753 \r\nL 1863 2753 \r\nQ 2328 2753 2575 2939 \r\nQ 2822 3125 2822 3475 \r\nQ 2822 3834 2567 4026 \r\nQ 2313 4219 1838 4219 \r\nQ 1578 4219 1281 4162 \r\nQ 984 4106 628 3988 \r\nL 628 4550 \r\nQ 988 4650 1302 4700 \r\nQ 1616 4750 1894 4750 \r\nQ 2613 4750 3031 4423 \r\nQ 3450 4097 3450 3541 \r\nQ 3450 3153 3228 2886 \r\nQ 3006 2619 2597 2516 \r\nz\r\n\" id=\"DejaVuSans-33\" transform=\"scale(0.015625)\"/>\r\n       </defs>\r\n       <use xlink:href=\"#DejaVuSans-30\"/>\r\n       <use x=\"63.623047\" xlink:href=\"#DejaVuSans-2e\"/>\r\n       <use x=\"95.410156\" xlink:href=\"#DejaVuSans-39\"/>\r\n       <use x=\"159.033203\" xlink:href=\"#DejaVuSans-39\"/>\r\n       <use x=\"222.65625\" xlink:href=\"#DejaVuSans-39\"/>\r\n       <use x=\"286.279297\" xlink:href=\"#DejaVuSans-33\"/>\r\n       <use x=\"349.902344\" xlink:href=\"#DejaVuSans-30\"/>\r\n      </g>\r\n     </g>\r\n    </g>\r\n    <g id=\"ytick_3\">\r\n     <g id=\"line2d_8\">\r\n      <g>\r\n       <use style=\"stroke:#000000;stroke-width:0.8;\" x=\"69.23125\" xlink:href=\"#ma815aea8f8\" y=\"163.684518\"/>\r\n      </g>\r\n     </g>\r\n     <g id=\"text_9\">\r\n      <!-- 0.99935 -->\r\n      <g transform=\"translate(20.878125 167.483737)scale(0.1 -0.1)\">\r\n       <use xlink:href=\"#DejaVuSans-30\"/>\r\n       <use x=\"63.623047\" xlink:href=\"#DejaVuSans-2e\"/>\r\n       <use x=\"95.410156\" xlink:href=\"#DejaVuSans-39\"/>\r\n       <use x=\"159.033203\" xlink:href=\"#DejaVuSans-39\"/>\r\n       <use x=\"222.65625\" xlink:href=\"#DejaVuSans-39\"/>\r\n       <use x=\"286.279297\" xlink:href=\"#DejaVuSans-33\"/>\r\n       <use x=\"349.902344\" xlink:href=\"#DejaVuSans-35\"/>\r\n      </g>\r\n     </g>\r\n    </g>\r\n    <g id=\"ytick_4\">\r\n     <g id=\"line2d_9\">\r\n      <g>\r\n       <use style=\"stroke:#000000;stroke-width:0.8;\" x=\"69.23125\" xlink:href=\"#ma815aea8f8\" y=\"125.785877\"/>\r\n      </g>\r\n     </g>\r\n     <g id=\"text_10\">\r\n      <!-- 0.99940 -->\r\n      <g transform=\"translate(20.878125 129.585096)scale(0.1 -0.1)\">\r\n       <use xlink:href=\"#DejaVuSans-30\"/>\r\n       <use x=\"63.623047\" xlink:href=\"#DejaVuSans-2e\"/>\r\n       <use x=\"95.410156\" xlink:href=\"#DejaVuSans-39\"/>\r\n       <use x=\"159.033203\" xlink:href=\"#DejaVuSans-39\"/>\r\n       <use x=\"222.65625\" xlink:href=\"#DejaVuSans-39\"/>\r\n       <use x=\"286.279297\" xlink:href=\"#DejaVuSans-34\"/>\r\n       <use x=\"349.902344\" xlink:href=\"#DejaVuSans-30\"/>\r\n      </g>\r\n     </g>\r\n    </g>\r\n    <g id=\"ytick_5\">\r\n     <g id=\"line2d_10\">\r\n      <g>\r\n       <use style=\"stroke:#000000;stroke-width:0.8;\" x=\"69.23125\" xlink:href=\"#ma815aea8f8\" y=\"87.887236\"/>\r\n      </g>\r\n     </g>\r\n     <g id=\"text_11\">\r\n      <!-- 0.99945 -->\r\n      <g transform=\"translate(20.878125 91.686455)scale(0.1 -0.1)\">\r\n       <use xlink:href=\"#DejaVuSans-30\"/>\r\n       <use x=\"63.623047\" xlink:href=\"#DejaVuSans-2e\"/>\r\n       <use x=\"95.410156\" xlink:href=\"#DejaVuSans-39\"/>\r\n       <use x=\"159.033203\" xlink:href=\"#DejaVuSans-39\"/>\r\n       <use x=\"222.65625\" xlink:href=\"#DejaVuSans-39\"/>\r\n       <use x=\"286.279297\" xlink:href=\"#DejaVuSans-34\"/>\r\n       <use x=\"349.902344\" xlink:href=\"#DejaVuSans-35\"/>\r\n      </g>\r\n     </g>\r\n    </g>\r\n    <g id=\"ytick_6\">\r\n     <g id=\"line2d_11\">\r\n      <g>\r\n       <use style=\"stroke:#000000;stroke-width:0.8;\" x=\"69.23125\" xlink:href=\"#ma815aea8f8\" y=\"49.988595\"/>\r\n      </g>\r\n     </g>\r\n     <g id=\"text_12\">\r\n      <!-- 0.99950 -->\r\n      <g transform=\"translate(20.878125 53.787814)scale(0.1 -0.1)\">\r\n       <use xlink:href=\"#DejaVuSans-30\"/>\r\n       <use x=\"63.623047\" xlink:href=\"#DejaVuSans-2e\"/>\r\n       <use x=\"95.410156\" xlink:href=\"#DejaVuSans-39\"/>\r\n       <use x=\"159.033203\" xlink:href=\"#DejaVuSans-39\"/>\r\n       <use x=\"222.65625\" xlink:href=\"#DejaVuSans-39\"/>\r\n       <use x=\"286.279297\" xlink:href=\"#DejaVuSans-35\"/>\r\n       <use x=\"349.902344\" xlink:href=\"#DejaVuSans-30\"/>\r\n      </g>\r\n     </g>\r\n    </g>\r\n    <g id=\"text_13\">\r\n     <!-- Validation Accuracy -->\r\n     <g transform=\"translate(14.798438 180.145937)rotate(-90)scale(0.1 -0.1)\">\r\n      <defs>\r\n       <path d=\"M 1831 0 \r\nL 50 4666 \r\nL 709 4666 \r\nL 2188 738 \r\nL 3669 4666 \r\nL 4325 4666 \r\nL 2547 0 \r\nL 1831 0 \r\nz\r\n\" id=\"DejaVuSans-56\" transform=\"scale(0.015625)\"/>\r\n       <path d=\"M 2906 2969 \r\nL 2906 4863 \r\nL 3481 4863 \r\nL 3481 0 \r\nL 2906 0 \r\nL 2906 525 \r\nQ 2725 213 2448 61 \r\nQ 2172 -91 1784 -91 \r\nQ 1150 -91 751 415 \r\nQ 353 922 353 1747 \r\nQ 353 2572 751 3078 \r\nQ 1150 3584 1784 3584 \r\nQ 2172 3584 2448 3432 \r\nQ 2725 3281 2906 2969 \r\nz\r\nM 947 1747 \r\nQ 947 1113 1208 752 \r\nQ 1469 391 1925 391 \r\nQ 2381 391 2643 752 \r\nQ 2906 1113 2906 1747 \r\nQ 2906 2381 2643 2742 \r\nQ 2381 3103 1925 3103 \r\nQ 1469 3103 1208 2742 \r\nQ 947 2381 947 1747 \r\nz\r\n\" id=\"DejaVuSans-64\" transform=\"scale(0.015625)\"/>\r\n       <path d=\"M 1172 4494 \r\nL 1172 3500 \r\nL 2356 3500 \r\nL 2356 3053 \r\nL 1172 3053 \r\nL 1172 1153 \r\nQ 1172 725 1289 603 \r\nQ 1406 481 1766 481 \r\nL 2356 481 \r\nL 2356 0 \r\nL 1766 0 \r\nQ 1100 0 847 248 \r\nQ 594 497 594 1153 \r\nL 594 3053 \r\nL 172 3053 \r\nL 172 3500 \r\nL 594 3500 \r\nL 594 4494 \r\nL 1172 4494 \r\nz\r\n\" id=\"DejaVuSans-74\" transform=\"scale(0.015625)\"/>\r\n       <path d=\"M 3513 2113 \r\nL 3513 0 \r\nL 2938 0 \r\nL 2938 2094 \r\nQ 2938 2591 2744 2837 \r\nQ 2550 3084 2163 3084 \r\nQ 1697 3084 1428 2787 \r\nQ 1159 2491 1159 1978 \r\nL 1159 0 \r\nL 581 0 \r\nL 581 3500 \r\nL 1159 3500 \r\nL 1159 2956 \r\nQ 1366 3272 1645 3428 \r\nQ 1925 3584 2291 3584 \r\nQ 2894 3584 3203 3211 \r\nQ 3513 2838 3513 2113 \r\nz\r\n\" id=\"DejaVuSans-6e\" transform=\"scale(0.015625)\"/>\r\n       <path d=\"M 2188 4044 \r\nL 1331 1722 \r\nL 3047 1722 \r\nL 2188 4044 \r\nz\r\nM 1831 4666 \r\nL 2547 4666 \r\nL 4325 0 \r\nL 3669 0 \r\nL 3244 1197 \r\nL 1141 1197 \r\nL 716 0 \r\nL 50 0 \r\nL 1831 4666 \r\nz\r\n\" id=\"DejaVuSans-41\" transform=\"scale(0.015625)\"/>\r\n       <path d=\"M 544 1381 \r\nL 544 3500 \r\nL 1119 3500 \r\nL 1119 1403 \r\nQ 1119 906 1312 657 \r\nQ 1506 409 1894 409 \r\nQ 2359 409 2629 706 \r\nQ 2900 1003 2900 1516 \r\nL 2900 3500 \r\nL 3475 3500 \r\nL 3475 0 \r\nL 2900 0 \r\nL 2900 538 \r\nQ 2691 219 2414 64 \r\nQ 2138 -91 1772 -91 \r\nQ 1169 -91 856 284 \r\nQ 544 659 544 1381 \r\nz\r\nM 1991 3584 \r\nL 1991 3584 \r\nz\r\n\" id=\"DejaVuSans-75\" transform=\"scale(0.015625)\"/>\r\n       <path d=\"M 2631 2963 \r\nQ 2534 3019 2420 3045 \r\nQ 2306 3072 2169 3072 \r\nQ 1681 3072 1420 2755 \r\nQ 1159 2438 1159 1844 \r\nL 1159 0 \r\nL 581 0 \r\nL 581 3500 \r\nL 1159 3500 \r\nL 1159 2956 \r\nQ 1341 3275 1631 3429 \r\nQ 1922 3584 2338 3584 \r\nQ 2397 3584 2469 3576 \r\nQ 2541 3569 2628 3553 \r\nL 2631 2963 \r\nz\r\n\" id=\"DejaVuSans-72\" transform=\"scale(0.015625)\"/>\r\n       <path d=\"M 2059 -325 \r\nQ 1816 -950 1584 -1140 \r\nQ 1353 -1331 966 -1331 \r\nL 506 -1331 \r\nL 506 -850 \r\nL 844 -850 \r\nQ 1081 -850 1212 -737 \r\nQ 1344 -625 1503 -206 \r\nL 1606 56 \r\nL 191 3500 \r\nL 800 3500 \r\nL 1894 763 \r\nL 2988 3500 \r\nL 3597 3500 \r\nL 2059 -325 \r\nz\r\n\" id=\"DejaVuSans-79\" transform=\"scale(0.015625)\"/>\r\n      </defs>\r\n      <use xlink:href=\"#DejaVuSans-56\"/>\r\n      <use x=\"60.658203\" xlink:href=\"#DejaVuSans-61\"/>\r\n      <use x=\"121.9375\" xlink:href=\"#DejaVuSans-6c\"/>\r\n      <use x=\"149.720703\" xlink:href=\"#DejaVuSans-69\"/>\r\n      <use x=\"177.503906\" xlink:href=\"#DejaVuSans-64\"/>\r\n      <use x=\"240.980469\" xlink:href=\"#DejaVuSans-61\"/>\r\n      <use x=\"302.259766\" xlink:href=\"#DejaVuSans-74\"/>\r\n      <use x=\"341.46875\" xlink:href=\"#DejaVuSans-69\"/>\r\n      <use x=\"369.251953\" xlink:href=\"#DejaVuSans-6f\"/>\r\n      <use x=\"430.433594\" xlink:href=\"#DejaVuSans-6e\"/>\r\n      <use x=\"493.8125\" xlink:href=\"#DejaVuSans-20\"/>\r\n      <use x=\"525.599609\" xlink:href=\"#DejaVuSans-41\"/>\r\n      <use x=\"592.257812\" xlink:href=\"#DejaVuSans-63\"/>\r\n      <use x=\"647.238281\" xlink:href=\"#DejaVuSans-63\"/>\r\n      <use x=\"702.21875\" xlink:href=\"#DejaVuSans-75\"/>\r\n      <use x=\"765.597656\" xlink:href=\"#DejaVuSans-72\"/>\r\n      <use x=\"806.710938\" xlink:href=\"#DejaVuSans-61\"/>\r\n      <use x=\"867.990234\" xlink:href=\"#DejaVuSans-63\"/>\r\n      <use x=\"922.970703\" xlink:href=\"#DejaVuSans-79\"/>\r\n     </g>\r\n    </g>\r\n   </g>\r\n   <g id=\"line2d_12\">\r\n    <path clip-path=\"url(#p9ac98f269c)\" d=\"M 84.449432 229.874489 \r\nL 96.617022 229.874489 \r\nL 96.617022 111.307384 \r\nL 106.38742 111.307384 \r\nL 106.38742 98.627902 \r\nL 141.151902 98.627902 \r\nL 141.151902 35.784604 \r\nL 388.813068 35.784604 \r\nL 388.813068 32.201761 \r\n\" style=\"fill:none;stroke:#1f77b4;stroke-linecap:square;stroke-width:1.5;\"/>\r\n   </g>\r\n   <g id=\"patch_3\">\r\n    <path d=\"M 69.23125 239.758125 \r\nL 69.23125 22.318125 \r\n\" style=\"fill:none;stroke:#000000;stroke-linecap:square;stroke-linejoin:miter;stroke-width:0.8;\"/>\r\n   </g>\r\n   <g id=\"patch_4\">\r\n    <path d=\"M 404.03125 239.758125 \r\nL 404.03125 22.318125 \r\n\" style=\"fill:none;stroke:#000000;stroke-linecap:square;stroke-linejoin:miter;stroke-width:0.8;\"/>\r\n   </g>\r\n   <g id=\"patch_5\">\r\n    <path d=\"M 69.23125 239.758125 \r\nL 404.03125 239.758125 \r\n\" style=\"fill:none;stroke:#000000;stroke-linecap:square;stroke-linejoin:miter;stroke-width:0.8;\"/>\r\n   </g>\r\n   <g id=\"patch_6\">\r\n    <path d=\"M 69.23125 22.318125 \r\nL 404.03125 22.318125 \r\n\" style=\"fill:none;stroke:#000000;stroke-linecap:square;stroke-linejoin:miter;stroke-width:0.8;\"/>\r\n   </g>\r\n   <g id=\"text_14\">\r\n    <!-- Learning Curve -->\r\n    <g transform=\"translate(190.973125 16.318125)scale(0.12 -0.12)\">\r\n     <defs>\r\n      <path d=\"M 628 4666 \r\nL 1259 4666 \r\nL 1259 531 \r\nL 3531 531 \r\nL 3531 0 \r\nL 628 0 \r\nL 628 4666 \r\nz\r\n\" id=\"DejaVuSans-4c\" transform=\"scale(0.015625)\"/>\r\n      <path d=\"M 2906 1791 \r\nQ 2906 2416 2648 2759 \r\nQ 2391 3103 1925 3103 \r\nQ 1463 3103 1205 2759 \r\nQ 947 2416 947 1791 \r\nQ 947 1169 1205 825 \r\nQ 1463 481 1925 481 \r\nQ 2391 481 2648 825 \r\nQ 2906 1169 2906 1791 \r\nz\r\nM 3481 434 \r\nQ 3481 -459 3084 -895 \r\nQ 2688 -1331 1869 -1331 \r\nQ 1566 -1331 1297 -1286 \r\nQ 1028 -1241 775 -1147 \r\nL 775 -588 \r\nQ 1028 -725 1275 -790 \r\nQ 1522 -856 1778 -856 \r\nQ 2344 -856 2625 -561 \r\nQ 2906 -266 2906 331 \r\nL 2906 616 \r\nQ 2728 306 2450 153 \r\nQ 2172 0 1784 0 \r\nQ 1141 0 747 490 \r\nQ 353 981 353 1791 \r\nQ 353 2603 747 3093 \r\nQ 1141 3584 1784 3584 \r\nQ 2172 3584 2450 3431 \r\nQ 2728 3278 2906 2969 \r\nL 2906 3500 \r\nL 3481 3500 \r\nL 3481 434 \r\nz\r\n\" id=\"DejaVuSans-67\" transform=\"scale(0.015625)\"/>\r\n      <path d=\"M 191 3500 \r\nL 800 3500 \r\nL 1894 563 \r\nL 2988 3500 \r\nL 3597 3500 \r\nL 2284 0 \r\nL 1503 0 \r\nL 191 3500 \r\nz\r\n\" id=\"DejaVuSans-76\" transform=\"scale(0.015625)\"/>\r\n     </defs>\r\n     <use xlink:href=\"#DejaVuSans-4c\"/>\r\n     <use x=\"53.962891\" xlink:href=\"#DejaVuSans-65\"/>\r\n     <use x=\"115.486328\" xlink:href=\"#DejaVuSans-61\"/>\r\n     <use x=\"176.765625\" xlink:href=\"#DejaVuSans-72\"/>\r\n     <use x=\"216.128906\" xlink:href=\"#DejaVuSans-6e\"/>\r\n     <use x=\"279.507812\" xlink:href=\"#DejaVuSans-69\"/>\r\n     <use x=\"307.291016\" xlink:href=\"#DejaVuSans-6e\"/>\r\n     <use x=\"370.669922\" xlink:href=\"#DejaVuSans-67\"/>\r\n     <use x=\"434.146484\" xlink:href=\"#DejaVuSans-20\"/>\r\n     <use x=\"465.933594\" xlink:href=\"#DejaVuSans-43\"/>\r\n     <use x=\"535.757812\" xlink:href=\"#DejaVuSans-75\"/>\r\n     <use x=\"599.136719\" xlink:href=\"#DejaVuSans-72\"/>\r\n     <use x=\"640.25\" xlink:href=\"#DejaVuSans-76\"/>\r\n     <use x=\"699.429688\" xlink:href=\"#DejaVuSans-65\"/>\r\n    </g>\r\n   </g>\r\n  </g>\r\n </g>\r\n <defs>\r\n  <clipPath id=\"p9ac98f269c\">\r\n   <rect height=\"217.44\" width=\"334.8\" x=\"69.23125\" y=\"22.318125\"/>\r\n  </clipPath>\r\n </defs>\r\n</svg>\r\n",
      "image/png": "[encoded data removed]"
     },
     "metadata": {
      "needs_background": "light"
     }
    }
   ],
   "metadata": {}
  },
  {
   "cell_type": "markdown",
   "source": [
    "## 3. Comparison with Alternatives"
   ],
   "metadata": {}
  },
  {
   "cell_type": "markdown",
   "source": [
    "FLAML's MAPE"
   ],
   "metadata": {}
  },
  {
   "cell_type": "code",
   "execution_count": 13,
   "source": [
    "from flaml.ml import sklearn_metric_loss_score\r\n",
    "print('flaml mape', '=', sklearn_metric_loss_score('mape', y_pred, y_test))"
   ],
   "outputs": [
    {
     "output_type": "stream",
     "name": "stdout",
     "text": [
      "flaml mape = 0.0006780276756290267\n"
     ]
    }
   ],
   "metadata": {}
  },
  {
   "cell_type": "markdown",
   "source": [
    "### Default Prophet"
   ],
   "metadata": {}
  },
  {
   "cell_type": "code",
   "execution_count": 14,
   "source": [
    "from prophet import Prophet\r\n",
    "prophet_model = Prophet()"
   ],
   "outputs": [],
   "metadata": {}
  },
  {
   "cell_type": "code",
   "execution_count": 15,
   "source": [
    "X_train_prophet = X_train.copy()\r\n",
    "X_train_prophet = X_train_prophet.rename(columns={'index': 'ds', 'co2': 'y'})\r\n",
    "prophet_model.fit(X_train_prophet)"
   ],
   "outputs": [
    {
     "output_type": "stream",
     "name": "stderr",
     "text": [
      "INFO:prophet:Disabling weekly seasonality. Run prophet with weekly_seasonality=True to override this.\n",
      "INFO:prophet:Disabling daily seasonality. Run prophet with daily_seasonality=True to override this.\n"
     ]
    },
    {
     "output_type": "execute_result",
     "data": {
      "text/plain": [
       "<prophet.forecaster.Prophet at 0x24052699dc0>"
      ]
     },
     "metadata": {},
     "execution_count": 15
    }
   ],
   "metadata": {}
  },
  {
   "cell_type": "code",
   "execution_count": 17,
   "source": [
    "X_test_prophet = X_test.copy()\r\n",
    "X_test_prophet = X_test_prophet.rename(columns={'index': 'ds'})\r\n",
    "y_pred = prophet_model.predict(X_test_prophet)['yhat']\r\n",
    "print('Predicted labels', y_pred)\r\n",
    "print('True labels', y_test)\r\n",
    "from flaml.ml import sklearn_metric_loss_score\r\n",
    "print('default prophet mape', '=', sklearn_metric_loss_score('mape', y_pred, y_test))"
   ],
   "outputs": [
    {
     "output_type": "stream",
     "name": "stdout",
     "text": [
      "Predicted labels 0     370.450675\n",
      "1     371.177764\n",
      "2     372.229577\n",
      "3     373.419835\n",
      "4     373.914917\n",
      "5     373.406484\n",
      "6     372.053428\n",
      "7     370.149037\n",
      "8     368.566631\n",
      "9     368.646853\n",
      "10    369.863891\n",
      "11    371.135959\n",
      "Name: yhat, dtype: float64\n",
      "True labels          co2\n",
      "514  370.175\n",
      "515  371.325\n",
      "516  372.060\n",
      "517  372.775\n",
      "518  373.800\n",
      "519  373.060\n",
      "520  371.300\n",
      "521  369.425\n",
      "522  367.880\n",
      "523  368.050\n",
      "524  369.375\n",
      "525  371.020\n",
      "default prophet mape = 0.0011396920680673015\n"
     ]
    }
   ],
   "metadata": {}
  },
  {
   "cell_type": "markdown",
   "source": [
    "### Auto Arima"
   ],
   "metadata": {}
  },
  {
   "cell_type": "code",
   "execution_count": 18,
   "source": [
    "# !pip install pmdarima"
   ],
   "outputs": [],
   "metadata": {}
  },
  {
   "cell_type": "code",
   "execution_count": 19,
   "source": [
    "from pmdarima.arima import auto_arima\r\n",
    "import pandas as pd\r\n",
    "import time"
   ],
   "outputs": [],
   "metadata": {}
  },
  {
   "cell_type": "code",
   "execution_count": 30,
   "source": [
    "X_train_arima = X_train.copy()\r\n",
    "X_train_arima.index = pd.to_datetime(X_train_arima['index'])\r\n",
    "X_train_arima = X_train_arima.drop('index', axis=1)\r\n",
    "X_train_arima = X_train_arima.rename(columns={'co2': 'y'})\r\n",
    "# use same search space as FLAML\r\n",
    "arima_model = auto_arima(X_train_arima, \r\n",
    "                         start_p=2, d=None, start_q=2, max_p=10, max_d=2, max_q=10, \r\n",
    "                         suppress_warnings=True, stepwise=False, seasonal=False, \r\n",
    "                         error_action='ignore', trace=True, n_fits=50)"
   ],
   "outputs": [
    {
     "output_type": "stream",
     "name": "stdout",
     "text": [
      " ARIMA(0,1,0)(0,0,0)[0] intercept   : AIC=1638.009, Time=0.04 sec\n",
      " ARIMA(0,1,1)(0,0,0)[0] intercept   : AIC=1344.207, Time=0.10 sec\n",
      " ARIMA(0,1,2)(0,0,0)[0] intercept   : AIC=1222.286, Time=0.12 sec\n",
      " ARIMA(0,1,3)(0,0,0)[0] intercept   : AIC=1174.928, Time=0.18 sec\n",
      " ARIMA(0,1,4)(0,0,0)[0] intercept   : AIC=1188.947, Time=0.37 sec\n",
      " ARIMA(0,1,5)(0,0,0)[0] intercept   : AIC=1091.452, Time=0.54 sec\n",
      " ARIMA(1,1,0)(0,0,0)[0] intercept   : AIC=1298.693, Time=0.07 sec\n",
      " ARIMA(1,1,1)(0,0,0)[0] intercept   : AIC=1240.963, Time=0.16 sec\n",
      " ARIMA(1,1,2)(0,0,0)[0] intercept   : AIC=1196.535, Time=0.19 sec\n",
      " ARIMA(1,1,3)(0,0,0)[0] intercept   : AIC=1176.484, Time=0.27 sec\n",
      " ARIMA(1,1,4)(0,0,0)[0] intercept   : AIC=inf, Time=1.12 sec\n",
      " ARIMA(2,1,0)(0,0,0)[0] intercept   : AIC=1180.404, Time=0.09 sec\n",
      " ARIMA(2,1,1)(0,0,0)[0] intercept   : AIC=990.719, Time=0.35 sec\n",
      " ARIMA(2,1,2)(0,0,0)[0] intercept   : AIC=988.094, Time=0.52 sec\n",
      " ARIMA(2,1,3)(0,0,0)[0] intercept   : AIC=1140.469, Time=0.48 sec\n",
      " ARIMA(3,1,0)(0,0,0)[0] intercept   : AIC=1126.139, Time=0.24 sec\n",
      " ARIMA(3,1,1)(0,0,0)[0] intercept   : AIC=989.496, Time=0.63 sec\n",
      " ARIMA(3,1,2)(0,0,0)[0] intercept   : AIC=991.599, Time=0.83 sec\n",
      " ARIMA(4,1,0)(0,0,0)[0] intercept   : AIC=1125.025, Time=0.17 sec\n",
      " ARIMA(4,1,1)(0,0,0)[0] intercept   : AIC=988.660, Time=0.75 sec\n",
      " ARIMA(5,1,0)(0,0,0)[0] intercept   : AIC=1113.673, Time=0.21 sec\n",
      "\n",
      "Best model:  ARIMA(2,1,2)(0,0,0)[0] intercept\n",
      "Total fit time: 7.625 seconds\n",
      "7.66707968711853\n"
     ]
    }
   ],
   "metadata": {}
  },
  {
   "cell_type": "code",
   "execution_count": 31,
   "source": [
    "y_pred = arima_model.predict(n_periods = 12)\r\n",
    "print('Predicted labels', y_pred)\r\n",
    "print('True labels', y_test)\r\n",
    "from flaml.ml import sklearn_metric_loss_score\r\n",
    "print('auto arima mape', '=', sklearn_metric_loss_score('mape', y_pred, y_test))"
   ],
   "outputs": [
    {
     "output_type": "stream",
     "name": "stdout",
     "text": [
      "Predicted labels [370.79556132 371.7634416  372.13571633 371.90468927 371.24154256\n",
      " 370.42473739 369.74521422 369.41909493 369.5327542  370.03264528\n",
      " 370.75760204 371.49907745]\n",
      "True labels          co2\n",
      "514  370.175\n",
      "515  371.325\n",
      "516  372.060\n",
      "517  372.775\n",
      "518  373.800\n",
      "519  373.060\n",
      "520  371.300\n",
      "521  369.425\n",
      "522  367.880\n",
      "523  368.050\n",
      "524  369.375\n",
      "525  371.020\n",
      "auto arima mape = 0.003201746906460404\n"
     ]
    }
   ],
   "metadata": {}
  },
  {
   "cell_type": "markdown",
   "source": [
    "### Auto SARIMA"
   ],
   "metadata": {}
  },
  {
   "cell_type": "code",
   "execution_count": 32,
   "source": [
    "# !pip install pmdarima"
   ],
   "outputs": [],
   "metadata": {}
  },
  {
   "cell_type": "code",
   "execution_count": 33,
   "source": [
    "from pmdarima.arima import auto_arima\r\n",
    "import pandas as pd\r\n",
    "import time"
   ],
   "outputs": [],
   "metadata": {}
  },
  {
   "cell_type": "code",
   "execution_count": 34,
   "source": [
    "X_train_arima = X_train.copy()\r\n",
    "X_train_arima.index = pd.to_datetime(X_train_arima['index'])\r\n",
    "X_train_arima = X_train_arima.drop('index', axis=1)\r\n",
    "X_train_arima = X_train_arima.rename(columns={'co2': 'y'})\r\n",
    "# use same search space as FLAML\r\n",
    "arima_model = auto_arima(X_train_arima, \r\n",
    "                         start_p=2, d=None, start_q=2, max_p=10, max_d=2, max_q=10,\r\n",
    "                         start_P=1, D=None, start_Q=1, max_P=10, max_D=2, max_Q=10, m=12,\r\n",
    "                         suppress_warnings=True, stepwise=False, seasonal=True, \r\n",
    "                         error_action='ignore', trace=True, n_fits=50)"
   ],
   "outputs": [
    {
     "output_type": "stream",
     "name": "stdout",
     "text": [
      " ARIMA(0,1,0)(0,0,0)[12] intercept   : AIC=1638.009, Time=0.02 sec\n",
      " ARIMA(0,1,0)(0,0,1)[12] intercept   : AIC=1238.943, Time=0.20 sec\n",
      " ARIMA(0,1,0)(0,0,2)[12] intercept   : AIC=1040.890, Time=0.46 sec\n",
      " ARIMA(0,1,0)(0,0,3)[12] intercept   : AIC=911.545, Time=1.12 sec\n",
      " ARIMA(0,1,0)(0,0,4)[12] intercept   : AIC=823.103, Time=2.16 sec\n",
      " ARIMA(0,1,0)(0,0,5)[12] intercept   : AIC=792.850, Time=4.17 sec\n",
      " ARIMA(0,1,0)(1,0,0)[12] intercept   : AIC=inf, Time=0.20 sec\n",
      " ARIMA(0,1,0)(1,0,1)[12] intercept   : AIC=inf, Time=0.95 sec\n",
      " ARIMA(0,1,0)(1,0,2)[12] intercept   : AIC=inf, Time=1.99 sec\n",
      " ARIMA(0,1,0)(1,0,3)[12] intercept   : AIC=442.078, Time=5.41 sec\n",
      " ARIMA(0,1,0)(1,0,4)[12] intercept   : AIC=inf, Time=9.09 sec\n",
      " ARIMA(0,1,0)(2,0,0)[12] intercept   : AIC=inf, Time=1.00 sec\n",
      " ARIMA(0,1,0)(2,0,1)[12] intercept   : AIC=inf, Time=1.97 sec\n",
      " ARIMA(0,1,0)(2,0,2)[12] intercept   : AIC=inf, Time=2.13 sec\n",
      " ARIMA(0,1,0)(2,0,3)[12] intercept   : AIC=427.410, Time=6.67 sec\n",
      " ARIMA(0,1,0)(3,0,0)[12] intercept   : AIC=inf, Time=3.08 sec\n",
      " ARIMA(0,1,0)(3,0,1)[12] intercept   : AIC=438.942, Time=3.53 sec\n",
      " ARIMA(0,1,0)(3,0,2)[12] intercept   : AIC=431.438, Time=6.38 sec\n",
      " ARIMA(0,1,0)(4,0,0)[12] intercept   : AIC=inf, Time=6.12 sec\n",
      " ARIMA(0,1,0)(4,0,1)[12] intercept   : AIC=430.317, Time=9.01 sec\n",
      " ARIMA(0,1,0)(5,0,0)[12] intercept   : AIC=inf, Time=13.93 sec\n",
      " ARIMA(0,1,1)(0,0,0)[12] intercept   : AIC=1344.207, Time=0.10 sec\n",
      " ARIMA(0,1,1)(0,0,1)[12] intercept   : AIC=1112.274, Time=0.36 sec\n",
      " ARIMA(0,1,1)(0,0,2)[12] intercept   : AIC=993.565, Time=0.73 sec\n",
      " ARIMA(0,1,1)(0,0,3)[12] intercept   : AIC=891.683, Time=2.14 sec\n",
      " ARIMA(0,1,1)(0,0,4)[12] intercept   : AIC=820.025, Time=3.95 sec\n",
      " ARIMA(0,1,1)(1,0,0)[12] intercept   : AIC=612.811, Time=0.52 sec\n",
      " ARIMA(0,1,1)(1,0,1)[12] intercept   : AIC=392.523, Time=1.22 sec\n",
      " ARIMA(0,1,1)(1,0,2)[12] intercept   : AIC=424.761, Time=2.83 sec\n",
      " ARIMA(0,1,1)(1,0,3)[12] intercept   : AIC=423.152, Time=6.97 sec\n",
      " ARIMA(0,1,1)(2,0,0)[12] intercept   : AIC=510.637, Time=1.37 sec\n",
      " ARIMA(0,1,1)(2,0,1)[12] intercept   : AIC=412.849, Time=2.59 sec\n",
      " ARIMA(0,1,1)(2,0,2)[12] intercept   : AIC=396.908, Time=2.78 sec\n",
      " ARIMA(0,1,1)(3,0,0)[12] intercept   : AIC=467.985, Time=3.77 sec\n",
      " ARIMA(0,1,1)(3,0,1)[12] intercept   : AIC=405.933, Time=6.85 sec\n",
      " ARIMA(0,1,1)(4,0,0)[12] intercept   : AIC=448.948, Time=6.35 sec\n",
      " ARIMA(0,1,2)(0,0,0)[12] intercept   : AIC=1222.286, Time=0.15 sec\n",
      " ARIMA(0,1,2)(0,0,1)[12] intercept   : AIC=1046.922, Time=0.28 sec\n",
      " ARIMA(0,1,2)(0,0,2)[12] intercept   : AIC=947.532, Time=0.72 sec\n",
      " ARIMA(0,1,2)(0,0,3)[12] intercept   : AIC=867.310, Time=1.91 sec\n",
      " ARIMA(0,1,2)(1,0,0)[12] intercept   : AIC=608.450, Time=0.61 sec\n",
      " ARIMA(0,1,2)(1,0,1)[12] intercept   : AIC=402.050, Time=1.57 sec\n",
      " ARIMA(0,1,2)(1,0,2)[12] intercept   : AIC=422.338, Time=3.11 sec\n",
      " ARIMA(0,1,2)(2,0,0)[12] intercept   : AIC=507.685, Time=1.80 sec\n",
      " ARIMA(0,1,2)(2,0,1)[12] intercept   : AIC=408.472, Time=2.91 sec\n",
      " ARIMA(0,1,2)(3,0,0)[12] intercept   : AIC=460.596, Time=5.83 sec\n",
      " ARIMA(0,1,3)(0,0,0)[12] intercept   : AIC=1174.928, Time=0.25 sec\n",
      " ARIMA(0,1,3)(0,0,1)[12] intercept   : AIC=1037.324, Time=0.47 sec\n",
      " ARIMA(0,1,3)(0,0,2)[12] intercept   : AIC=947.471, Time=1.06 sec\n",
      " ARIMA(0,1,3)(1,0,0)[12] intercept   : AIC=602.141, Time=0.64 sec\n",
      " ARIMA(0,1,3)(1,0,1)[12] intercept   : AIC=399.087, Time=1.95 sec\n",
      " ARIMA(0,1,3)(2,0,0)[12] intercept   : AIC=500.296, Time=2.30 sec\n",
      " ARIMA(0,1,4)(0,0,0)[12] intercept   : AIC=1188.947, Time=0.36 sec\n",
      " ARIMA(0,1,4)(0,0,1)[12] intercept   : AIC=999.240, Time=0.71 sec\n",
      " ARIMA(0,1,4)(1,0,0)[12] intercept   : AIC=604.133, Time=0.83 sec\n",
      " ARIMA(0,1,5)(0,0,0)[12] intercept   : AIC=1091.452, Time=0.47 sec\n",
      " ARIMA(1,1,0)(0,0,0)[12] intercept   : AIC=1298.693, Time=0.09 sec\n",
      " ARIMA(1,1,0)(0,0,1)[12] intercept   : AIC=1075.553, Time=0.24 sec\n",
      " ARIMA(1,1,0)(0,0,2)[12] intercept   : AIC=971.074, Time=0.64 sec\n",
      " ARIMA(1,1,0)(0,0,3)[12] intercept   : AIC=882.846, Time=1.98 sec\n",
      " ARIMA(1,1,0)(0,0,4)[12] intercept   : AIC=818.711, Time=3.86 sec\n",
      " ARIMA(1,1,0)(1,0,0)[12] intercept   : AIC=inf, Time=0.54 sec\n",
      " ARIMA(1,1,0)(1,0,1)[12] intercept   : AIC=400.766, Time=1.06 sec\n",
      " ARIMA(1,1,0)(1,0,2)[12] intercept   : AIC=423.718, Time=2.58 sec\n",
      " ARIMA(1,1,0)(1,0,3)[12] intercept   : AIC=428.842, Time=6.41 sec\n",
      " ARIMA(1,1,0)(2,0,0)[12] intercept   : AIC=inf, Time=1.48 sec\n",
      " ARIMA(1,1,0)(2,0,1)[12] intercept   : AIC=416.666, Time=2.37 sec\n",
      " ARIMA(1,1,0)(2,0,2)[12] intercept   : AIC=409.065, Time=2.73 sec\n",
      " ARIMA(1,1,0)(3,0,0)[12] intercept   : AIC=inf, Time=3.68 sec\n",
      " ARIMA(1,1,0)(3,0,1)[12] intercept   : AIC=403.682, Time=7.47 sec\n",
      " ARIMA(1,1,0)(4,0,0)[12] intercept   : AIC=inf, Time=7.35 sec\n",
      " ARIMA(1,1,1)(0,0,0)[12] intercept   : AIC=1240.963, Time=0.12 sec\n",
      " ARIMA(1,1,1)(0,0,1)[12] intercept   : AIC=1069.162, Time=0.33 sec\n",
      " ARIMA(1,1,1)(0,0,2)[12] intercept   : AIC=973.065, Time=0.79 sec\n",
      " ARIMA(1,1,1)(0,0,3)[12] intercept   : AIC=884.323, Time=3.35 sec\n",
      " ARIMA(1,1,1)(1,0,0)[12] intercept   : AIC=588.156, Time=1.32 sec\n",
      " ARIMA(1,1,1)(1,0,1)[12] intercept   : AIC=399.033, Time=1.31 sec\n",
      " ARIMA(1,1,1)(1,0,2)[12] intercept   : AIC=409.596, Time=3.71 sec\n",
      " ARIMA(1,1,1)(2,0,0)[12] intercept   : AIC=503.551, Time=1.55 sec\n",
      " ARIMA(1,1,1)(2,0,1)[12] intercept   : AIC=402.095, Time=2.89 sec\n",
      " ARIMA(1,1,1)(3,0,0)[12] intercept   : AIC=457.277, Time=5.86 sec\n",
      " ARIMA(1,1,2)(0,0,0)[12] intercept   : AIC=1196.535, Time=0.20 sec\n",
      " ARIMA(1,1,2)(0,0,1)[12] intercept   : AIC=1042.432, Time=0.35 sec\n",
      " ARIMA(1,1,2)(0,0,2)[12] intercept   : AIC=948.444, Time=0.90 sec\n",
      " ARIMA(1,1,2)(1,0,0)[12] intercept   : AIC=583.862, Time=1.22 sec\n",
      " ARIMA(1,1,2)(1,0,1)[12] intercept   : AIC=403.010, Time=1.50 sec\n",
      " ARIMA(1,1,2)(2,0,0)[12] intercept   : AIC=502.719, Time=3.06 sec\n",
      " ARIMA(1,1,3)(0,0,0)[12] intercept   : AIC=1176.484, Time=0.37 sec\n",
      " ARIMA(1,1,3)(0,0,1)[12] intercept   : AIC=1039.309, Time=0.77 sec\n",
      " ARIMA(1,1,3)(1,0,0)[12] intercept   : AIC=604.131, Time=1.00 sec\n",
      " ARIMA(1,1,4)(0,0,0)[12] intercept   : AIC=inf, Time=1.21 sec\n",
      " ARIMA(2,1,0)(0,0,0)[12] intercept   : AIC=1180.404, Time=0.13 sec\n",
      " ARIMA(2,1,0)(0,0,1)[12] intercept   : AIC=1058.115, Time=0.30 sec\n",
      " ARIMA(2,1,0)(0,0,2)[12] intercept   : AIC=973.051, Time=0.79 sec\n",
      " ARIMA(2,1,0)(0,0,3)[12] intercept   : AIC=883.377, Time=1.88 sec\n",
      " ARIMA(2,1,0)(1,0,0)[12] intercept   : AIC=inf, Time=0.45 sec\n",
      " ARIMA(2,1,0)(1,0,1)[12] intercept   : AIC=416.799, Time=1.11 sec\n",
      " ARIMA(2,1,0)(1,0,2)[12] intercept   : AIC=400.863, Time=2.64 sec\n",
      " ARIMA(2,1,0)(2,0,0)[12] intercept   : AIC=inf, Time=1.85 sec\n",
      " ARIMA(2,1,0)(2,0,1)[12] intercept   : AIC=400.859, Time=3.58 sec\n",
      " ARIMA(2,1,0)(3,0,0)[12] intercept   : AIC=inf, Time=6.49 sec\n",
      " ARIMA(2,1,1)(0,0,0)[12] intercept   : AIC=990.719, Time=0.35 sec\n",
      " ARIMA(2,1,1)(0,0,1)[12] intercept   : AIC=881.526, Time=0.86 sec\n",
      " ARIMA(2,1,1)(0,0,2)[12] intercept   : AIC=837.402, Time=2.76 sec\n",
      " ARIMA(2,1,1)(1,0,0)[12] intercept   : AIC=584.097, Time=1.42 sec\n",
      " ARIMA(2,1,1)(1,0,1)[12] intercept   : AIC=443.589, Time=1.71 sec\n",
      " ARIMA(2,1,1)(2,0,0)[12] intercept   : AIC=494.535, Time=3.39 sec\n",
      " ARIMA(2,1,2)(0,0,0)[12] intercept   : AIC=988.094, Time=0.53 sec\n",
      " ARIMA(2,1,2)(0,0,1)[12] intercept   : AIC=757.307, Time=1.60 sec\n",
      " ARIMA(2,1,2)(1,0,0)[12] intercept   : AIC=594.527, Time=2.23 sec\n",
      " ARIMA(2,1,3)(0,0,0)[12] intercept   : AIC=1140.469, Time=0.54 sec\n",
      " ARIMA(3,1,0)(0,0,0)[12] intercept   : AIC=1126.139, Time=0.30 sec\n",
      " ARIMA(3,1,0)(0,0,1)[12] intercept   : AIC=996.923, Time=0.35 sec\n",
      " ARIMA(3,1,0)(0,0,2)[12] intercept   : AIC=918.438, Time=0.92 sec\n",
      " ARIMA(3,1,0)(1,0,0)[12] intercept   : AIC=inf, Time=0.73 sec\n",
      " ARIMA(3,1,0)(1,0,1)[12] intercept   : AIC=406.333, Time=1.34 sec\n",
      " ARIMA(3,1,0)(2,0,0)[12] intercept   : AIC=inf, Time=2.10 sec\n",
      " ARIMA(3,1,1)(0,0,0)[12] intercept   : AIC=989.496, Time=0.64 sec\n",
      " ARIMA(3,1,1)(0,0,1)[12] intercept   : AIC=856.486, Time=1.32 sec\n",
      " ARIMA(3,1,1)(1,0,0)[12] intercept   : AIC=604.951, Time=0.69 sec\n",
      " ARIMA(3,1,2)(0,0,0)[12] intercept   : AIC=991.599, Time=0.84 sec\n",
      " ARIMA(4,1,0)(0,0,0)[12] intercept   : AIC=1125.025, Time=0.17 sec\n",
      " ARIMA(4,1,0)(0,0,1)[12] intercept   : AIC=987.621, Time=0.38 sec\n",
      " ARIMA(4,1,0)(1,0,0)[12] intercept   : AIC=inf, Time=0.83 sec\n",
      " ARIMA(4,1,1)(0,0,0)[12] intercept   : AIC=988.660, Time=0.77 sec\n",
      " ARIMA(5,1,0)(0,0,0)[12] intercept   : AIC=1113.673, Time=0.23 sec\n",
      "\n",
      "Best model:  ARIMA(0,1,1)(1,0,1)[12] intercept\n",
      "Total fit time: 270.985 seconds\n"
     ]
    }
   ],
   "metadata": {}
  },
  {
   "cell_type": "code",
   "execution_count": 36,
   "source": [
    "y_pred = arima_model.predict(n_periods = 12)\r\n",
    "print('Predicted labels', y_pred)\r\n",
    "print('True labels', y_test)\r\n",
    "from flaml.ml import sklearn_metric_loss_score\r\n",
    "print('auto sarima mape', '=', sklearn_metric_loss_score('mape', y_pred, y_test))"
   ],
   "outputs": [
    {
     "output_type": "stream",
     "name": "stdout",
     "text": [
      "Predicted labels [370.543233   371.28354891 372.2267332  373.49227877 373.88691133\n",
      " 373.34103694 371.86609201 369.82045256 368.08845427 368.31840709\n",
      " 369.67730838 371.05530796]\n",
      "True labels          co2\n",
      "514  370.175\n",
      "515  371.325\n",
      "516  372.060\n",
      "517  372.775\n",
      "518  373.800\n",
      "519  373.060\n",
      "520  371.300\n",
      "521  369.425\n",
      "522  367.880\n",
      "523  368.050\n",
      "524  369.375\n",
      "525  371.020\n",
      "auto sarima mape = 0.0007724244328789994\n"
     ]
    }
   ],
   "metadata": {}
  }
 ],
 "metadata": {
  "kernelspec": {
   "name": "python3",
   "display_name": "Python 3.8.10 64-bit ('python38': conda)"
  },
  "language_info": {
   "name": "python",
   "version": "3.8.10",
   "mimetype": "text/x-python",
   "codemirror_mode": {
    "name": "ipython",
    "version": 3
   },
   "pygments_lexer": "ipython3",
   "nbconvert_exporter": "python",
   "file_extension": ".py"
  },
  "interpreter": {
   "hash": "8b6c8c3ba4bafbc4530f534c605c8412f25bf61ef13254e4f377ccd42b838aa4"
  }
 },
 "nbformat": 4,
 "nbformat_minor": 2
}