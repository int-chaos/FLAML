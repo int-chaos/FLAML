{
 "cells": [
  {
   "cell_type": "markdown",
   "metadata": {
    "slideshow": {
     "slide_type": "slide"
    }
   },
   "source": [
    "Copyright (c) 2020-2021 Microsoft Corporation. All rights reserved. \n",
    "\n",
    "Licensed under the MIT License.\n",
    "\n",
    "# Tune LightGBM with FLAML Library\n",
    "\n",
    "\n",
    "## 1. Introduction\n",
    "\n",
    "FLAML is a Python library (https://github.com/microsoft/FLAML) designed to automatically produce accurate machine learning models \n",
    "with low computational cost. It is fast and cheap. The simple and lightweight design makes it easy \n",
    "to use and extend, such as adding new learners. FLAML can \n",
    "- serve as an economical AutoML engine,\n",
    "- be used as a fast hyperparameter tuning tool, or \n",
    "- be embedded in self-tuning software that requires low latency & resource in repetitive\n",
    "   tuning tasks.\n",
    "\n",
    "In this notebook, we demonstrate how to use FLAML library to tune hyperparameters of LightGBM with a regression example.\n",
    "\n",
    "FLAML requires `Python>=3.6`. To run this notebook example, please install flaml with the `notebook` option:\n",
    "```bash\n",
    "pip install flaml[notebook]\n",
    "```"
   ]
  },
  {
   "cell_type": "code",
   "execution_count": 1,
   "metadata": {},
   "outputs": [],
   "source": [
    "!pip install flaml[notebook];"
   ]
  },
  {
   "cell_type": "markdown",
   "metadata": {
    "slideshow": {
     "slide_type": "slide"
    }
   },
   "source": [
    "## 2. Regression Example\n",
    "### Load data and preprocess\n",
    "\n",
    "Download [houses dataset](https://www.openml.org/d/537) from OpenML. The task is to predict median price of the house in the region based on demographic composition and a state of housing market in the region."
   ]
  },
  {
   "cell_type": "code",
   "execution_count": 2,
   "metadata": {
    "slideshow": {
     "slide_type": "subslide"
    },
    "tags": []
   },
   "outputs": [
    {
     "name": "stdout",
     "output_type": "stream",
     "text": [
      "load dataset from ./openml_ds537.pkl\n",
      "Dataset name: houses\n",
      "X_train.shape: (15480, 8), y_train.shape: (15480,);\n",
      "X_test.shape: (5160, 8), y_test.shape: (5160,)\n"
     ]
    }
   ],
   "source": [
    "from flaml.data import load_openml_dataset\n",
    "X_train, X_test, y_train, y_test = load_openml_dataset(dataset_id=537, data_dir='./')"
   ]
  },
  {
   "cell_type": "markdown",
   "metadata": {
    "slideshow": {
     "slide_type": "slide"
    }
   },
   "source": [
    "### Run FLAML\n",
    "In the FLAML automl run configuration, users can specify the task type, time budget, error metric, learner list, whether to subsample, resampling strategy type, and so on. All these arguments have default values which will be used if users do not provide them. "
   ]
  },
  {
   "cell_type": "code",
   "execution_count": 3,
   "metadata": {
    "slideshow": {
     "slide_type": "slide"
    },
    "tags": []
   },
   "outputs": [],
   "source": [
    "''' import AutoML class from flaml package '''\n",
    "from flaml import AutoML\n",
    "automl = AutoML()"
   ]
  },
  {
   "cell_type": "code",
   "execution_count": 4,
   "metadata": {
    "slideshow": {
     "slide_type": "slide"
    }
   },
   "outputs": [],
   "source": [
    "settings = {\n",
    "    \"time_budget\": 240,  # total running time in seconds\n",
    "    \"metric\": 'r2',  # primary metrics for regression can be chosen from: ['mae','mse','r2']\n",
    "    \"estimator_list\": ['lgbm'],  # list of ML learners; we tune lightgbm in this example\n",
    "    \"task\": 'regression',  # task type    \n",
    "    \"log_file_name\": 'houses_experiment.log',  # flaml log file\n",
    "    \"seed\": 7654321,    # random seed\n",
    "}"
   ]
  },
  {
   "cell_type": "code",
   "execution_count": 5,
   "metadata": {
    "slideshow": {
     "slide_type": "slide"
    },
    "tags": []
   },
   "outputs": [
    {
     "name": "stderr",
     "output_type": "stream",
     "text": [
      "[flaml.automl: 08-12 21:25:04] {1121} INFO - Evaluation method: cv\n",
      "[flaml.automl: 08-12 21:25:04] {628} INFO - Using RepeatedKFold\n",
      "[flaml.automl: 08-12 21:25:04] {1142} INFO - Minimizing error metric: 1-r2\n",
      "[flaml.automl: 08-12 21:25:04] {1162} INFO - List of ML learners in AutoML Run: ['lgbm']\n",
      "[flaml.automl: 08-12 21:25:04] {1252} INFO - iteration 0, current learner lgbm\n",
      "[flaml.automl: 08-12 21:25:07] {1405} INFO -  at 4.0s,\tbest lgbm's error=0.7385,\tbest lgbm's error=0.7385\n",
      "[flaml.automl: 08-12 21:25:07] {1252} INFO - iteration 1, current learner lgbm\n",
      "[flaml.automl: 08-12 21:25:08] {1405} INFO -  at 5.1s,\tbest lgbm's error=0.7385,\tbest lgbm's error=0.7385\n",
      "[flaml.automl: 08-12 21:25:08] {1252} INFO - iteration 2, current learner lgbm\n",
      "[flaml.automl: 08-12 21:25:10] {1405} INFO -  at 6.6s,\tbest lgbm's error=0.5520,\tbest lgbm's error=0.5520\n",
      "[flaml.automl: 08-12 21:25:10] {1252} INFO - iteration 3, current learner lgbm\n",
      "[flaml.automl: 08-12 21:25:11] {1405} INFO -  at 7.7s,\tbest lgbm's error=0.3886,\tbest lgbm's error=0.3886\n",
      "[flaml.automl: 08-12 21:25:11] {1252} INFO - iteration 4, current learner lgbm\n",
      "[flaml.automl: 08-12 21:25:13] {1405} INFO -  at 9.8s,\tbest lgbm's error=0.3886,\tbest lgbm's error=0.3886\n",
      "[flaml.automl: 08-12 21:25:13] {1252} INFO - iteration 5, current learner lgbm\n",
      "[flaml.automl: 08-12 21:25:14] {1405} INFO -  at 10.9s,\tbest lgbm's error=0.3886,\tbest lgbm's error=0.3886\n",
      "[flaml.automl: 08-12 21:25:14] {1252} INFO - iteration 6, current learner lgbm\n",
      "[flaml.automl: 08-12 21:25:16] {1405} INFO -  at 12.3s,\tbest lgbm's error=0.3023,\tbest lgbm's error=0.3023\n",
      "[flaml.automl: 08-12 21:25:16] {1252} INFO - iteration 7, current learner lgbm\n",
      "[flaml.automl: 08-12 21:25:17] {1405} INFO -  at 13.6s,\tbest lgbm's error=0.2611,\tbest lgbm's error=0.2611\n",
      "[flaml.automl: 08-12 21:25:17] {1252} INFO - iteration 8, current learner lgbm\n",
      "[flaml.automl: 08-12 21:25:19] {1405} INFO -  at 15.9s,\tbest lgbm's error=0.2611,\tbest lgbm's error=0.2611\n",
      "[flaml.automl: 08-12 21:25:19] {1252} INFO - iteration 9, current learner lgbm\n",
      "[flaml.automl: 08-12 21:25:23] {1405} INFO -  at 19.9s,\tbest lgbm's error=0.2363,\tbest lgbm's error=0.2363\n",
      "[flaml.automl: 08-12 21:25:23] {1252} INFO - iteration 10, current learner lgbm\n",
      "[flaml.automl: 08-12 21:25:27] {1405} INFO -  at 23.3s,\tbest lgbm's error=0.2363,\tbest lgbm's error=0.2363\n",
      "[flaml.automl: 08-12 21:25:27] {1252} INFO - iteration 11, current learner lgbm\n",
      "[flaml.automl: 08-12 21:25:27] {1405} INFO -  at 24.0s,\tbest lgbm's error=0.2363,\tbest lgbm's error=0.2363\n",
      "[flaml.automl: 08-12 21:25:27] {1252} INFO - iteration 12, current learner lgbm\n",
      "[flaml.automl: 08-12 21:25:29] {1405} INFO -  at 25.4s,\tbest lgbm's error=0.1953,\tbest lgbm's error=0.1953\n",
      "[flaml.automl: 08-12 21:25:29] {1252} INFO - iteration 13, current learner lgbm\n",
      "[flaml.automl: 08-12 21:25:29] {1405} INFO -  at 26.0s,\tbest lgbm's error=0.1953,\tbest lgbm's error=0.1953\n",
      "[flaml.automl: 08-12 21:25:29] {1252} INFO - iteration 14, current learner lgbm\n",
      "[flaml.automl: 08-12 21:25:30] {1405} INFO -  at 26.9s,\tbest lgbm's error=0.1953,\tbest lgbm's error=0.1953\n",
      "[flaml.automl: 08-12 21:25:30] {1252} INFO - iteration 15, current learner lgbm\n",
      "[flaml.automl: 08-12 21:25:32] {1405} INFO -  at 28.2s,\tbest lgbm's error=0.1953,\tbest lgbm's error=0.1953\n",
      "[flaml.automl: 08-12 21:25:32] {1252} INFO - iteration 16, current learner lgbm\n",
      "[flaml.automl: 08-12 21:25:34] {1405} INFO -  at 30.2s,\tbest lgbm's error=0.1953,\tbest lgbm's error=0.1953\n",
      "[flaml.automl: 08-12 21:25:34] {1252} INFO - iteration 17, current learner lgbm\n",
      "[flaml.automl: 08-12 21:25:34] {1405} INFO -  at 30.8s,\tbest lgbm's error=0.1953,\tbest lgbm's error=0.1953\n",
      "[flaml.automl: 08-12 21:25:34] {1252} INFO - iteration 18, current learner lgbm\n",
      "[flaml.automl: 08-12 21:25:36] {1405} INFO -  at 32.4s,\tbest lgbm's error=0.1795,\tbest lgbm's error=0.1795\n",
      "[flaml.automl: 08-12 21:25:36] {1252} INFO - iteration 19, current learner lgbm\n",
      "[flaml.automl: 08-12 21:25:37] {1405} INFO -  at 33.6s,\tbest lgbm's error=0.1795,\tbest lgbm's error=0.1795\n",
      "[flaml.automl: 08-12 21:25:37] {1252} INFO - iteration 20, current learner lgbm\n",
      "[flaml.automl: 08-12 21:25:42] {1405} INFO -  at 38.2s,\tbest lgbm's error=0.1795,\tbest lgbm's error=0.1795\n",
      "[flaml.automl: 08-12 21:25:42] {1252} INFO - iteration 21, current learner lgbm\n",
      "[flaml.automl: 08-12 21:25:43] {1405} INFO -  at 39.8s,\tbest lgbm's error=0.1795,\tbest lgbm's error=0.1795\n",
      "[flaml.automl: 08-12 21:25:43] {1252} INFO - iteration 22, current learner lgbm\n",
      "[flaml.automl: 08-12 21:25:46] {1405} INFO -  at 43.1s,\tbest lgbm's error=0.1768,\tbest lgbm's error=0.1768\n",
      "[flaml.automl: 08-12 21:25:47] {1252} INFO - iteration 23, current learner lgbm\n",
      "[flaml.automl: 08-12 21:25:49] {1405} INFO -  at 45.5s,\tbest lgbm's error=0.1768,\tbest lgbm's error=0.1768\n",
      "[flaml.automl: 08-12 21:25:49] {1252} INFO - iteration 24, current learner lgbm\n",
      "[flaml.automl: 08-12 21:25:58] {1405} INFO -  at 54.4s,\tbest lgbm's error=0.1768,\tbest lgbm's error=0.1768\n",
      "[flaml.automl: 08-12 21:25:58] {1252} INFO - iteration 25, current learner lgbm\n",
      "[flaml.automl: 08-12 21:25:59] {1405} INFO -  at 55.8s,\tbest lgbm's error=0.1768,\tbest lgbm's error=0.1768\n",
      "[flaml.automl: 08-12 21:25:59] {1252} INFO - iteration 26, current learner lgbm\n",
      "[flaml.automl: 08-12 21:26:21] {1405} INFO -  at 77.3s,\tbest lgbm's error=0.1657,\tbest lgbm's error=0.1657\n",
      "[flaml.automl: 08-12 21:26:21] {1252} INFO - iteration 27, current learner lgbm\n",
      "[flaml.automl: 08-12 21:26:29] {1405} INFO -  at 85.4s,\tbest lgbm's error=0.1657,\tbest lgbm's error=0.1657\n",
      "[flaml.automl: 08-12 21:26:29] {1252} INFO - iteration 28, current learner lgbm\n",
      "[flaml.automl: 08-12 21:26:36] {1405} INFO -  at 92.3s,\tbest lgbm's error=0.1648,\tbest lgbm's error=0.1648\n",
      "[flaml.automl: 08-12 21:26:36] {1252} INFO - iteration 29, current learner lgbm\n",
      "[flaml.automl: 08-12 21:26:39] {1405} INFO -  at 95.6s,\tbest lgbm's error=0.1648,\tbest lgbm's error=0.1648\n",
      "[flaml.automl: 08-12 21:26:39] {1252} INFO - iteration 30, current learner lgbm\n",
      "[flaml.automl: 08-12 21:27:06] {1405} INFO -  at 122.7s,\tbest lgbm's error=0.1615,\tbest lgbm's error=0.1615\n",
      "[flaml.automl: 08-12 21:27:06] {1252} INFO - iteration 31, current learner lgbm\n",
      "[flaml.automl: 08-12 21:27:11] {1405} INFO -  at 127.3s,\tbest lgbm's error=0.1615,\tbest lgbm's error=0.1615\n",
      "[flaml.automl: 08-12 21:27:11] {1252} INFO - iteration 32, current learner lgbm\n",
      "[flaml.automl: 08-12 21:28:53] {1405} INFO -  at 229.8s,\tbest lgbm's error=0.1615,\tbest lgbm's error=0.1615\n",
      "[flaml.automl: 08-12 21:28:53] {1461} INFO - selected model: LGBMRegressor(colsample_bytree=0.8021997484670117,\n",
      "              learning_rate=0.062267095563511524, max_bin=512,\n",
      "              min_child_samples=128, n_estimators=511, num_leaves=276,\n",
      "              objective='regression', reg_alpha=0.009948140763622663,\n",
      "              reg_lambda=8.181816322817145, subsample=0.8716100265520644,\n",
      "              verbose=-1)\n",
      "[flaml.automl: 08-12 21:28:53] {1184} INFO - fit succeeded\n",
      "[flaml.automl: 08-12 21:28:53] {1185} INFO - Time taken to find the best model: 122.74374485015869\n"
     ]
    }
   ],
   "source": [
    "'''The main flaml automl API'''\n",
    "automl.fit(X_train=X_train, y_train=y_train, **settings)"
   ]
  },
  {
   "cell_type": "markdown",
   "metadata": {
    "slideshow": {
     "slide_type": "slide"
    }
   },
   "source": [
    "### Best model and metric"
   ]
  },
  {
   "cell_type": "code",
   "execution_count": 6,
   "metadata": {
    "slideshow": {
     "slide_type": "slide"
    },
    "tags": []
   },
   "outputs": [
    {
     "name": "stdout",
     "output_type": "stream",
     "text": [
      "Best hyperparmeter config: {'n_estimators': 1610, 'num_leaves': 276, 'min_child_samples': 128, 'learning_rate': 0.062267095563511524, 'subsample': 0.8716100265520644, 'log_max_bin': 10, 'colsample_bytree': 0.8021997484670117, 'reg_alpha': 0.009948140763622663, 'reg_lambda': 8.181816322817145}\n",
      "Best r2 on validation data: 0.8385\n",
      "Training duration of best run: 27.09 s\n"
     ]
    }
   ],
   "source": [
    "''' retrieve best config'''\n",
    "print('Best hyperparmeter config:', automl.best_config)\n",
    "print('Best r2 on validation data: {0:.4g}'.format(1-automl.best_loss))\n",
    "print('Training duration of best run: {0:.4g} s'.format(automl.best_config_train_time))"
   ]
  },
  {
   "cell_type": "code",
   "execution_count": 7,
   "metadata": {
    "slideshow": {
     "slide_type": "slide"
    }
   },
   "outputs": [
    {
     "data": {
      "text/plain": [
       "LGBMRegressor(colsample_bytree=0.8021997484670117,\n",
       "              learning_rate=0.062267095563511524, max_bin=512,\n",
       "              min_child_samples=128, n_estimators=511, num_leaves=276,\n",
       "              objective='regression', reg_alpha=0.009948140763622663,\n",
       "              reg_lambda=8.181816322817145, subsample=0.8716100265520644,\n",
       "              verbose=-1)"
      ]
     },
     "execution_count": 7,
     "metadata": {},
     "output_type": "execute_result"
    }
   ],
   "source": [
    "automl.model.estimator\n"
   ]
  },
  {
   "cell_type": "code",
   "execution_count": 8,
   "metadata": {},
   "outputs": [
    {
     "data": {
      "text/plain": [
       "<BarContainer object of 8 artists>"
      ]
     },
     "execution_count": 8,
     "metadata": {},
     "output_type": "execute_result"
    },
    {
     "data": {
      "image/png": "[encoded data removed]",
      "text/plain": [
       "<Figure size 432x288 with 1 Axes>"
      ]
     },
     "metadata": {
      "needs_background": "light"
     },
     "output_type": "display_data"
    }
   ],
   "source": [
    "import matplotlib.pyplot as plt\n",
    "plt.barh(automl.model.estimator.feature_name_, automl.model.estimator.feature_importances_)"
   ]
  },
  {
   "cell_type": "code",
   "execution_count": 9,
   "metadata": {
    "slideshow": {
     "slide_type": "slide"
    }
   },
   "outputs": [],
   "source": [
    "''' pickle and save the automl object '''\n",
    "import pickle\n",
    "with open('automl.pkl', 'wb') as f:\n",
    "    pickle.dump(automl, f, pickle.HIGHEST_PROTOCOL)"
   ]
  },
  {
   "cell_type": "code",
   "execution_count": 10,
   "metadata": {
    "slideshow": {
     "slide_type": "slide"
    },
    "tags": []
   },
   "outputs": [
    {
     "name": "stdout",
     "output_type": "stream",
     "text": [
      "Predicted labels [138120.83608579 254303.34992791 142506.66563931 ... 188177.25137713\n",
      " 267813.20015477 274066.51821463]\n",
      "True labels 14740    136900.0\n",
      "10101    241300.0\n",
      "20566    200700.0\n",
      "2670      72500.0\n",
      "15709    460000.0\n",
      "           ...   \n",
      "13132    121200.0\n",
      "8228     137500.0\n",
      "3948     160900.0\n",
      "8522     227300.0\n",
      "16798    265600.0\n",
      "Name: median_house_value, Length: 5160, dtype: float64\n"
     ]
    }
   ],
   "source": [
    "''' compute predictions of testing dataset ''' \n",
    "y_pred = automl.predict(X_test)\n",
    "print('Predicted labels', y_pred)\n",
    "print('True labels', y_test)"
   ]
  },
  {
   "cell_type": "code",
   "execution_count": 11,
   "metadata": {
    "slideshow": {
     "slide_type": "slide"
    },
    "tags": []
   },
   "outputs": [
    {
     "name": "stdout",
     "output_type": "stream",
     "text": [
      "r2 = 0.8475173393496316\n",
      "mse = 2015593047.2587376\n",
      "mae = 30018.530184056573\n"
     ]
    }
   ],
   "source": [
    "''' compute different metric values on testing dataset'''\n",
    "from flaml.ml import sklearn_metric_loss_score\n",
    "print('r2', '=', 1 - sklearn_metric_loss_score('r2', y_pred, y_test))\n",
    "print('mse', '=', sklearn_metric_loss_score('mse', y_pred, y_test))\n",
    "print('mae', '=', sklearn_metric_loss_score('mae', y_pred, y_test))"
   ]
  },
  {
   "cell_type": "code",
   "execution_count": 12,
   "metadata": {
    "slideshow": {
     "slide_type": "subslide"
    },
    "tags": []
   },
   "outputs": [
    {
     "name": "stdout",
     "output_type": "stream",
     "text": [
      "{'Current Learner': 'lgbm', 'Current Sample': 15480, 'Current Hyper-parameters': {'n_estimators': 4, 'num_leaves': 4, 'min_child_samples': 20, 'learning_rate': 0.09999999999999995, 'subsample': 1.0, 'log_max_bin': 8, 'colsample_bytree': 1.0, 'reg_alpha': 0.0009765625, 'reg_lambda': 1.0}, 'Best Learner': 'lgbm', 'Best Hyper-parameters': {'n_estimators': 4, 'num_leaves': 4, 'min_child_samples': 20, 'learning_rate': 0.09999999999999995, 'subsample': 1.0, 'log_max_bin': 8, 'colsample_bytree': 1.0, 'reg_alpha': 0.0009765625, 'reg_lambda': 1.0}}\n",
      "{'Current Learner': 'lgbm', 'Current Sample': 15480, 'Current Hyper-parameters': {'n_estimators': 4, 'num_leaves': 4, 'min_child_samples': 12, 'learning_rate': 0.25912534572860485, 'subsample': 0.9266743941610592, 'log_max_bin': 10, 'colsample_bytree': 1.0, 'reg_alpha': 0.0013933617380144255, 'reg_lambda': 0.18096917948292954}, 'Best Learner': 'lgbm', 'Best Hyper-parameters': {'n_estimators': 4, 'num_leaves': 4, 'min_child_samples': 12, 'learning_rate': 0.25912534572860485, 'subsample': 0.9266743941610592, 'log_max_bin': 10, 'colsample_bytree': 1.0, 'reg_alpha': 0.0013933617380144255, 'reg_lambda': 0.18096917948292954}}\n",
      "{'Current Learner': 'lgbm', 'Current Sample': 15480, 'Current Hyper-parameters': {'n_estimators': 4, 'num_leaves': 4, 'min_child_samples': 24, 'learning_rate': 1.0, 'subsample': 0.8513627344387318, 'log_max_bin': 10, 'colsample_bytree': 0.946138073111236, 'reg_alpha': 0.0018311776973217073, 'reg_lambda': 0.27901659190538414}, 'Best Learner': 'lgbm', 'Best Hyper-parameters': {'n_estimators': 4, 'num_leaves': 4, 'min_child_samples': 24, 'learning_rate': 1.0, 'subsample': 0.8513627344387318, 'log_max_bin': 10, 'colsample_bytree': 0.946138073111236, 'reg_alpha': 0.0018311776973217073, 'reg_lambda': 0.27901659190538414}}\n",
      "{'Current Learner': 'lgbm', 'Current Sample': 15480, 'Current Hyper-parameters': {'n_estimators': 11, 'num_leaves': 4, 'min_child_samples': 36, 'learning_rate': 1.0, 'subsample': 0.8894434216129232, 'log_max_bin': 10, 'colsample_bytree': 1.0, 'reg_alpha': 0.0013605736901132325, 'reg_lambda': 0.1222158118565165}, 'Best Learner': 'lgbm', 'Best Hyper-parameters': {'n_estimators': 11, 'num_leaves': 4, 'min_child_samples': 36, 'learning_rate': 1.0, 'subsample': 0.8894434216129232, 'log_max_bin': 10, 'colsample_bytree': 1.0, 'reg_alpha': 0.0013605736901132325, 'reg_lambda': 0.1222158118565165}}\n",
      "{'Current Learner': 'lgbm', 'Current Sample': 15480, 'Current Hyper-parameters': {'n_estimators': 20, 'num_leaves': 4, 'min_child_samples': 46, 'learning_rate': 1.0, 'subsample': 0.9814787163243813, 'log_max_bin': 9, 'colsample_bytree': 0.8499027725496043, 'reg_alpha': 0.0022085340760961856, 'reg_lambda': 0.5460627024738893}, 'Best Learner': 'lgbm', 'Best Hyper-parameters': {'n_estimators': 20, 'num_leaves': 4, 'min_child_samples': 46, 'learning_rate': 1.0, 'subsample': 0.9814787163243813, 'log_max_bin': 9, 'colsample_bytree': 0.8499027725496043, 'reg_alpha': 0.0022085340760961856, 'reg_lambda': 0.5460627024738893}}\n",
      "{'Current Learner': 'lgbm', 'Current Sample': 15480, 'Current Hyper-parameters': {'n_estimators': 20, 'num_leaves': 11, 'min_child_samples': 52, 'learning_rate': 1.0, 'subsample': 1.0, 'log_max_bin': 9, 'colsample_bytree': 0.7967145599266738, 'reg_alpha': 0.05680749758595097, 'reg_lambda': 2.756357095973371}, 'Best Learner': 'lgbm', 'Best Hyper-parameters': {'n_estimators': 20, 'num_leaves': 11, 'min_child_samples': 52, 'learning_rate': 1.0, 'subsample': 1.0, 'log_max_bin': 9, 'colsample_bytree': 0.7967145599266738, 'reg_alpha': 0.05680749758595097, 'reg_lambda': 2.756357095973371}}\n",
      "{'Current Learner': 'lgbm', 'Current Sample': 15480, 'Current Hyper-parameters': {'n_estimators': 37, 'num_leaves': 15, 'min_child_samples': 93, 'learning_rate': 0.6413547778096401, 'subsample': 1.0, 'log_max_bin': 9, 'colsample_bytree': 0.6980216487058154, 'reg_alpha': 0.020158745350617662, 'reg_lambda': 0.954042157679914}, 'Best Learner': 'lgbm', 'Best Hyper-parameters': {'n_estimators': 37, 'num_leaves': 15, 'min_child_samples': 93, 'learning_rate': 0.6413547778096401, 'subsample': 1.0, 'log_max_bin': 9, 'colsample_bytree': 0.6980216487058154, 'reg_alpha': 0.020158745350617662, 'reg_lambda': 0.954042157679914}}\n",
      "{'Current Learner': 'lgbm', 'Current Sample': 15480, 'Current Hyper-parameters': {'n_estimators': 75, 'num_leaves': 32, 'min_child_samples': 83, 'learning_rate': 0.19997653978110663, 'subsample': 0.8895588746662894, 'log_max_bin': 7, 'colsample_bytree': 0.663557757490723, 'reg_alpha': 0.03147131714846291, 'reg_lambda': 0.3864406937587945}, 'Best Learner': 'lgbm', 'Best Hyper-parameters': {'n_estimators': 75, 'num_leaves': 32, 'min_child_samples': 83, 'learning_rate': 0.19997653978110663, 'subsample': 0.8895588746662894, 'log_max_bin': 7, 'colsample_bytree': 0.663557757490723, 'reg_alpha': 0.03147131714846291, 'reg_lambda': 0.3864406937587945}}\n",
      "{'Current Learner': 'lgbm', 'Current Sample': 15480, 'Current Hyper-parameters': {'n_estimators': 81, 'num_leaves': 66, 'min_child_samples': 93, 'learning_rate': 0.07560024606664352, 'subsample': 0.8756054034199897, 'log_max_bin': 7, 'colsample_bytree': 0.7142272555842307, 'reg_alpha': 0.00219854653612346, 'reg_lambda': 2.9360090402842274}, 'Best Learner': 'lgbm', 'Best Hyper-parameters': {'n_estimators': 81, 'num_leaves': 66, 'min_child_samples': 93, 'learning_rate': 0.07560024606664352, 'subsample': 0.8756054034199897, 'log_max_bin': 7, 'colsample_bytree': 0.7142272555842307, 'reg_alpha': 0.00219854653612346, 'reg_lambda': 2.9360090402842274}}\n"
     ]
    }
   ],
   "source": [
    "from flaml.data import get_output_from_log\n",
    "time_history, best_valid_loss_history, valid_loss_history, config_history, train_loss_history = \\\n",
    "    get_output_from_log(filename=settings['log_file_name'], time_budget=60)\n",
    "\n",
    "for config in config_history:\n",
    "    print(config)"
   ]
  },
  {
   "cell_type": "code",
   "execution_count": 13,
   "metadata": {
    "slideshow": {
     "slide_type": "slide"
    }
   },
   "outputs": [
    {
     "data": {
      "image/png": "[encoded data removed]",
      "text/plain": [
       "<Figure size 432x288 with 1 Axes>"
      ]
     },
     "metadata": {
      "needs_background": "light"
     },
     "output_type": "display_data"
    }
   ],
   "source": [
    "import numpy as np\n",
    "\n",
    "plt.title('Learning Curve')\n",
    "plt.xlabel('Wall Clock Time (s)')\n",
    "plt.ylabel('Validation r2')\n",
    "plt.scatter(time_history, 1 - np.array(valid_loss_history))\n",
    "plt.step(time_history, 1 - np.array(best_valid_loss_history), where='post')\n",
    "plt.show()"
   ]
  },
  {
   "cell_type": "markdown",
   "metadata": {},
   "source": [
    "## 3. Comparison with alternatives\n",
    "\n",
    "### FLAML's accuracy"
   ]
  },
  {
   "cell_type": "code",
   "execution_count": 14,
   "metadata": {
    "tags": []
   },
   "outputs": [
    {
     "name": "stdout",
     "output_type": "stream",
     "text": [
      "flaml r2 = 0.8475173393496316\n"
     ]
    }
   ],
   "source": [
    "print('flaml r2', '=', 1 - sklearn_metric_loss_score('r2', y_pred, y_test))"
   ]
  },
  {
   "cell_type": "markdown",
   "metadata": {},
   "source": [
    "### Default LightGBM"
   ]
  },
  {
   "cell_type": "code",
   "execution_count": 15,
   "metadata": {},
   "outputs": [],
   "source": [
    "from lightgbm import LGBMRegressor\n",
    "lgbm = LGBMRegressor()"
   ]
  },
  {
   "cell_type": "code",
   "execution_count": 16,
   "metadata": {},
   "outputs": [
    {
     "data": {
      "text/plain": [
       "LGBMRegressor()"
      ]
     },
     "execution_count": 16,
     "metadata": {},
     "output_type": "execute_result"
    }
   ],
   "source": [
    "lgbm.fit(X_train, y_train)"
   ]
  },
  {
   "cell_type": "code",
   "execution_count": 17,
   "metadata": {
    "tags": []
   },
   "outputs": [
    {
     "name": "stdout",
     "output_type": "stream",
     "text": [
      "default lgbm r2 = 0.8296179648694404\n"
     ]
    }
   ],
   "source": [
    "y_pred = lgbm.predict(X_test)\n",
    "from flaml.ml import sklearn_metric_loss_score\n",
    "print('default lgbm r2', '=', 1 - sklearn_metric_loss_score('r2', y_pred, y_test))"
   ]
  },
  {
   "cell_type": "markdown",
   "metadata": {},
   "source": [
    "### Optuna LightGBM Tuner"
   ]
  },
  {
   "cell_type": "code",
   "execution_count": 18,
   "metadata": {},
   "outputs": [],
   "source": [
    "# !pip install optuna==2.8.0;"
   ]
  },
  {
   "cell_type": "code",
   "execution_count": 19,
   "metadata": {},
   "outputs": [],
   "source": [
    "from sklearn.model_selection import train_test_split\n",
    "train_x, val_x, train_y, val_y = train_test_split(X_train, y_train, test_size=0.1)\n",
    "import optuna.integration.lightgbm as lgb\n",
    "dtrain = lgb.Dataset(train_x, label=train_y)\n",
    "dval = lgb.Dataset(val_x, label=val_y)\n",
    "params = {\n",
    "    \"objective\": \"regression\",\n",
    "    \"metric\": \"regression\",\n",
    "    \"verbosity\": -1,\n",
    "}\n"
   ]
  },
  {
   "cell_type": "code",
   "execution_count": 20,
   "metadata": {
    "tags": [
     "outputPrepend"
    ]
   },
   "outputs": [
    {
     "name": "stderr",
     "output_type": "stream",
     "text": [
      "\u001b[32m[I 2021-08-12 21:28:57,590]\u001b[0m A new study created in memory with name: no-name-46b1ad95-0f7c-4964-b50d-b3513a8fd6b5\u001b[0m\n",
      "feature_fraction, val_score: 1961388150.442426:  14%|#4        | 1/7 [00:02<00:12,  2.16s/it]\u001b[32m[I 2021-08-12 21:28:59,788]\u001b[0m Trial 0 finished with value: 1961388150.4424257 and parameters: {'feature_fraction': 1.0}. Best is trial 0 with value: 1961388150.4424257.\u001b[0m\n",
      "feature_fraction, val_score: 1959693958.979496:  29%|##8       | 2/7 [00:04<00:11,  2.38s/it]\u001b[32m[I 2021-08-12 21:29:02,317]\u001b[0m Trial 1 finished with value: 1959693958.9794962 and parameters: {'feature_fraction': 0.7}. Best is trial 1 with value: 1959693958.9794962.\u001b[0m\n",
      "feature_fraction, val_score: 1923826918.442115:  43%|####2     | 3/7 [00:08<00:12,  3.06s/it]\u001b[32m[I 2021-08-12 21:29:06,187]\u001b[0m Trial 2 finished with value: 1923826918.4421153 and parameters: {'feature_fraction': 0.8999999999999999}. Best is trial 2 with value: 1923826918.4421153.\u001b[0m\n",
      "feature_fraction, val_score: 1923826918.442115:  57%|#####7    | 4/7 [00:11<00:09,  3.05s/it]\u001b[32m[I 2021-08-12 21:29:09,235]\u001b[0m Trial 3 finished with value: 1935542284.5841484 and parameters: {'feature_fraction': 0.6}. Best is trial 2 with value: 1923826918.4421153.\u001b[0m\n",
      "feature_fraction, val_score: 1923826918.442115:  71%|#######1  | 5/7 [00:17<00:07,  3.97s/it]\u001b[32m[I 2021-08-12 21:29:14,817]\u001b[0m Trial 4 finished with value: 2237193094.198953 and parameters: {'feature_fraction': 0.4}. Best is trial 2 with value: 1923826918.4421153.\u001b[0m\n",
      "feature_fraction, val_score: 1923826918.442115:  86%|########5 | 6/7 [00:22<00:04,  4.27s/it]\u001b[32m[I 2021-08-12 21:29:19,667]\u001b[0m Trial 5 finished with value: 1959693958.9794967 and parameters: {'feature_fraction': 0.8}. Best is trial 2 with value: 1923826918.4421153.\u001b[0m\n",
      "feature_fraction, val_score: 1923826918.442115: 100%|##########| 7/7 [00:26<00:00,  4.38s/it]\u001b[32m[I 2021-08-12 21:29:24,287]\u001b[0m Trial 6 finished with value: 1988198059.9532917 and parameters: {'feature_fraction': 0.5}. Best is trial 2 with value: 1923826918.4421153.\u001b[0m\n",
      "feature_fraction, val_score: 1923826918.442115: 100%|##########| 7/7 [00:26<00:00,  3.81s/it]\n",
      "num_leaves, val_score: 1909760725.486306:   5%|5         | 1/20 [00:11<03:45, 11.86s/it]\u001b[32m[I 2021-08-12 21:29:36,173]\u001b[0m Trial 7 finished with value: 1909760725.486306 and parameters: {'num_leaves': 49}. Best is trial 7 with value: 1909760725.486306.\u001b[0m\n",
      "num_leaves, val_score: 1893602110.446437:  10%|#         | 2/20 [00:17<02:27,  8.17s/it]\u001b[32m[I 2021-08-12 21:29:41,758]\u001b[0m Trial 8 finished with value: 1893602110.4464366 and parameters: {'num_leaves': 25}. Best is trial 8 with value: 1893602110.4464366.\u001b[0m\n",
      "num_leaves, val_score: 1893602110.446437:  15%|#5        | 3/20 [00:28<02:43,  9.64s/it]\u001b[32m[I 2021-08-12 21:29:53,150]\u001b[0m Trial 9 finished with value: 1912380397.1371074 and parameters: {'num_leaves': 153}. Best is trial 8 with value: 1893602110.4464366.\u001b[0m\n",
      "num_leaves, val_score: 1893602110.446437:  20%|##        | 4/20 [00:34<02:06,  7.88s/it]\u001b[32m[I 2021-08-12 21:29:58,336]\u001b[0m Trial 10 finished with value: 1967375619.2597315 and parameters: {'num_leaves': 15}. Best is trial 8 with value: 1893602110.4464366.\u001b[0m\n",
      "num_leaves, val_score: 1893602110.446437:  25%|##5       | 5/20 [00:52<02:58, 11.87s/it]\u001b[32m[I 2021-08-12 21:30:17,285]\u001b[0m Trial 11 finished with value: 1927844271.0899227 and parameters: {'num_leaves': 191}. Best is trial 8 with value: 1893602110.4464366.\u001b[0m\n",
      "num_leaves, val_score: 1893602110.446437:  30%|###       | 6/20 [01:06<02:51, 12.27s/it]\u001b[32m[I 2021-08-12 21:30:30,325]\u001b[0m Trial 12 finished with value: 1899507608.1924043 and parameters: {'num_leaves': 129}. Best is trial 8 with value: 1893602110.4464366.\u001b[0m\n",
      "num_leaves, val_score: 1893602110.446437:  35%|###5      | 7/20 [01:12<02:14, 10.35s/it]\u001b[32m[I 2021-08-12 21:30:36,715]\u001b[0m Trial 13 finished with value: 1914457236.300789 and parameters: {'num_leaves': 110}. Best is trial 8 with value: 1893602110.4464366.\u001b[0m\n",
      "num_leaves, val_score: 1893602110.446437:  40%|####      | 8/20 [01:33<02:46, 13.89s/it]\u001b[32m[I 2021-08-12 21:30:58,207]\u001b[0m Trial 14 finished with value: 1900862950.0439188 and parameters: {'num_leaves': 201}. Best is trial 8 with value: 1893602110.4464366.\u001b[0m\n",
      "num_leaves, val_score: 1893602110.446437:  45%|####5     | 9/20 [01:43<02:18, 12.61s/it]\u001b[32m[I 2021-08-12 21:31:08,003]\u001b[0m Trial 15 finished with value: 1924633212.447516 and parameters: {'num_leaves': 26}. Best is trial 8 with value: 1893602110.4464366.\u001b[0m\n",
      "num_leaves, val_score: 1893602110.446437:  50%|#####     | 10/20 [01:47<01:38,  9.83s/it]\u001b[32m[I 2021-08-12 21:31:11,597]\u001b[0m Trial 16 finished with value: 1923826918.4421153 and parameters: {'num_leaves': 31}. Best is trial 8 with value: 1893602110.4464366.\u001b[0m\n",
      "num_leaves, val_score: 1893602110.446437:  55%|#####5    | 11/20 [01:54<01:21,  9.03s/it]\u001b[32m[I 2021-08-12 21:31:18,802]\u001b[0m Trial 17 finished with value: 1926492416.6653154 and parameters: {'num_leaves': 73}. Best is trial 8 with value: 1893602110.4464366.\u001b[0m\n",
      "num_leaves, val_score: 1866168216.164035:  60%|######    | 12/20 [02:04<01:14,  9.35s/it]\u001b[32m[I 2021-08-12 21:31:28,884]\u001b[0m Trial 18 finished with value: 1866168216.164035 and parameters: {'num_leaves': 122}. Best is trial 18 with value: 1866168216.164035.\u001b[0m\n",
      "num_leaves, val_score: 1866168216.164035:  65%|######5   | 13/20 [02:16<01:10, 10.14s/it]\u001b[32m[I 2021-08-12 21:31:40,859]\u001b[0m Trial 19 finished with value: 1916479244.3534958 and parameters: {'num_leaves': 82}. Best is trial 18 with value: 1866168216.164035.\u001b[0m\n",
      "num_leaves, val_score: 1866168216.164035:  70%|#######   | 14/20 [02:34<01:14, 12.40s/it]\u001b[32m[I 2021-08-12 21:31:58,472]\u001b[0m Trial 20 finished with value: 1915145777.7969475 and parameters: {'num_leaves': 238}. Best is trial 18 with value: 1866168216.164035.\u001b[0m\n",
      "num_leaves, val_score: 1866168216.164035:  75%|#######5  | 15/20 [02:35<00:44,  8.92s/it]\u001b[32m[I 2021-08-12 21:31:59,320]\u001b[0m Trial 21 finished with value: 3301372834.445037 and parameters: {'num_leaves': 2}. Best is trial 18 with value: 1866168216.164035.\u001b[0m\n",
      "num_leaves, val_score: 1866168216.164035:  80%|########  | 16/20 [02:43<00:35,  8.77s/it]\u001b[32m[I 2021-08-12 21:32:07,734]\u001b[0m Trial 22 finished with value: 1945937902.6664844 and parameters: {'num_leaves': 156}. Best is trial 18 with value: 1866168216.164035.\u001b[0m\n",
      "num_leaves, val_score: 1866168216.164035:  85%|########5 | 17/20 [02:57<00:31, 10.39s/it]\u001b[32m[I 2021-08-12 21:32:21,885]\u001b[0m Trial 23 finished with value: 1897968424.186267 and parameters: {'num_leaves': 91}. Best is trial 18 with value: 1866168216.164035.\u001b[0m\n",
      "num_leaves, val_score: 1866168216.164035:  90%|######### | 18/20 [03:01<00:17,  8.50s/it]\u001b[32m[I 2021-08-12 21:32:26,009]\u001b[0m Trial 24 finished with value: 1886768541.069841 and parameters: {'num_leaves': 53}. Best is trial 18 with value: 1866168216.164035.\u001b[0m\n",
      "num_leaves, val_score: 1866168216.164035:  95%|#########5| 19/20 [03:05<00:07,  7.23s/it]\u001b[32m[I 2021-08-12 21:32:30,288]\u001b[0m Trial 25 finished with value: 1893552453.049502 and parameters: {'num_leaves': 54}. Best is trial 18 with value: 1866168216.164035.\u001b[0m\n",
      "num_leaves, val_score: 1866168216.164035: 100%|##########| 20/20 [03:14<00:00,  7.66s/it]\u001b[32m[I 2021-08-12 21:32:38,928]\u001b[0m Trial 26 finished with value: 1930159275.287451 and parameters: {'num_leaves': 124}. Best is trial 18 with value: 1866168216.164035.\u001b[0m\n",
      "num_leaves, val_score: 1866168216.164035: 100%|##########| 20/20 [03:14<00:00,  9.73s/it]\n",
      "bagging, val_score: 1866168216.164035:  10%|#         | 1/10 [00:12<01:51, 12.34s/it]\u001b[32m[I 2021-08-12 21:32:51,319]\u001b[0m Trial 27 finished with value: 2226447935.929949 and parameters: {'bagging_fraction': 0.4348942073647856, 'bagging_freq': 3}. Best is trial 27 with value: 2226447935.929949.\u001b[0m\n",
      "bagging, val_score: 1866168216.164035:  20%|##        | 2/10 [00:21<01:22, 10.26s/it]\u001b[32m[I 2021-08-12 21:33:00,132]\u001b[0m Trial 28 finished with value: 2047448708.567457 and parameters: {'bagging_fraction': 0.522491146991637, 'bagging_freq': 4}. Best is trial 28 with value: 2047448708.567457.\u001b[0m\n",
      "bagging, val_score: 1866168216.164035:  30%|###       | 3/10 [00:30<01:08,  9.74s/it]\u001b[32m[I 2021-08-12 21:33:09,241]\u001b[0m Trial 29 finished with value: 2208782213.328473 and parameters: {'bagging_fraction': 0.5407390333877419, 'bagging_freq': 7}. Best is trial 28 with value: 2047448708.567457.\u001b[0m\n",
      "bagging, val_score: 1866168216.164035:  40%|####      | 4/10 [00:37<00:53,  8.84s/it]\u001b[32m[I 2021-08-12 21:33:16,696]\u001b[0m Trial 30 finished with value: 1981019323.367325 and parameters: {'bagging_fraction': 0.9034329988074628, 'bagging_freq': 6}. Best is trial 30 with value: 1981019323.367325.\u001b[0m\n",
      "bagging, val_score: 1866168216.164035:  50%|#####     | 5/10 [00:46<00:43,  8.65s/it]\u001b[32m[I 2021-08-12 21:33:25,005]\u001b[0m Trial 31 finished with value: 2049529460.907788 and parameters: {'bagging_fraction': 0.7171693778212943, 'bagging_freq': 5}. Best is trial 30 with value: 1981019323.367325.\u001b[0m\n",
      "bagging, val_score: 1866168216.164035:  60%|######    | 6/10 [00:53<00:33,  8.31s/it]\u001b[32m[I 2021-08-12 21:33:32,668]\u001b[0m Trial 32 finished with value: 2264022325.9930034 and parameters: {'bagging_fraction': 0.43045359107371695, 'bagging_freq': 3}. Best is trial 30 with value: 1981019323.367325.\u001b[0m\n",
      "bagging, val_score: 1866168216.164035:  70%|#######   | 7/10 [01:01<00:24,  8.06s/it]\u001b[32m[I 2021-08-12 21:33:40,205]\u001b[0m Trial 33 finished with value: 2187533763.495785 and parameters: {'bagging_fraction': 0.5150727650965822, 'bagging_freq': 7}. Best is trial 30 with value: 1981019323.367325.\u001b[0m\n",
      "bagging, val_score: 1866168216.164035:  80%|########  | 8/10 [01:10<00:16,  8.29s/it]\u001b[32m[I 2021-08-12 21:33:48,992]\u001b[0m Trial 34 finished with value: 2195055434.15977 and parameters: {'bagging_fraction': 0.49821116144311656, 'bagging_freq': 7}. Best is trial 30 with value: 1981019323.367325.\u001b[0m\n",
      "bagging, val_score: 1866168216.164035:  90%|######### | 9/10 [01:18<00:08,  8.20s/it]\u001b[32m[I 2021-08-12 21:33:56,992]\u001b[0m Trial 35 finished with value: 2120746509.002798 and parameters: {'bagging_fraction': 0.4779649667796321, 'bagging_freq': 3}. Best is trial 30 with value: 1981019323.367325.\u001b[0m\n",
      "bagging, val_score: 1866168216.164035: 100%|##########| 10/10 [01:24<00:00,  7.77s/it]\u001b[32m[I 2021-08-12 21:34:03,812]\u001b[0m Trial 36 finished with value: 1948370918.3509336 and parameters: {'bagging_fraction': 0.9410977830175267, 'bagging_freq': 1}. Best is trial 36 with value: 1948370918.3509336.\u001b[0m\n",
      "bagging, val_score: 1866168216.164035: 100%|##########| 10/10 [01:24<00:00,  8.48s/it]\n",
      "feature_fraction_stage2, val_score: 1866168216.164035:  17%|#6        | 1/6 [00:06<00:34,  6.82s/it]\u001b[32m[I 2021-08-12 21:34:10,653]\u001b[0m Trial 37 finished with value: 1909783233.1033392 and parameters: {'feature_fraction': 0.9799999999999999}. Best is trial 37 with value: 1909783233.1033392.\u001b[0m\n",
      "feature_fraction_stage2, val_score: 1866168216.164035:  33%|###3      | 2/6 [00:13<00:26,  6.69s/it]\u001b[32m[I 2021-08-12 21:34:17,259]\u001b[0m Trial 38 finished with value: 1866168216.1640353 and parameters: {'feature_fraction': 0.9159999999999999}. Best is trial 38 with value: 1866168216.1640353.\u001b[0m\n",
      "feature_fraction_stage2, val_score: 1866168216.164035:  50%|#####     | 3/6 [00:21<00:21,  7.30s/it]\u001b[32m[I 2021-08-12 21:34:25,288]\u001b[0m Trial 39 finished with value: 1866168216.164035 and parameters: {'feature_fraction': 0.82}. Best is trial 39 with value: 1866168216.164035.\u001b[0m\n",
      "feature_fraction_stage2, val_score: 1866168216.164035:  67%|######6   | 4/6 [00:27<00:13,  6.99s/it]\u001b[32m[I 2021-08-12 21:34:31,785]\u001b[0m Trial 40 finished with value: 1866168216.164035 and parameters: {'feature_fraction': 0.852}. Best is trial 39 with value: 1866168216.164035.\u001b[0m\n",
      "feature_fraction_stage2, val_score: 1866168216.164035:  83%|########3 | 5/6 [00:36<00:07,  7.41s/it]\u001b[32m[I 2021-08-12 21:34:39,941]\u001b[0m Trial 41 finished with value: 1866168216.164035 and parameters: {'feature_fraction': 0.8839999999999999}. Best is trial 39 with value: 1866168216.164035.\u001b[0m\n",
      "feature_fraction_stage2, val_score: 1866168216.164035: 100%|##########| 6/6 [00:44<00:00,  7.75s/it]\u001b[32m[I 2021-08-12 21:34:48,352]\u001b[0m Trial 42 finished with value: 1909783233.1033392 and parameters: {'feature_fraction': 0.948}. Best is trial 39 with value: 1866168216.164035.\u001b[0m\n",
      "feature_fraction_stage2, val_score: 1866168216.164035: 100%|##########| 6/6 [00:44<00:00,  7.42s/it]\n",
      "regularization_factors, val_score: 1866168216.164035:   5%|5         | 1/20 [00:07<02:29,  7.85s/it]\u001b[32m[I 2021-08-12 21:34:56,223]\u001b[0m Trial 43 finished with value: 1899009420.0243478 and parameters: {'lambda_l1': 0.0014127541304345857, 'lambda_l2': 0.22374000194862534}. Best is trial 43 with value: 1899009420.0243478.\u001b[0m\n",
      "regularization_factors, val_score: 1866168216.164035:  10%|#         | 2/20 [00:15<02:14,  7.47s/it]\u001b[32m[I 2021-08-12 21:35:03,428]\u001b[0m Trial 44 finished with value: 1867133014.62294 and parameters: {'lambda_l1': 0.03844784585753986, 'lambda_l2': 0.00018061829598451463}. Best is trial 44 with value: 1867133014.62294.\u001b[0m\n",
      "regularization_factors, val_score: 1862347751.563527:  15%|#5        | 3/20 [00:22<02:07,  7.51s/it]\u001b[32m[I 2021-08-12 21:35:10,983]\u001b[0m Trial 45 finished with value: 1862347751.563527 and parameters: {'lambda_l1': 0.17221202238015665, 'lambda_l2': 0.00025519456319286597}. Best is trial 45 with value: 1862347751.563527.\u001b[0m\n",
      "regularization_factors, val_score: 1862347751.563527:  20%|##        | 4/20 [00:29<01:56,  7.29s/it]\u001b[32m[I 2021-08-12 21:35:17,943]\u001b[0m Trial 46 finished with value: 1866168215.2466798 and parameters: {'lambda_l1': 1.1162378906196939e-07, 'lambda_l2': 2.3517586151003225e-07}. Best is trial 45 with value: 1862347751.563527.\u001b[0m\n",
      "regularization_factors, val_score: 1862347751.563527:  25%|##5       | 5/20 [00:39<02:03,  8.23s/it]\u001b[32m[I 2021-08-12 21:35:27,834]\u001b[0m Trial 47 finished with value: 1866168215.2750273 and parameters: {'lambda_l1': 8.118613275023769e-06, 'lambda_l2': 2.2125899197414973e-07}. Best is trial 45 with value: 1862347751.563527.\u001b[0m\n",
      "regularization_factors, val_score: 1862347751.563527:  30%|###       | 6/20 [00:50<02:08,  9.19s/it]\u001b[32m[I 2021-08-12 21:35:38,881]\u001b[0m Trial 48 finished with value: 1866168214.4534495 and parameters: {'lambda_l1': 3.650657666456404e-06, 'lambda_l2': 5.551789380059054e-07}. Best is trial 45 with value: 1862347751.563527.\u001b[0m\n",
      "regularization_factors, val_score: 1862347751.563527:  35%|###5      | 7/20 [00:57<01:51,  8.56s/it]\u001b[32m[I 2021-08-12 21:35:46,142]\u001b[0m Trial 49 finished with value: 1894359167.4235432 and parameters: {'lambda_l1': 0.6834643786787952, 'lambda_l2': 0.0005042843753004482}. Best is trial 45 with value: 1862347751.563527.\u001b[0m\n",
      "regularization_factors, val_score: 1862347751.563527:  40%|####      | 8/20 [01:04<01:35,  7.95s/it]\u001b[32m[I 2021-08-12 21:35:52,804]\u001b[0m Trial 50 finished with value: 1866168212.9993303 and parameters: {'lambda_l1': 0.00016032873004682006, 'lambda_l2': 1.0453125221176078e-06}. Best is trial 45 with value: 1862347751.563527.\u001b[0m\n",
      "regularization_factors, val_score: 1862347751.563527:  45%|####5     | 9/20 [01:11<01:22,  7.54s/it]\u001b[32m[I 2021-08-12 21:35:59,443]\u001b[0m Trial 51 finished with value: 1892611870.5699668 and parameters: {'lambda_l1': 0.051377714337184646, 'lambda_l2': 0.05419859107292369}. Best is trial 45 with value: 1862347751.563527.\u001b[0m\n",
      "regularization_factors, val_score: 1862347751.563527:  50%|#####     | 10/20 [01:17<01:13,  7.33s/it]\u001b[32m[I 2021-08-12 21:36:06,284]\u001b[0m Trial 52 finished with value: 1866168211.9443643 and parameters: {'lambda_l1': 1.1485671686518937e-06, 'lambda_l2': 1.4100757187184286e-06}. Best is trial 45 with value: 1862347751.563527.\u001b[0m\n",
      "regularization_factors, val_score: 1862347751.563527:  55%|#####5    | 11/20 [01:25<01:06,  7.36s/it]\u001b[32m[I 2021-08-12 21:36:13,725]\u001b[0m Trial 53 finished with value: 1885586770.2273645 and parameters: {'lambda_l1': 4.580147889294802, 'lambda_l2': 0.0005018959196271982}. Best is trial 45 with value: 1862347751.563527.\u001b[0m\n",
      "regularization_factors, val_score: 1862347751.563527:  60%|######    | 12/20 [01:31<00:56,  7.02s/it]\u001b[32m[I 2021-08-12 21:36:19,979]\u001b[0m Trial 54 finished with value: 1866168157.8088048 and parameters: {'lambda_l1': 1.434301476741782e-08, 'lambda_l2': 1.8012113848059015e-05}. Best is trial 45 with value: 1862347751.563527.\u001b[0m\n",
      "regularization_factors, val_score: 1862347751.563527:  65%|######5   | 13/20 [01:38<00:48,  6.96s/it]\u001b[32m[I 2021-08-12 21:36:26,789]\u001b[0m Trial 55 finished with value: 1866168172.4661086 and parameters: {'lambda_l1': 2.8590447974532532e-08, 'lambda_l2': 1.3570074139942467e-05}. Best is trial 45 with value: 1862347751.563527.\u001b[0m\n",
      "regularization_factors, val_score: 1862347751.563527:  70%|#######   | 14/20 [01:44<00:40,  6.78s/it]\u001b[32m[I 2021-08-12 21:36:33,156]\u001b[0m Trial 56 finished with value: 1929762960.4500725 and parameters: {'lambda_l1': 9.874299239326142, 'lambda_l2': 0.011250132690468205}. Best is trial 45 with value: 1862347751.563527.\u001b[0m\n",
      "regularization_factors, val_score: 1862347751.563527:  75%|#######5  | 15/20 [01:51<00:33,  6.68s/it]\u001b[32m[I 2021-08-12 21:36:39,605]\u001b[0m Trial 57 finished with value: 1866168145.853947 and parameters: {'lambda_l1': 0.001457467132871678, 'lambda_l2': 2.1471698394126437e-05}. Best is trial 45 with value: 1862347751.563527.\u001b[0m\n",
      "regularization_factors, val_score: 1862347751.563527:  80%|########  | 16/20 [01:57<00:26,  6.57s/it]\u001b[32m[I 2021-08-12 21:36:45,923]\u001b[0m Trial 58 finished with value: 1866168046.9808419 and parameters: {'lambda_l1': 0.0011582433705743624, 'lambda_l2': 5.158343573053873e-05}. Best is trial 45 with value: 1862347751.563527.\u001b[0m\n",
      "regularization_factors, val_score: 1862347751.563527:  85%|########5 | 17/20 [02:05<00:20,  6.85s/it]\u001b[32m[I 2021-08-12 21:36:53,433]\u001b[0m Trial 59 finished with value: 1869255015.1998665 and parameters: {'lambda_l1': 0.0437753701485812, 'lambda_l2': 7.728496590262199}. Best is trial 45 with value: 1862347751.563527.\u001b[0m\n",
      "regularization_factors, val_score: 1862347751.563527:  90%|######### | 18/20 [02:11<00:13,  6.79s/it]\u001b[32m[I 2021-08-12 21:37:00,080]\u001b[0m Trial 60 finished with value: 1866168215.8948646 and parameters: {'lambda_l1': 0.0002464476399548371, 'lambda_l2': 1.305866123493045e-08}. Best is trial 45 with value: 1862347751.563527.\u001b[0m\n",
      "regularization_factors, val_score: 1860040693.310331:  95%|#########5| 19/20 [02:18<00:06,  6.66s/it]\u001b[32m[I 2021-08-12 21:37:06,434]\u001b[0m Trial 61 finished with value: 1860040693.3103309 and parameters: {'lambda_l1': 0.7465543891293522, 'lambda_l2': 0.00286148358308546}. Best is trial 61 with value: 1860040693.3103309.\u001b[0m\n",
      "regularization_factors, val_score: 1860040693.310331: 100%|##########| 20/20 [02:24<00:00,  6.64s/it]\u001b[32m[I 2021-08-12 21:37:13,031]\u001b[0m Trial 62 finished with value: 1919199084.8296423 and parameters: {'lambda_l1': 0.4541623636884782, 'lambda_l2': 0.005250499353309728}. Best is trial 61 with value: 1860040693.3103309.\u001b[0m\n",
      "regularization_factors, val_score: 1860040693.310331: 100%|##########| 20/20 [02:24<00:00,  7.23s/it]\n",
      "min_data_in_leaf, val_score: 1860040693.310331:  20%|##        | 1/5 [00:07<00:28,  7.13s/it]\u001b[32m[I 2021-08-12 21:37:20,192]\u001b[0m Trial 63 finished with value: 1922926466.623347 and parameters: {'min_child_samples': 25}. Best is trial 63 with value: 1922926466.623347.\u001b[0m\n",
      "min_data_in_leaf, val_score: 1860040693.310331:  40%|####      | 2/5 [00:14<00:21,  7.16s/it]\u001b[32m[I 2021-08-12 21:37:27,374]\u001b[0m Trial 64 finished with value: 1989706958.6761992 and parameters: {'min_child_samples': 100}. Best is trial 63 with value: 1922926466.623347.\u001b[0m\n",
      "min_data_in_leaf, val_score: 1807874616.779958:  60%|######    | 3/5 [00:21<00:14,  7.12s/it]\u001b[32m[I 2021-08-12 21:37:34,441]\u001b[0m Trial 65 finished with value: 1807874616.7799582 and parameters: {'min_child_samples': 5}. Best is trial 65 with value: 1807874616.7799582.\u001b[0m\n",
      "min_data_in_leaf, val_score: 1807874616.779958:  80%|########  | 4/5 [00:29<00:07,  7.41s/it]\u001b[32m[I 2021-08-12 21:37:42,305]\u001b[0m Trial 66 finished with value: 1982448779.0409832 and parameters: {'min_child_samples': 50}. Best is trial 65 with value: 1807874616.7799582.\u001b[0m\n",
      "min_data_in_leaf, val_score: 1807874616.779958: 100%|##########| 5/5 [00:36<00:00,  7.31s/it]\u001b[32m[I 2021-08-12 21:37:49,432]\u001b[0m Trial 67 finished with value: 1903338404.5809317 and parameters: {'min_child_samples': 10}. Best is trial 65 with value: 1807874616.7799582.\u001b[0m\n",
      "min_data_in_leaf, val_score: 1807874616.779958: 100%|##########| 5/5 [00:36<00:00,  7.28s/it]"
     ]
    },
    {
     "name": "stdout",
     "output_type": "stream",
     "text": [
      "CPU times: user 1h 2min 37s, sys: 31.5 s, total: 1h 3min 9s\n",
      "Wall time: 8min 51s\n"
     ]
    },
    {
     "name": "stderr",
     "output_type": "stream",
     "text": [
      "\n"
     ]
    }
   ],
   "source": [
    "%%time\n",
    "model = lgb.train(params, dtrain, valid_sets=[dtrain, dval], verbose_eval=10000)        \n"
   ]
  },
  {
   "cell_type": "markdown",
   "metadata": {},
   "source": []
  },
  {
   "cell_type": "code",
   "execution_count": 21,
   "metadata": {
    "tags": []
   },
   "outputs": [
    {
     "name": "stdout",
     "output_type": "stream",
     "text": [
      "Optuna LightGBM Tuner r2 = 0.8449953275302208\n"
     ]
    }
   ],
   "source": [
    "y_pred = model.predict(X_test)\n",
    "from flaml.ml import sklearn_metric_loss_score\n",
    "print('Optuna LightGBM Tuner r2', '=', 1 - sklearn_metric_loss_score('r2', y_pred, y_test))"
   ]
  },
  {
   "cell_type": "markdown",
   "metadata": {},
   "source": [
    "## 4. Add a customized LightGBM learner in FLAML\n",
    "The native API of LightGBM allows one to specify a custom objective function in the model constructor. You can easily enable it by adding a customized LightGBM learner in FLAML. In the following example, we show how to add such a customized LightGBM learner with a custom objective function."
   ]
  },
  {
   "cell_type": "markdown",
   "metadata": {},
   "source": [
    "### Create a customized LightGBM learner with a custom objective function"
   ]
  },
  {
   "cell_type": "code",
   "execution_count": 22,
   "metadata": {},
   "outputs": [],
   "source": [
    "\n",
    "import numpy as np \n",
    "\n",
    "''' define your customized objective function '''\n",
    "def my_loss_obj(y_true, y_pred):\n",
    "    c = 0.5\n",
    "    residual = y_pred - y_true\n",
    "    grad = c * residual /(np.abs(residual) + c)\n",
    "    hess = c ** 2 / (np.abs(residual) + c) ** 2\n",
    "    # rmse grad and hess\n",
    "    grad_rmse = residual\n",
    "    hess_rmse = 1.0\n",
    "    \n",
    "    # mae grad and hess\n",
    "    grad_mae = np.array(residual)\n",
    "    grad_mae[grad_mae > 0] = 1.\n",
    "    grad_mae[grad_mae <= 0] = -1.\n",
    "    hess_mae = 1.0\n",
    "\n",
    "    coef = [0.4, 0.3, 0.3]\n",
    "    return coef[0] * grad + coef[1] * grad_rmse + coef[2] * grad_mae, \\\n",
    "        coef[0] * hess + coef[1] * hess_rmse + coef[2] * hess_mae\n",
    "\n",
    "\n",
    "from flaml.model import LGBMEstimator\n",
    "\n",
    "''' create a customized LightGBM learner class with your objective function '''\n",
    "class MyLGBM(LGBMEstimator):\n",
    "    '''LGBMEstimator with my_loss_obj as the objective function\n",
    "    '''\n",
    "\n",
    "    def __init__(self, **params):\n",
    "        super().__init__(objective=my_loss_obj, **params)"
   ]
  },
  {
   "cell_type": "markdown",
   "metadata": {},
   "source": [
    "### Add the customized learner in FLAML"
   ]
  },
  {
   "cell_type": "code",
   "execution_count": 23,
   "metadata": {
    "tags": []
   },
   "outputs": [
    {
     "name": "stderr",
     "output_type": "stream",
     "text": [
      "[flaml.automl: 08-12 21:37:52] {1121} INFO - Evaluation method: cv\n",
      "[flaml.automl: 08-12 21:37:52] {628} INFO - Using RepeatedKFold\n",
      "[flaml.automl: 08-12 21:37:52] {1142} INFO - Minimizing error metric: 1-r2\n",
      "[flaml.automl: 08-12 21:37:52] {1162} INFO - List of ML learners in AutoML Run: ['my_lgbm']\n",
      "[flaml.automl: 08-12 21:37:52] {1252} INFO - iteration 0, current learner my_lgbm\n",
      "[flaml.automl: 08-12 21:37:53] {1405} INFO -  at 0.4s,\tbest my_lgbm's error=2.9888,\tbest my_lgbm's error=2.9888\n",
      "[flaml.automl: 08-12 21:37:53] {1252} INFO - iteration 1, current learner my_lgbm\n",
      "[flaml.automl: 08-12 21:37:53] {1405} INFO -  at 0.6s,\tbest my_lgbm's error=2.9888,\tbest my_lgbm's error=2.9888\n",
      "[flaml.automl: 08-12 21:37:53] {1252} INFO - iteration 2, current learner my_lgbm\n",
      "[flaml.automl: 08-12 21:37:53] {1405} INFO -  at 0.9s,\tbest my_lgbm's error=1.7536,\tbest my_lgbm's error=1.7536\n",
      "[flaml.automl: 08-12 21:37:53] {1252} INFO - iteration 3, current learner my_lgbm\n",
      "[flaml.automl: 08-12 21:37:53] {1405} INFO -  at 1.1s,\tbest my_lgbm's error=0.4529,\tbest my_lgbm's error=0.4529\n",
      "[flaml.automl: 08-12 21:37:53] {1252} INFO - iteration 4, current learner my_lgbm\n",
      "[flaml.automl: 08-12 21:37:54] {1405} INFO -  at 1.3s,\tbest my_lgbm's error=0.4529,\tbest my_lgbm's error=0.4529\n",
      "[flaml.automl: 08-12 21:37:54] {1252} INFO - iteration 5, current learner my_lgbm\n",
      "[flaml.automl: 08-12 21:37:54] {1405} INFO -  at 1.5s,\tbest my_lgbm's error=0.4529,\tbest my_lgbm's error=0.4529\n",
      "[flaml.automl: 08-12 21:37:54] {1252} INFO - iteration 6, current learner my_lgbm\n",
      "[flaml.automl: 08-12 21:37:54] {1405} INFO -  at 1.8s,\tbest my_lgbm's error=0.3159,\tbest my_lgbm's error=0.3159\n",
      "[flaml.automl: 08-12 21:37:54] {1252} INFO - iteration 7, current learner my_lgbm\n",
      "[flaml.automl: 08-12 21:37:54] {1405} INFO -  at 2.1s,\tbest my_lgbm's error=0.2717,\tbest my_lgbm's error=0.2717\n",
      "[flaml.automl: 08-12 21:37:54] {1252} INFO - iteration 8, current learner my_lgbm\n",
      "[flaml.automl: 08-12 21:37:55] {1405} INFO -  at 2.4s,\tbest my_lgbm's error=0.2717,\tbest my_lgbm's error=0.2717\n",
      "[flaml.automl: 08-12 21:37:55] {1252} INFO - iteration 9, current learner my_lgbm\n",
      "[flaml.automl: 08-12 21:37:55] {1405} INFO -  at 2.8s,\tbest my_lgbm's error=0.2073,\tbest my_lgbm's error=0.2073\n",
      "[flaml.automl: 08-12 21:37:55] {1252} INFO - iteration 10, current learner my_lgbm\n",
      "[flaml.automl: 08-12 21:37:55] {1405} INFO -  at 3.0s,\tbest my_lgbm's error=0.2073,\tbest my_lgbm's error=0.2073\n",
      "[flaml.automl: 08-12 21:37:55] {1252} INFO - iteration 11, current learner my_lgbm\n",
      "[flaml.automl: 08-12 21:37:55] {1405} INFO -  at 3.2s,\tbest my_lgbm's error=0.2073,\tbest my_lgbm's error=0.2073\n",
      "[flaml.automl: 08-12 21:37:56] {1252} INFO - iteration 12, current learner my_lgbm\n",
      "[flaml.automl: 08-12 21:37:56] {1405} INFO -  at 3.8s,\tbest my_lgbm's error=0.1883,\tbest my_lgbm's error=0.1883\n",
      "[flaml.automl: 08-12 21:37:56] {1252} INFO - iteration 13, current learner my_lgbm\n",
      "[flaml.automl: 08-12 21:37:56] {1405} INFO -  at 4.2s,\tbest my_lgbm's error=0.1883,\tbest my_lgbm's error=0.1883\n",
      "[flaml.automl: 08-12 21:37:56] {1252} INFO - iteration 14, current learner my_lgbm\n",
      "[flaml.automl: 08-12 21:37:58] {1405} INFO -  at 5.3s,\tbest my_lgbm's error=0.1883,\tbest my_lgbm's error=0.1883\n",
      "[flaml.automl: 08-12 21:37:58] {1252} INFO - iteration 15, current learner my_lgbm\n",
      "[flaml.automl: 08-12 21:37:58] {1405} INFO -  at 5.9s,\tbest my_lgbm's error=0.1883,\tbest my_lgbm's error=0.1883\n",
      "[flaml.automl: 08-12 21:37:58] {1252} INFO - iteration 16, current learner my_lgbm\n",
      "[flaml.automl: 08-12 21:37:59] {1405} INFO -  at 6.9s,\tbest my_lgbm's error=0.1878,\tbest my_lgbm's error=0.1878\n",
      "[flaml.automl: 08-12 21:37:59] {1252} INFO - iteration 17, current learner my_lgbm\n",
      "[flaml.automl: 08-12 21:38:00] {1405} INFO -  at 7.3s,\tbest my_lgbm's error=0.1878,\tbest my_lgbm's error=0.1878\n",
      "[flaml.automl: 08-12 21:38:00] {1252} INFO - iteration 18, current learner my_lgbm\n",
      "[flaml.automl: 08-12 21:38:01] {1405} INFO -  at 9.1s,\tbest my_lgbm's error=0.1878,\tbest my_lgbm's error=0.1878\n",
      "[flaml.automl: 08-12 21:38:01] {1252} INFO - iteration 19, current learner my_lgbm\n",
      "[flaml.automl: 08-12 21:38:02] {1405} INFO -  at 9.4s,\tbest my_lgbm's error=0.1878,\tbest my_lgbm's error=0.1878\n",
      "[flaml.automl: 08-12 21:38:02] {1252} INFO - iteration 20, current learner my_lgbm\n",
      "[flaml.automl: 08-12 21:38:06] {1405} INFO -  at 13.7s,\tbest my_lgbm's error=0.1878,\tbest my_lgbm's error=0.1878\n",
      "[flaml.automl: 08-12 21:38:06] {1252} INFO - iteration 21, current learner my_lgbm\n",
      "[flaml.automl: 08-12 21:38:07] {1405} INFO -  at 14.3s,\tbest my_lgbm's error=0.1878,\tbest my_lgbm's error=0.1878\n",
      "[flaml.automl: 08-12 21:38:07] {1252} INFO - iteration 22, current learner my_lgbm\n",
      "[flaml.automl: 08-12 21:38:08] {1405} INFO -  at 15.5s,\tbest my_lgbm's error=0.1751,\tbest my_lgbm's error=0.1751\n",
      "[flaml.automl: 08-12 21:38:08] {1252} INFO - iteration 23, current learner my_lgbm\n",
      "[flaml.automl: 08-12 21:38:08] {1405} INFO -  at 16.2s,\tbest my_lgbm's error=0.1751,\tbest my_lgbm's error=0.1751\n",
      "[flaml.automl: 08-12 21:38:08] {1252} INFO - iteration 24, current learner my_lgbm\n",
      "[flaml.automl: 08-12 21:38:10] {1405} INFO -  at 17.8s,\tbest my_lgbm's error=0.1751,\tbest my_lgbm's error=0.1751\n",
      "[flaml.automl: 08-12 21:38:10] {1252} INFO - iteration 25, current learner my_lgbm\n",
      "[flaml.automl: 08-12 21:38:10] {1405} INFO -  at 18.1s,\tbest my_lgbm's error=0.1751,\tbest my_lgbm's error=0.1751\n",
      "[flaml.automl: 08-12 21:38:10] {1252} INFO - iteration 26, current learner my_lgbm\n",
      "[flaml.automl: 08-12 21:38:18] {1405} INFO -  at 25.8s,\tbest my_lgbm's error=0.1660,\tbest my_lgbm's error=0.1660\n",
      "[flaml.automl: 08-12 21:38:18] {1252} INFO - iteration 27, current learner my_lgbm\n",
      "[flaml.automl: 08-12 21:38:22] {1405} INFO -  at 29.5s,\tbest my_lgbm's error=0.1660,\tbest my_lgbm's error=0.1660\n",
      "[flaml.automl: 08-12 21:38:22] {1252} INFO - iteration 28, current learner my_lgbm\n",
      "[flaml.automl: 08-12 21:38:25] {1405} INFO -  at 32.4s,\tbest my_lgbm's error=0.1660,\tbest my_lgbm's error=0.1660\n",
      "[flaml.automl: 08-12 21:38:25] {1252} INFO - iteration 29, current learner my_lgbm\n",
      "[flaml.automl: 08-12 21:38:27] {1405} INFO -  at 34.8s,\tbest my_lgbm's error=0.1660,\tbest my_lgbm's error=0.1660\n",
      "[flaml.automl: 08-12 21:38:27] {1252} INFO - iteration 30, current learner my_lgbm\n",
      "[flaml.automl: 08-12 21:38:49] {1405} INFO -  at 56.7s,\tbest my_lgbm's error=0.1611,\tbest my_lgbm's error=0.1611\n",
      "[flaml.automl: 08-12 21:38:49] {1252} INFO - iteration 31, current learner my_lgbm\n",
      "[flaml.automl: 08-12 21:38:50] {1405} INFO -  at 57.7s,\tbest my_lgbm's error=0.1611,\tbest my_lgbm's error=0.1611\n",
      "[flaml.automl: 08-12 21:38:50] {1252} INFO - iteration 32, current learner my_lgbm\n",
      "[flaml.automl: 08-12 21:39:07] {1405} INFO -  at 75.1s,\tbest my_lgbm's error=0.1611,\tbest my_lgbm's error=0.1611\n",
      "[flaml.automl: 08-12 21:39:07] {1252} INFO - iteration 33, current learner my_lgbm\n",
      "[flaml.automl: 08-12 21:39:45] {1405} INFO -  at 112.5s,\tbest my_lgbm's error=0.1611,\tbest my_lgbm's error=0.1611\n",
      "[flaml.automl: 08-12 21:39:45] {1252} INFO - iteration 34, current learner my_lgbm\n",
      "[flaml.automl: 08-12 21:39:52] {1405} INFO -  at 120.2s,\tbest my_lgbm's error=0.1611,\tbest my_lgbm's error=0.1611\n",
      "[flaml.automl: 08-12 21:39:52] {1252} INFO - iteration 35, current learner my_lgbm\n",
      "[flaml.automl: 08-12 21:40:18] {1405} INFO -  at 146.0s,\tbest my_lgbm's error=0.1611,\tbest my_lgbm's error=0.1611\n",
      "[flaml.automl: 08-12 21:40:18] {1461} INFO - selected model: LGBMRegressor(colsample_bytree=0.7808828637589872,\n",
      "              learning_rate=0.1353935721742319, max_bin=256,\n",
      "              min_child_samples=112, n_estimators=1069, num_leaves=135,\n",
      "              objective=<function my_loss_obj at 0x7fd3979a5040>,\n",
      "              reg_alpha=0.003923158789997704, reg_lambda=4.093134402981548,\n",
      "              verbose=-1)\n",
      "[flaml.automl: 08-12 21:40:18] {1184} INFO - fit succeeded\n",
      "[flaml.automl: 08-12 21:40:18] {1185} INFO - Time taken to find the best model: 56.6591739654541\n"
     ]
    }
   ],
   "source": [
    "automl = AutoML()\n",
    "automl.add_learner(learner_name='my_lgbm', learner_class=MyLGBM)\n",
    "settings = {\n",
    "    \"time_budget\": 150,  # total running time in seconds\n",
    "    \"metric\": 'r2',  # primary metrics for regression can be chosen from: ['mae','mse','r2']\n",
    "    \"estimator_list\": ['my_lgbm',],  # list of ML learners; we tune lightgbm in this example\n",
    "    \"task\": 'regression',  # task type    \n",
    "    \"log_file_name\": 'houses_experiment_my_lgbm.log',  # flaml log file\n",
    "}\n",
    "automl.fit(X_train=X_train, y_train=y_train, **settings)"
   ]
  },
  {
   "cell_type": "code",
   "execution_count": 24,
   "metadata": {
    "tags": []
   },
   "outputs": [
    {
     "name": "stdout",
     "output_type": "stream",
     "text": [
      "Best hyperparmeter config: {'n_estimators': 1069, 'num_leaves': 135, 'min_child_samples': 112, 'learning_rate': 0.1353935721742319, 'subsample': 1.0, 'log_max_bin': 9, 'colsample_bytree': 0.7808828637589872, 'reg_alpha': 0.003923158789997704, 'reg_lambda': 4.093134402981548}\n",
      "Best r2 on validation data: 0.8389\n",
      "Training duration of best run: 21.89 s\n",
      "Predicted labels [144004.59232945 244728.76267583 142055.18306456 ... 188807.72145446\n",
      " 235921.97531295 287399.52640133]\n",
      "True labels 14740    136900.0\n",
      "10101    241300.0\n",
      "20566    200700.0\n",
      "2670      72500.0\n",
      "15709    460000.0\n",
      "           ...   \n",
      "13132    121200.0\n",
      "8228     137500.0\n",
      "3948     160900.0\n",
      "8522     227300.0\n",
      "16798    265600.0\n",
      "Name: median_house_value, Length: 5160, dtype: float64\n",
      "r2 = 0.8448624478693473\n",
      "mse = 2050686747.6576138\n",
      "mae = 30682.547208847514\n"
     ]
    }
   ],
   "source": [
    "print('Best hyperparmeter config:', automl.best_config)\n",
    "print('Best r2 on validation data: {0:.4g}'.format(1-automl.best_loss))\n",
    "print('Training duration of best run: {0:.4g} s'.format(automl.best_config_train_time))\n",
    "\n",
    "y_pred = automl.predict(X_test)\n",
    "print('Predicted labels', y_pred)\n",
    "print('True labels', y_test)\n",
    "\n",
    "from flaml.ml import sklearn_metric_loss_score\n",
    "print('r2', '=', 1 - sklearn_metric_loss_score('r2', y_pred, y_test))\n",
    "print('mse', '=', sklearn_metric_loss_score('mse', y_pred, y_test))\n",
    "print('mae', '=', sklearn_metric_loss_score('mae', y_pred, y_test))"
   ]
  }
 ],
 "metadata": {
  "interpreter": {
   "hash": "ea9f131eb1b7663628f6445553ba215a834e2f0b4d18774746f0f47938ce4671"
  },
  "kernelspec": {
   "display_name": "Python 3.8.0 64-bit ('test': conda)",
   "name": "python3"
  },
  "language_info": {
   "name": "python",
   "version": ""
  }
 },
 "nbformat": 4,
 "nbformat_minor": 2
}